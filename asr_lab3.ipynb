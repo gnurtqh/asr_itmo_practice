{
 "cells": [
  {
   "cell_type": "markdown",
   "id": "5970bd3f-7b36-46bc-bcb6-82c1f9ff36bc",
   "metadata": {},
   "source": [
    "# Акустические модели\n",
    "\n",
    "Акустическая модель - это часть системы автоматического распознавания речи, которая используется для преобразования аудиосигнала речи в последовательность фонем или других единиц речевого звука. Акустическая модель обучается на большом наборе речевых данных, чтобы определить, какие звуки соответствуют конкретным акустическим признакам в аудиосигнале. Эта модель может использоваться вместе с другими компонентами, такими как языковая модель и модель декодирования, чтобы достичь более точного распознавания речи.\n",
    "\n",
    "В данной работе мы сконцентрируемся на обучении нейросетевых акустических моделей с помощью библиотек torch и torchaudio. Для экспериментов будем использовать базу [TIMIT](https://catalog.ldc.upenn.edu/LDC93s1)"
   ]
  },
  {
   "cell_type": "code",
   "execution_count": 1,
   "id": "a8a7ba4f",
   "metadata": {},
   "outputs": [],
   "source": [
    "import numpy as np\n",
    "import time\n",
    "import torch\n",
    "import os\n",
    "from typing import List, Dict, Union, Set, Any\n",
    "from torch import nn\n",
    "from tqdm.auto import tqdm\n",
    "from torch.utils.data import Dataset, DataLoader\n",
    "from collections import defaultdict, Counter\n",
    "from pathlib import Path\n",
    "import pandas as pd\n",
    "import soundfile as sf\n",
    "import torchaudio\n",
    "import warnings\n",
    "\n",
    "import matplotlib.pyplot as plt\n",
    "%matplotlib inline\n",
    "from IPython import display\n",
    "import random"
   ]
  },
  {
   "cell_type": "markdown",
   "id": "5d611e67-aec1-4714-a722-865ec980d83d",
   "metadata": {},
   "source": [
    "# Загрузка датасета TIMIT"
   ]
  },
  {
   "cell_type": "markdown",
   "id": "1e498e1d-a102-42a3-bf67-7389d89bb483",
   "metadata": {},
   "source": [
    "Официальная страница датасета TIMIT \n",
    "\n",
    "Для простоты загрузки данных удобнее всего пользоваться копией датасета, выложенной на kaggle \n",
    "\n",
    "https://www.kaggle.com/datasets/mfekadu/darpa-timit-acousticphonetic-continuous-speech\n"
   ]
  },
  {
   "cell_type": "code",
   "execution_count": 2,
   "id": "5bb80729",
   "metadata": {},
   "outputs": [],
   "source": [
    "# !pip install kaggle"
   ]
  },
  {
   "cell_type": "code",
   "execution_count": 3,
   "id": "0e9e800e",
   "metadata": {},
   "outputs": [],
   "source": [
    "# https://github.com/Kaggle/kaggle-api - Docs kaggle \n",
    "# Simplest way: go to https://www.kaggle.com/settings , \"Create new token\" and move it into \"~/.kaggle\"\n",
    "\n",
    "# !kaggle datasets download -d mfekadu/darpa-timit-acousticphonetic-continuous-speech"
   ]
  },
  {
   "cell_type": "code",
   "execution_count": 4,
   "id": "c27ded70",
   "metadata": {},
   "outputs": [],
   "source": [
    "# !unzip -o -q darpa-timit-acousticphonetic-continuous-speech.zip -d timit/"
   ]
  },
  {
   "cell_type": "markdown",
   "id": "0bed5129-a418-463b-881b-8e0d10ac4ba7",
   "metadata": {},
   "source": [
    "# 1. Подготовка данных для обучения"
   ]
  },
  {
   "cell_type": "markdown",
   "id": "1d9f0891-77c1-4e55-a60d-89d5890796bc",
   "metadata": {},
   "source": [
    "TIMIT является одной из самых широко используемых баз данных для изучения систем автоматического распознавания речи. База данных TIMIT содержит произнесения предложений различными дикторами. Каждое произнесение сопровождается его словной и фонетической разметкой.\n",
    "\n",
    "Для обучения акустической модели нам в первую очередь интересна фонетическая разметка произнесений. Такая разметка сопоставляет фонемы, которые были произнесены диктором, с временными интервалами в записи. Такая разметка позволит нам обучить пофреймовый классификатор, который будет предсказывать сказанную фонему."
   ]
  },
  {
   "cell_type": "markdown",
   "id": "2df01d01-7bde-4236-8ce0-4983ba3b18e0",
   "metadata": {},
   "source": [
    "## 1.a. Загрузка базы с диска"
   ]
  },
  {
   "cell_type": "code",
   "execution_count": 5,
   "id": "b82d704a",
   "metadata": {},
   "outputs": [],
   "source": [
    "class TimitDataset(Dataset):\n",
    "    \"\"\"Загрузка TIMIT данных с диска\"\"\"\n",
    "    def __init__(self, data_path):\n",
    "        self.data_path = data_path\n",
    "        self.uri2wav = {}\n",
    "        self.uri2text = {}\n",
    "        self.uri2word_ali = {}\n",
    "        self.uri2phone_ali = {}\n",
    "        for d, _, fs in os.walk(data_path):\n",
    "            for f in fs:\n",
    "                full_path = f'{d}/{f}'\n",
    "                if f.endswith('.WAV'):\n",
    "                    # skip it. Use .wav instead\n",
    "                    pass\n",
    "                elif f.endswith('.wav'):\n",
    "                    stem = Path(f[:-4]).stem # .WAV.wav\n",
    "                    self.uri2wav[f'{d}/{stem}'] = full_path\n",
    "                elif f.endswith('.TXT'):\n",
    "                    stem = Path(f).stem\n",
    "                    self.uri2text[f'{d}/{stem}'] = full_path\n",
    "                elif f.endswith('.WRD'):\n",
    "                    stem = Path(f).stem\n",
    "                    self.uri2word_ali[f'{d}/{stem}'] = full_path\n",
    "                elif f.endswith('.PHN'):\n",
    "                    stem = Path(f).stem\n",
    "                    self.uri2phone_ali[f'{d}/{stem}'] = full_path\n",
    "                else:\n",
    "                    warnings.warn(f\"Unknown file type {full_path} . Skip it.\")\n",
    "        \n",
    "        self.uris = list(sorted(set(self.uri2wav.keys()) \\\n",
    "                                & set(self.uri2text.keys()) \\\n",
    "                                & set(self.uri2word_ali.keys()) \\\n",
    "                                &  set(self.uri2phone_ali.keys())\n",
    "                               ))\n",
    "        print(f\"Found {len(self.uris)} utterances in {self.data_path}. \", \n",
    "              f\"{len(self.uri2wav)} wavs, \", \n",
    "              f\"{len(self.uri2text)} texts, \",\n",
    "              f\"{len(self.uri2word_ali)} word alinments, \",\n",
    "             f\"{len(self.uri2phone_ali)} phone alignments\")\n",
    "    \n",
    "    def get_uri(self, index_or_uri: Union[str, int]):\n",
    "        if isinstance(index_or_uri, str):\n",
    "            uri = index_or_uri\n",
    "        else:\n",
    "            uri = self.uris[index_or_uri]\n",
    "        return uri\n",
    "    \n",
    "    \n",
    "    def get_audio(self, index_or_uri: Union[str, int]):\n",
    "        uri = self.get_uri(index_or_uri)\n",
    "        wav_path = self.uri2wav[uri]\n",
    "        wav_channels, sr = torchaudio.load(wav_path)\n",
    "        return wav_channels[0], sr \n",
    "        \n",
    "    def get_text(self, index_or_uri: Union[str, int]):\n",
    "        \"\"\" Return (start_sample, stop_sample, text)\"\"\"\n",
    "        uri = self.get_uri(index_or_uri)\n",
    "        txt_path = self.uri2text[uri]\n",
    "        with open(txt_path) as f:\n",
    "            start, stop, text = f.read().strip().split(maxsplit=2)\n",
    "            start, stop = int(start), int(stop)\n",
    "            assert start == 0, f\"{txt_path}\"\n",
    "        return start, stop, text\n",
    "    \n",
    "    def get_word_ali(self, index_or_uri):\n",
    "        \"\"\" Return [(start_sample, stop_sample, word), ...]\"\"\"\n",
    "        uri = self.get_uri(index_or_uri)\n",
    "        wrd_path = self.uri2word_ali[uri]\n",
    "        with open(wrd_path) as f:\n",
    "            words = [(int(start), int(stop), word) for start, stop, word in map(str.split, f.readlines())]\n",
    "        return words\n",
    "    \n",
    "    def get_phone_ali(self, index_or_uri):\n",
    "        \"\"\" Return [(start_sample, stop_sample, phone), ...]\"\"\"\n",
    "        uri = self.get_uri(index_or_uri)\n",
    "        ph_path = self.uri2phone_ali[uri]\n",
    "        with open(ph_path) as f:\n",
    "            phonemes = [(int(start), int(stop), ph) for start, stop, ph in map(str.split, f.readlines())]\n",
    "        return phonemes\n",
    "    \n",
    "    def __getitem__(self, index):\n",
    "        return {\"uri\": self.get_uri(index),\n",
    "                \"audio\": self.get_audio(index),\n",
    "                \"text\": self.get_text(index),\n",
    "                \"word_ali\": self.get_word_ali(index),\n",
    "                \"phone_ali\": self.get_phone_ali(index)}       \n",
    "\n",
    "    def __len__(self):\n",
    "        # TODO\n",
    "        # верните количество элементов в выборке \n",
    "        return len(self.uris)\n",
    "\n",
    "    def total_audio_samples(self) -> int:\n",
    "        #TODO\n",
    "        total = 0\n",
    "        for i in range(len(self.uri2wav)):\n",
    "            num_samples = self.get_audio(i)[0].shape[0]\n",
    "            total+=num_samples\n",
    "        return total\n",
    "\n",
    "    def total_num_words(self) -> int:\n",
    "        #TODO\n",
    "        total = 0\n",
    "        for i in range(len(self.uri2word_ali)):\n",
    "            num_words = len(self.get_word_ali(i))\n",
    "            total+=num_words\n",
    "        return total\n",
    "    \n",
    "    def total_num_phones(self) -> int:\n",
    "        #TODO\n",
    "        total = 0\n",
    "        for i in range(len(self.uri2phone_ali)):\n",
    "            num_phones = len(self.get_phone_ali(i))\n",
    "            total+=num_phones\n",
    "        return total\n",
    "    \n",
    "    def get_vocab(self) -> Set[str]:\n",
    "        #TODO\n",
    "        vocab = set()\n",
    "        for i in range(len(self.uri2word_ali)):\n",
    "            words = self.get_word_ali(i)\n",
    "            for word in words:\n",
    "                vocab.add(word[2])\n",
    "        return vocab\n",
    "\n",
    "    def get_phones(self) -> Set[str]:\n",
    "        #TODO\n",
    "        vocab = set()\n",
    "        for i in range(len(self.uri2phone_ali)):\n",
    "            phones = self.get_phone_ali(i)\n",
    "            for phone in phones:\n",
    "                vocab.add(phone[2])\n",
    "        return vocab\n",
    "\n",
    "    def phones_prior(self) -> Dict[str, float]:\n",
    "        #TODO\n",
    "        mapping = {}\n",
    "        num_phones = 0\n",
    "        for i in range(len(self.uri2phone_ali)):\n",
    "            phones = self.get_phone_ali(i)\n",
    "            num_phones+=len(phones)\n",
    "            for phone in phones:\n",
    "                if mapping.get(phone[2])!=None:\n",
    "                    mapping[phone[2]] += 1\n",
    "                else:\n",
    "                    mapping[phone[2]] = 1\n",
    "        for key in mapping.keys():\n",
    "            mapping[key] = mapping[key]/num_phones\n",
    "        return mapping\n",
    "        "
   ]
  },
  {
   "cell_type": "code",
   "execution_count": 6,
   "id": "1a4195f3-a0a6-4e13-83a2-6f96f0e99ee4",
   "metadata": {},
   "outputs": [
    {
     "name": "stdout",
     "output_type": "stream",
     "text": [
      "Found 1680 utterances in timit/data/TEST/.  1680 wavs,  1680 texts,  1680 word alinments,  1680 phone alignments\n",
      "Len\n",
      "Audio\n",
      "Words\n",
      "Phones\n",
      "Vocab\n",
      "Phones vocab\n",
      "Phones prior\n",
      "Test 1.a passed\n"
     ]
    }
   ],
   "source": [
    "def test_timit_dataset_stats():\n",
    "    test_ds = TimitDataset('timit/data/TEST/')\n",
    "\n",
    "    print(\"Len\")\n",
    "    assert len(test_ds) == 1680, f\"{len(test_ds)}\"\n",
    "\n",
    "    print(\"Audio\")\n",
    "    audio_len = test_ds.total_audio_samples()\n",
    "    assert audio_len == 82986452, f\"{audio_len}\"\n",
    "\n",
    "    print(\"Words\")\n",
    "    words_len = test_ds.total_num_words()\n",
    "    assert words_len == 14553, f\"{words_len}\"\n",
    "\n",
    "    print(\"Phones\")\n",
    "    phones_len = test_ds.total_num_phones()\n",
    "    assert phones_len == 64145, f\"{phones_len}\"\n",
    "\n",
    "    print(\"Vocab\")\n",
    "    vocab = test_ds.get_vocab()\n",
    "    assert len(set(vocab)) == 2378, f\"{len(set(vocab))}\"\n",
    "\n",
    "    print(\"Phones vocab\")\n",
    "    phones = test_ds.get_phones()\n",
    "    assert len(set(phones)) == 61, f\"{len(set(phones))}\"\n",
    "    \n",
    "    print(\"Phones prior\")\n",
    "    priors = test_ds.phones_prior()\n",
    "    assert np.isclose(sum(priors.values()), 1.0), f\"sum(priors.values())\"\n",
    "    pmin, pmax = min(priors.keys(), key=priors.get), max(priors.keys(), key=priors.get)\n",
    "    assert pmin == 'eng', pmin\n",
    "    assert pmax == 'h#', pmax\n",
    "    print(\"Test 1.a passed\")\n",
    "test_timit_dataset_stats()"
   ]
  },
  {
   "cell_type": "code",
   "execution_count": 7,
   "id": "e1eaa226",
   "metadata": {
    "scrolled": true
   },
   "outputs": [
    {
     "name": "stdout",
     "output_type": "stream",
     "text": [
      "Found 1680 utterances in timit/data/TEST/.  1680 wavs,  1680 texts,  1680 word alinments,  1680 phone alignments\n",
      "timit/data/TEST/DR1/FAKS0/SX133\n",
      "Pizzerias are convenient for a quick lunch.\n"
     ]
    },
    {
     "data": {
      "text/html": [
       "\n",
       "                <audio  controls=\"controls\" >\n",
       "                    <source src=\"data:audio/wav;base64,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\" type=\"audio/wav\" />\n",
       "                    Your browser does not support the audio element.\n",
       "                </audio>\n",
       "              "
      ],
      "text/plain": [
       "<IPython.lib.display.Audio object>"
      ]
     },
     "metadata": {},
     "output_type": "display_data"
    },
    {
     "name": "stdout",
     "output_type": "stream",
     "text": [
      "---words---\n",
      "pizzerias\n"
     ]
    },
    {
     "data": {
      "text/html": [
       "\n",
       "                <audio  controls=\"controls\" >\n",
       "                    <source src=\"data:audio/wav;base64,UklGRpxfAABXQVZFZm10IBAAAAABAAEAgD4AAAB9AAACABAAZGF0YXhfAAARAEYACQGqA8wBOgZh/6kBLQLLAGr/EQAA/93/NQH4/0YAYgGf/wn/qP8+AWoAUAFz/4T+cwCf/z0AagAAAUkD0woU9zUAsQDm/2MCSA3sCCHyCPSI+PACPwK3CHAHhQEf+pD4q/i6/3H9gfvr+uz8qAA9AI3/xgTXBGr/Bvwp/LEAAgO7As0CuwL3AMD8ivtq/xwCoQI1ASP/B/2/+xf7cPwj/wkBagBw/G75vvmU/Br/IwAIACL+k/vG+dr7y/4JAbkAjf7A/DP90/40/oL8v/sh/XD7MPl3+UT8p/6E/kX9M/2E/hH+hAADBC4Duv9g/ssAjf9rAqsEUgPLAFgAg/17/k8AxQPGBGr/H/pY/4gEhgJzAfsEJwUs/y0B5wKABSUD9/6o/wkB3wJV+w/8CwMPCHYEFvp/+Bn+JQNjAvoDoQIs/1/9jQANBqUIDARy/iv+zgMhCd8CnPvq+dQAn////Z39nf1w+z3+JQKW/2H/qP8TApADoQPMAcv/V/4UAwECcf3b/RQDdQOE/kP7Ef4+AbH/RwFRAhH/Gf6WAEgCNwPNAoUBLQK7ArIC3gFBBOIG1wMTAlf9hP4R/pYAhQGw/pYALQJiAd3/jf8aAEYANgJ9AgkBIwDNAmsCLAB7/p8Anfy++nH9Gv9JA7oBvvpL+j4BvAN9At0Agvzz+Wj9WwNtBPj/Xfqu+4YCQgYdBMD89fw9/jUBYwIIACr97v66AbICSgQAAdz+AP/MAawFewCw/kf/CP5Y/xQD4wfEAq77TPssALEA4AR+A/T7z/l0AlECrvyl++8AWABX/nsANP5/+F/9zgOxAcj7Gf3m/58ACQHVAWIBXvuv/SgG/AXfAi0BNgJJAxQDfQJq/9P95f5sA+YAcf1YALf8BvxqAGwD3P5L+l36qABIAhIB9fw6+lX79wCXAQkBdALCABr/PP0tAZkEUAH1/Ef/EwKN/wkBjwJGADP9F/ux//kC8gRrAa/9Mvw2AoUBqP/3AE8AIwDc/hIBbAMSASH9VvyxALsCNQEG/D7/Yf9g/hn93gGpASv+Kv2xAPgBNf/LAJcBlwEjANz+p/7vASUCugGE/vT7jf9RAtUBAAFYAAj+Ef+pAX4DWACu/IT+lgDD/wj+uQCXAUYAIwAjAAABWQEJAY3/NgJHAVABLAAjAFABugHnAVf+Iv74/0YAuP0j/3P/YP5o/cn8Gv8J/4X/Ef/UADX/WP8BAmsCGgAP/O395gATApYAsQBg/nL+JAHVAbkAEf5hAJb/9/6e/gD/hf/U/y0Bjf9z/08AhABY/6j/wwEtAcP/lgB+AwsDhAAtAbsCAgMlAmIBYQCN/5//5gDU/3r9D/yd/D3+0fvQ+q36/ftF/cj7S/q0+Bf7nv5H/7b7KfyF/5cBEf+m/VsDSwYnBSUCWwS+BccG2gf9B6UIBAVjA88FLAuMCQMEEwJbBHkIrAVIAt4BjwJiASz/sf8a/+39xvmI+Cf5Uvj49d30mPZS97H0rvH387L2dPao9J7zLfXl8xH0bfgH/bb6bPcG/DYCEgGo/zAF7wsCDswM6Q9pFCIVJBesGwYdNxnCFXMWzhmYGP0RugudCP8JOwjvAAX7bfg+9YHw4O3y7X3riuUU4uHjQuQv4wvih+KI45niveNN5sDnTugT7OLvMe9z9GcH4A/QBsP/cwvKHy4jVx8WGwUcPiGcJ50piifOJFQbTB26Iaki1xnHEKMQugyKB+8AsQFw+9714e746jfsp+hV5rvgYuC43Zbep95Y32vgEN1I4H7hiuWS5KjfV92j4zHwLADkCXr90/P9+3MWgihcJTAbtxO0GgcqYzjVLOMd9h60JWYn7B2SG8YaQBhnEs8Q1QzfAmoAcwFIArP3w+pY6b7vF/A06NTfGd0m4orlteRb4izf5t9K43DmKueR4+bfsuAE5OninOaGAjcZYwIK4NnvBCb4NlUcbA7XGU8gqCCXLEwyuCkFHFsZKx/vIcsgfhmlEmwN3QspB7QEwgr9B1v33Og68Mn8zfau5m3jB+dU5L3jYOhz6rTjp92h4Yvncecf5UjhNd9p3sDclt7g+OMdTwou1grWiRtcRcgdlv/xDvkieR3xI+sxwSohHgkWaR9zIWEhXRxpFZYWCg3u/v/9cxYKGCL+4uXd6Z//LAAu92no4OId4gfod++s75bpptwt4HrnNutV5d7gL+PN4f7cl9V66K0RSBde5s3LVPrJM50ptAQYCC8ZJRhAGCMrzi4KIhIWwxY0Hy0iwyEtFxkUDxOeCkcBpQhyFS0M4/xM8J7z0PqV/ZH5He2b5Mbj3+zI8Mjwguc131viruZh6QXlkOLV4K/dWtaR2AD/Xx54++zG6tklI443pwr8+hcS2Bq/EdMfSjAXJ7MYvxK1GywhZCSTHV8TPRXHEEEEYQAaFXcbiAU572/wqP/oA1gAavQs6ZjhWOnx9zH6C+3j2/feUesG8fbne94R3vngat8/1fbdqQzZGxPhIbxm8H45ECkJ9cr96Rn1E4ULISlVMqYexQ6sEE4fbSQ6Jy4YxQ5gFK0RoQJKBOIcQBkR/1Hsh/fiBoAFhP6v8v/of+N377/7gPoj6RbaZOKR7jvxwOb23U3cp95p3fDVWOkKFxMN38y7wKUIjD97FeDtdgSZGcMLQhAEMQEtWBZXCTMUjiEWJuElixPPD+QTxA2fAB0OeyDnDIf38PY4BBIBB/3EAuP7cuhZ4I30jgFD+0Tnndwq5wXwVvG46CXhTdyD3bnez9gw5L0PcRNP1PS6FvpUPAYeh+2d/aYUIgosC6svdi9xE10GXBDUIAMl6ia5FfANyhSiDy0BcgodJCsV6Pf98BQDCArVAc0CrvsT7MTh//JKBD0A3upL2fPkevKX9ebqP+D+3HncR99n22rfiAQ3GOHj+rfg4scxmS9Q9f3whQwlDToHICgiNaAXhgIyCNwf4ieCKJkZagsFEjER4ARoCXYkDBoB9rXvFwe1EN3/K/7mAE7zOeT8720EjgGI7nrdteRo8oT0L+3P47LgGd3922DduN3c858W/fvVv5THcxbJPpUK2uam/VMPVQcDGmI3WSHnAj0AbBivKYIohCBaDYUM2REJDCoImxvnIhIBte6f/1gVywpV+0//ePqp6z3pGv/rBpj2UOAZ3eLwN/co8BbkGt+N3sjbIt1V2ybtOxNkBE7Hcr06Bjs+1BX15rv2bA1mBjsS3DWLKeAEifoPE/8qPSoTIpkO7QleEpMSPAnAE6EjTwoX8Bf7sxicEkL5BPkj/2L1cumt+gUHq/jf4Vjfe/OQ+JHuDON14TfhEN2m3Crc0eZXCpYL/9IxuoTzHDjmIZ/piO7BCXAIEgxuMLwu4gaG9iUN7ythK8whgBCSBukPzBajEOkPgRz5DWv18/mOFvEYv/ue86j/hf+s7z3zuwI+/+bq1N/z7un4VvLa5g3kq+Lt3Jzb1N5t49v82BCc5ma68tikJ+wzxPZK45b/lgspB7wjIjWkEXv0qP8wJfIvOCQiFB8GlgvAE6YUHxFBGrcTgPmY9vANTB1FCWv1mvlH/1v3qPSpAXMB2vAC4bDp0fuA+YXqUeEd4vrhJOBh3z3ete7xDhn9EMcwwxAJfjnxDhXjt/H0B1wF/xSdNPghxviU8YQV2jLKKrsXmQRmBhkUURiBEUQTGhahAy/4mwYnG2UQ6fiI+UkDPf7K8vz6fwTa+2DoZuVa9pv6KPAG5q3lU+Ov3Vje+uEY59QArggi3QC/aOflKgwlvu/A5zUAxgWLCAcpYy6KByjvfQLkKS8vNB+xC34DzAx7FboWexU/F9EHUvhrASYZkhuF/3vzn/9UBuH5AfZiAcMBv/BB49rxg/1783nmtuUi6CTgitsK4CDmDPmDCVHsZsRH1XQX3ixP/xfmHfgdBDcDBh3aMhoVrfAT9u0e4jElI7QPogTbCR8RphRYFlIZog5D+wb8zg7RHR0OOPhS+N4BWABl+dz+YwIv+NnlUOoz/QX78OuR4yrnb+X33o7fOeSZ7VID5f7w1srH1vb+KAEX8u1B7k8AcwHLC/crZygIAGPs9Af4LO8rJBeTBwUHdAxlEPcV4RqEFdQAFPgXB24bhhio/yz0X/3qBSP//PoA/0X9ie8i6N/2EP1V8Inkeuiy65jhlNz64XrokPhLBs/uWsvx17YRxybfAufrJvhzAO8BSxvGLy0XEPNq9GUa8S41IQIOBQcRC6AMkQ8KFwwasgxn/ML+fw/xGD0Kz/lE/FwFCQE29if5+AEq/arsmOzE9p7z7+qo6hbvpeY722DdXuZC794BSAIB4LLLxu6DH1MatfnT8xr/nv4yB2UlySmeCtvyfAGxIaQmLRefCxIM8Ay4CbsNGha4FPMFqP9xCeoQuAk9/iMAIQj6A2L1pvLJ/GoA3/dM8BjyMe9q6bPsp/Oz7Ljdt9sf5JbpfPWuBxb62Ngw2ccGWSJaDUr5Gf5bBOYAxg8oJgcfFQSi+H0NWCCjGhQOYQvgD8sK6QTbCQUShg2PAqQG6A7JCCj6ePrbCcwM6/uj7u/04/zZ+qn1HPYY8l7mD+aC8Zb0Ief438jl5ur56zL8UQ3q+bHfJeydEx8cgAXJ/IgF4gapAeoQYSBpFD0A9/55Ewwasg3HBqkM4A+KB/oDZwhoCbwDHQQCDroMYP4A9Z39/wnQBkL5//PE9hP2ufRA92z3o+7S59ftc/TR8NTpA+7/89vy/fDmABUPcPwc6/37DRBLEMEJNwOtBpEFLQGFDNQV6A2FAcL+Pw1mEfQGawLIB40LDATvADAFVQd8Ae8BaQo8Ccv+zvdG/hUFTwAn+eD4J/mo9GDzmfcp+2L1lPEt9rX5oPV781L4M/0v+Hv0x/pwB9EHm/rE9lIEMwk+AdcEAg44BAT6GgBrDO4KQgV0AlsErgjiBgECAwRnCEsGjwLGBBgIWwMr/vkCRQkMBSH9cPyw/uP8Dfo6+6/9Ovo/9pD4Kv2T+yb4b/qU/Ez75/UB9lABxfcq/Qf9/PnrBiwAnPu5ANQAhf+GAncFowUBAgD/dQP7BM8FXAUuA6wFOASZA2QE1wTfAwwEqwR1A/kCNgLdAPcAsQFhAE/+ev3J/DL8Mvwq/Wj9X/zr+5z76/sQ/Uf/BfsE+mMCgvxV+539+P9F/Q/8awFp/iL+RgB8AaX89wCYAp//EwKzA3MBoAHOA7sCqQImBG0E3wJaAi8EoQOYAqkCYwLVAVkB9wAAAJb/lv8+/+T9p/6E/iH9r/2f/+X+ivt7AIQAmvmWAMsADPmf/+//hP5n+5cBhAAV+ZkDNQFK+S4DPgHj/BsBmQPC/j4BCwPv/8MBmAItAbEB7wG6AdUBWQFZAUcB9wBQAWEA3QA1AVj/GgB7AI3/R//U/wD/Nf/u/qf+jf6W/0/+9/7l/uX+hf8tAn/4nwB2BCD7EQCXAf/97/+7AtT/CP5AA5X+n/82AtT/RgBQAU8AlgAbAd0AsQAJAY0A1AAAAZ8AuQCWAIQAlgCWADUAPQDvAAn/LACoAGH/sf8jAKf+NQDD/yP/CABz/4X/1P9q//j/+P+6/4X/LADD//j/NQD4/08ACAAIACwAPQAsAD0AIwAsAD0ALABPAEYANQA1AD0AEQBGACMAEQA9AD0AIwAIAEYALAA9ADUANQA1ADUANQAjADUANQA1APj/NQAaAPj/IwAsAPj/EQDv/2EAsf9GAKj/SAI9/l/9DATt/SMAjQD4/yP/3QAR/9T/+P/u/sP/PwI2AtD6y/6rBKb9Cf+6AZb/qP9qAMv/sf81AAgAw/+NAFj/cwAAAMv/YQDm/+//TwDm/xEACAAaAAAA3f81APj/+P8sAN3/7//v/+//7/8IABoA3f8jABEA3f8sABoA7/81ACwAEQAAADUAAAAsABoA+P/m/xEA5v/U/wgA5v/d/wgAAAAaACwA7//m/ywACAD4/z0AGgD4/ywA+P8aAD0A7//v/xEACAARACMAIwDd/yMAGgDm/xoAIwD4/wgAAAARAOb/NQD4/wgANQAAAO//AAD4//j/CAARAPj/+P/4//j/5v8AAPj/7//4/xEAAAARAAgA+P8AAPj/+P/4/xEAAAAIAAgA7/8AAPj/CAAAAPj/CAAIAO//EQD4/wgAEQDv/wAACAARAAgA7/8AABEAAAAAABEAEQDv/wgA7//4/+b/EQAjAOb/CAAIAAAAEQAAAOb/AAAIAPj/7//4/wAA+P8AAPj/CAAIAAAA7/8IAO//AAD4/xoA7//v/zUA5v8RAAgACAAAAAgACAD4/wgAEQAAABEACAARAAAAIwAIAO//EQDv/wAA7//v//j/5v8AACMA7/8IAPj/+P8RACMAGgBGABEAPQAjAFgA7//v/z0Ay//L/+//lv+6/0f/hf8RAO8AGv+x/7EAAAC6/40Auv9zAN3/sf9hABoA3f8jAPj/GgAjAAAAEQD4/wAAAAAAAPj/+P/4/+//+P/U/xoAw/8jALH/TwDC/moAwgCV/YYCaP01AUf/ewDL/xEA+P81ALH/YQDU/2r/GgAj/yz/CP66ASQBGPyOAdUB0/1GAFoCPf7CAE8ACAAAAGEACABhAMP/WAAAADUANQAsAAgANQARAD0AAAA9ABoAPQAjAE8AEQBhAAgAcwD4/40A1P+oAFj/agAz/X0CjQCu/NUBlwF6/QABjgFP/hsBAAARACwARgAaADUA3f9qAO//IwAsACMAIwAsAAgALAD4/ywANQA1ACwAewDv/08A1P/m/43+5wHU/3v+RwGNAIT+LQHv/0//5gC6/9T/hADm/wgARgDm/yMA7//4/yMAEQAaABEAEQAaAAAACAAaABEANQARAAAAEQAaAO//3f8RAAAA7/89ABEA3f8IACwA5v8sADUA7/8sABoAEQAIAAgAIwAjAPj/GgAaADUAIwARACwA+P8RACwA+P8IAAgA+P8aACwAGgARABoALAAjACMAGgAjACMAGgARABoAEQAaACwAIwARACMAIwAIACwACAAIABEALAARABoALAAaAD0AIwAsAO//IwD4/+//RgAaADUAAAAaACMACAA1APj/NQAAADUAIwAaABoACAAjAO//LAAIABoALAARACwAIwAsAAgA5v81AAAALAAsABEALAAIABEAGgAsAAgANQAIABEAEQAjAAgARgAaADUACABPAAAATwARAEYACABqAO//jQDd/+YAfP+FAQABqg4M+F7xtxIk9dv9ogTJ/JX9YwPb/KgAsf+W/8IAav9YANQAjf+5AEYAPQAsAD4BYf+FAeb/9wDmABsBcwGN/xH/EQA+/3sAAP8RAAAAYf/U/z0AYf9GAOb/AAAaAO//cwCx/08ACAAAAE8AqP+WABr/NQGE/uYACf/VAQj+AQIs/4QAlgCo/+YAPv9PALoBjP2yAjX/Nf90ApX++P8sAOb/3f8J/3wBEf+W/58Asf9GAIoH1w7E9nMAnv7o97j9ugGc+//9TwD9+2wD9fw+AdT/ugHL/i0ChAAkAf/9uwJX/d8DPgFm+kYKKPpn/DIIBPltBML+aP36A8r9YP4DBJX9Gf5IArH/jf6GAvz6rQYh/F77EAmA+ZX+Qgb0+0f/LQKxAev6PQoA9ZoF4QX59sv/bgWH9zUAiARE/H4DD/wyBwT6y//7BM74ZQW6AVz5lQol9gsDSQPS/P/9eAaA+aAB1QEV+b8HRf30+w4Hpfsh/NsIS/pzAdH7ygmX9RUFjf7C/uEFCvbACMIALfZxCQf9IfxCBsD8GPyFCzvx4xLV6j8M6wbN7FgVfPVE/JEPAOr4DDUAQe1HFhDyi/yIDz71DPkkF6jpHg/0+rj9T/4bDKn1NgIMBaH3HQSE/lgAaP2mCUbzogTbCGbv1Av9+/f+OQVy/gAAhPMnGljeHhqI+GX5nQna+1sEFO3GJQrWqw9QDPzvr/2OFlDqSwb9B5zwHAIqE67bJiQ06F8JNQEf+sMLH+/PD2oAwvSECnn8Yf/r+/USCuCJG0HuDQZP//T7SgSY9vwQrua5FWb6F/s2DfvtrRHJ8XgGbAOc8Vwa5d63HUvv1P82DOTyQgWgAQ77lv+2B7H1ugwW+rb7dA0D7W4QZ/GRDz71/QdN/Ov7AQ0Z6C4jR9S0L9Xgcv42FzLmSwYAABgINPPgDtr7vfjvC1f9sfSUE/vudQN+GBvV6STb8gz4bhDN68IVnujqG37sdQ6E86IE/vyjBeXzLwRDBzn5hwP5AkP7LPT8G9zoGf6aEMDxHfjWGM/uePv7Gm/lpQePAo3+4vptBDsIv+XFI2fx1OliIvTwUvekBmwNx+SJEVf9+veg9agWn+mYAksRfeBQF1oCK95fM6r3MvymCTIHL+NnEr8SiOOAGzULOtBhIfz6PupfCIv8agB79KYUNOh0F9/sPAn6A6fzkA5A9wABnh86z4cZtQVJ4vYUrBC02D0VbA1r4J4Ulgtp3pEQrRGZ7TT+7h8mwhYxte6H9y0B3he43QURPP3GBPz6nPH/Knjai/w4Je3diwjMDFz5gO9HFkL53uqaJffp6fgeBTAQjt8dJGblORCv5x4aG/Uh/DT+4wgA/x753wOIBQvsBBvf4XQXVO9RDTn5owWeCozoWCBn8eDtdiQJ38IAnQlMB0zbMzRV5pHjSzvfy2cHoCLs0QYeCQzv32ogb/ri734ZNuBAGeTnFhAaAIjudBeS774GO/EhHi/iWw5TBQ364wjwAqTvEhZB7gwFMAWs+Wf84BnYzh8mZwfrz58hcwsY0cMsXvDfAsjw2icF0PwbBPk/9nn8vxKj7jgE3QDEAlAB3QDUABf7LABZDF7mRB3o7Cv+af7sEgHVBjO5AAHroCw75koE3he/20UJSwZL7/UIl+rRErvgaBNb9+//HgVGAPkNpebgGc73lulnKIzdrhL5Agz4aQp/+JwHk/sX+xMNte/DC1H2HAKoAFH2sQG8AybtFhFK+Z//fgM9/mIBBQch/d71Vh5N3Gcdav857qwQkPhWCOj3aP0tFx7ZCiIP/HHnkRrT8/D2DCUy24QKQQ+b5SUYbfjH+l0REekjFkL5VeauKODXYBQk9V8INN5WKaDqyvPcFB8GgfDv/wQmzcueHxH/TujiHCjv1wMR/gj+3P6u8cgcat+qA20Pm++l+x4PTfwr89gQ5gu74Egi+P8H3aUoPPKQ+EIFfQ0K4cgSyPsM+Sv+jAns8bz3tA/S8dcD0PpMEsHdbiYP3JwSHfhz/9v9dRme04cuJPV99jQg3en8BhkJjwJ37yclt9zvC6oNH9olLVzuK96PLc/5l/VjLgDKOjG71dcv4OIx+t0L0fAtAhH0nh/r2mQOHfdsA6IPmc1ESDvRrO9nM1rh1+JLPLrUEP27F+b0d++1JvnVsg1eEoTpkA5H9WAfhMjdILwYkc74Nmb6WPTVASoeFOLnAvn2OxPPzmUw4gYAv0FQx8+c+1cfF9tgFVL3EQsJ/w/mTSnl3k4JMBB89YH7FQQ6B/3wswN0DP37pv1VB20ZebsrVbrKTBIO+6IOEuC+EJn3BhNLz3kziO7k50owWeqFATgEphPN4ZAO2wgq8pkEbe3hGvvjQgYAC8DnzwW/B1kBK+iIBLUQOOL2H+Ty1vZ4B8/5eQgV+d3/2BqcxmA/09I9IHrn4Rrl6OH5vydf0RIXuQp/4zv8wRSK5QgAvBnr2jonh+KqDWoAyvMTGDnvnAddBpn3ufQ6EX73lPKKEgbmFxKc8T8MbvmmCWUFHQ6n3kYrC/f67JEPAgPi73wBqwSi+O8BpPC/+64HVO+rD7YGG+oSF1L4peYRNbbQsQBhILnezQKeCrH/aumLCPUTwOZY/8EUL/j7+BUPphO6yudCkNe0BOsRrO9qCz7/+uxxFAj+KO9QFhr0//OFC+7o6iYK1vf+CCAk4BYGxxFi6pcBjhfi5WIMqP/GBIX/MQZ6CR/asDXG2CH85yIw5KQGIwDpD07oXvteKInEHyb8Br3jgwnD9V8Tat9JDoER8uItAX4jotjZEVENXPnx7JolbOFH/x8b7+pc+TQfgudA7OEla+ug9XkdtOJzIQvXiREnBcfk9yAP3NkRjgGR+Ur5KQcp8ZwSCOmOFoEHIOZPFfMFG+ouDXUZYN2VCZQe9uhw/EYKSwbZ5coU7gpq1Iodpfu9+KH3aAlZDNnldA3J/HgGZe6+EBYbW8y3KCz/KNoYM038W+1QF6j02AXz+ZUU/uax/zkm78rnDAYomsMeEPUSovj54Nooy/+O9cIKHQSh9mgJuwJ+AyUDseomDrbliQb5F/nVNRbA/G/w0wmODHHc9h4sAIv80fuvFEXoVgjV9bwj4dkfBgoiP+AGCCIVydGiJF7xdvhoCXgGi9xmJ6XxRv4DBBEL1QGI7u4gGvTy7REL5BM2ypgj4xLRuokxnBJHylou+AHu07YnAAHW4f4IAw948Pz5VRLP7vL4JhmN/jDufwRBDxD9UPUWELH/6wYL7PUd/vw16kUfLesw+ZIRSvkU7dYY0vK17zkQHgV11oYXJxp9wN4tBwmB5asENSG816UIqxpi6oUMOfmdCG/60/3sB9juvA4Q/TP9Cg2W9AAL/vwN7/QRv/BdBhIByQgq8rgJnwt4Bsnnsg1h/zH6khGN6UIGrBCn6FIDEP0qE5fqdwUrH63lGQn4Ad8DkPgtAdcEx/roGHDmeQiK+2j94/wIAGMDNP6H94YXbvnk/fkN7PFGAJYWld3c/l8TsfT6AxgIc/8P/BX5IRMI6bQEFhDU9NPz7xai7SL+eBF79NLyNRbG+QTkkA79EVzj3QBLEc32TfwCAzoR4u/kCeoFe/NfCDIIiPg9/hQDWwOD/Q/8Y/aiDuDteAfcCr34j/aRBVwFHe0WEFMF2/0E+UMHPf4CA7oBpvJ4B9P+wfNiDCn7m+/LCk//sOnrBrMOZu+ABVwQKfv/848Nggix9Gr0hhfr+tDvog95/Ij5cf3RBzL8uOg/Iv/zzevtE7YG7fIh/KYUZe5q9CwW6fgE+oAGhAqp9e390Qez9xQDkAQz/U38lf4zCU7ykgZZAdL8PQq5/hXuRwwZ/cHyiATnDKn1TAdfCNn6OvsqCWMCtvvHBm/69/RZDG75Fu+W/6oDPPLhBVQG5v9F/cgHPQDUAIIIkANx/S0BnQk080kDEwKd/YD56wZ8/33rDQZp/tXrZweE/pb0AACmCQAA6/q3/MwW3emEAMQYP/ZB+AMPxAK2+lwFXBCM8lf+3BWk8HDxWw7Z+iDwjf/XAwr2afPYBaIEMfDJ/NAGDvuyAsQCOgZQAWELxwYR/m8GXwg/9oYCBAW2+nr9xAL4AZn45P2o/6X8UAG4/X0C7/+6/+kENQAsAPoDp/7XA74GJQPb/egDBQfU/9P92/xPAAf9WACe/jz93P6u/Nz+Pv97ADD5Ef5BBEcBm/qe/qEDIwCF/+8BCwONAI3+Hwb3AHP/NQGOAZcBqQKN/+r5nf3XA/789fypAdz+8fc1/1ABZfn0+ssAqP9Y/0ADJgQa//wFmgV8AWUFnAfT/pb/1gL3/hT46/sz/cj7/Pnb/Kb9Mvsp/An/wgA0/p//ywCv/Qf9Ef5GAJb/D/wRAO8A1P9zAWMCdALxA34DsgJ1A28GQQR8AaED1wQ2AroBfQL5AlkBoAEdA93/7v4aAI3+lf0Z/YP9lPzH+pv6Fflb9y/4qvcU95f1hvYD+CX2ofZA94j4F/sO+/X8wgCHA7QEHwaLCLoLqg1ADs8PvxJFFPUSaRQ9FTMUVBFbDmwOqAu2BmMDGwFG/jH61vZY9BjyZvC+7+ntJOtX6Izocune6xTtxex37//ze/Rw8SDxevLB8kXy//LB86T6VRKcJwQmaiFMJ0oweSgsILAfGR/HG00eJCLuFc8FKfvW94302vGP7CzqpO8J9b/wyef+58TrQe2c8R34vvpc+Yr7D/yY9m7uR+pq6kjrb+/d9Jb0q+0J6o3p7fKyDVcf4hznF9EnszlBL7UbzBcgHccbKh71HSIV0QdzAP371fW97rDpK+gU7Uj2W/fq7tTpxOso79rxG/U4+J38FAOtBqIEe/4Y/JX+cwF7AMf6ufOA74jun+lN56DgeNqt2nX3ORtYIAQQ+w/yJHko6xxQF+AZXRtZIhMtxiXHEZkDnwD9+5r5OPj28pruj/Zp/srz0OQG5kntL+0w7i/4ev0p++P7+AE+AV77rvssAAwEpAZKBKr35+ss6p7o8eFf3NDZpNoa9CsfEiz1E9cEdxtqKzwfrxP6GXsg+iOYLbgpGBPS/Gz3U/lw++P73vXo7IHwTv1K+R7jONgo5X32tfl19w77NQDUAO//PgGxAHz/hAB4B7MOYw3vAffzUu2z7BrpK94L18TWZNhI64sTKSjbE9L8QA5zK5MnVBF4EbkgGCmzLgAsURigAQX7uP3c/mD+i/xp88Xs5/XK/RTtodbH2dDvk/tT+aH3Vfum/Z391P/m/9z+JAHrBmAK5wxPCzUAk/BF6ITpeuen3arWjdS43QwEWSx3JmsB9PuTHVEtSRlHDLMZqyQyKGst6iX4CwT5AveA+XD7mALMAU3xeufV9WD+n+mf1PXcJPXvAAAAwf2l/JL6t/zdAGsB3gG2Bj0KBwkrCiQMWwNV8InkROYH6ArgZNci0x7Yd/mRJQgr/gg392YRySlGIHcQ+RhAI5ElryloKWEWYQAl97v2XPklArcIpPpw5uXobvn/82Hfvdiw6Jr5RgC5ACz/8/mQ99H7lgDFAyoJLg1xCeEFnQgZCgj+8Ott4qviZOIs35LZc9T85IERbC7sHVf+zAHGGrEhaRVzFjYiJyWZJNckpR2XDHMAs/eM8tb2vwfwDPL42OMr6BH0ke684bzhie8X+3sA1QFzAND6dviI+Rn9xgXrEa8TgghPAJkD6wbS/LvrfuFH34PdlNys2UrYQe2nFXIqWhiNAIsIeBz0HIkRZBm+JmgpkCTUIDcY7wtbA636yfGD8nYEhw5G/lbnDuVa7LHqiONe5hDy2fqd/Xz/jf9w/EP7b/rH+lECVBGPGB4QbAOWABMCefxe8SPpXOPB3TvbBdqq1yfjMQZJJHIgkwcVBBkUxxudExoWEyNEKJAkLCFmHHASgwlQAVr26u8y+ywLnAdp8wfoCeoS6onkgOSj7hX5yfzj/K78rvsY/Oz8nPuD/fQHVxSEFXwLHQOpAe39YfTE6wfnC+Ir3aPZP9as2SP0UhnjKO8WswPjB7cTIhTAEyMgjCpwKI0gdxtGFX4OggiW/3vzt/HD/6cKAQLa8X3rEupC5N3fVucB9mH/fP/r+3/4s/fi+tP9e/42AjYMyRNUEYwJrAWHAyD7Qu+V6JPmZeNQ317bAteT2y32bBhuJeYWCApHDOAP5gsNEUkjzi7uKtQgdRj7D+UKVwnxAyf5l/VX/gMEEP1h9NvyrO865U/eiuU19J7+CQHc/jn5n/T49V36I/+1BaIOgRIBDc8FdgRBBKb9pvKW6RXjp9302jHa6tkw5J///BskIuQUlwzNDdUMGAjyDwIjoi8ULlIkdRiXDOoFfgOo//P5vvrVAaEDv/sI9Cry2O4p5lDg0eXk8rj9+AHvADv8C/ex9N719Pq0BG4QWBWsELYHLQL2/fH3cPFB7T3p2ONP3njaQdjD32z3eRPCIMYaIRMNEHQMZgZHC4occysULkMngRwNECkHhwNrARn+5P1rAWIBH/rT82Dz7fLF7BfmVeZS7cP1pfsR/2H/9fx3+QL3qvd7/jMJkhFMEucMmwaEANf4wPGZ7d7qi+ay4LfbXNj13JzwYgz2HhkfJRhMEmoLYwJ1A9sTICfgLzYtmCPtFF4H7/8I/uT9lgDgBEIF0/3d9AfyRfJ3797qEurO7U7y7/UN+sr9I/+M/VT68fea+bkAwQmaD+APjgytBtP97vMv7XPqaehM5WPh9dzZ2hbkvvpWE3Ifch+AGxkUKQcQ/fkCRhU6J38vmC4UJHEThwMW+h33/PnnAfUItgdP/lD14vBl7s3rC+zi7xr0AfaY9nb4/PoH/ZX97Pyl+1f9HALrBjQKRws1C+IGEf7c8yXsROeR4xPhzN+W3o/hZe4dA6YUTBzAHZIbTROaBQn/6gU9FSUjYSu6LCYkRhUMBQ36n/RS96j/6waJBmoASvkY8tXrhOno7EXyxPYe+W/6KPqs+eH5v/sq/cL+oAGrBHgGQwcGCOMHxgTc/nX3F/Ce6H7iLN9g3XHcQOHi7xUEtxPGGg4d8hp5Er4FIwBKBRcSaB6TJ8Eq8iToGGkKcv7N9s32rvyYAs4DPgHs/Jj24u/w6+jsMfAI9PD2XPlC+tD6Xvul/HH9y/4kAfACzgN2BM8FbwaZBEYAm/p783TrmuMr3lXbgdpH3wvt7wAOEl0b0h4yHU8VXwjCANYCYgzMF1kinCjiJiEebxHXBPT6bPfP+TT+RgAIABn+6vnl8+Lvm++c8XvzG/X59h34HvlC+gf9av/4AS4DxQOpAi0ChgJ1A6EDWgLD/9n6IvMb6lLi/tzq2fPZHOG28PoDrhKJG/YeMh1pFKUIoQJ/BI4MYRYaIG4lmSSCHQ8TXgci/ij6pPoY/JT8t/wP/GX5sfWw8//zCfUt9VD1NfWX9T/2iPhE/GEAqgN3BScF5wIkAUYANQA1ADUA7v46+5/0vOy15HLeFtof2s3hgvGzA5sRORunH00ePRVgCogEiAVHCw8TkhuwIDUhbxyVFLkKxAKw/p382fpT+Tn5zviH9zb2svbF9x34C/f49WH0e/M99BT3gfv4/x0EFgYEBgwEawLUAN3/9/6E/jz96vlq9ODtcec34Wjct9ur4q3w3QDoDVoYph7AHlkXoQ0yCIEH7grYD7oW+xp4HJkZ7RPVDJIG5wLm/1b8BPmz9332fPUb9UD3gPnZ+kv61/jE9p/0LPRQ9en4EP0KApkE6gUVBRUEhgLUAGH/NP6l/B75PfSI7uXoiOOx37jd6OFR7KT6XgdMErQaMx69GmcSPwzBCdMKCg39EZYWSRl+GO0UtA9yCtAGSQOF/yn7ovhR9hH09vKW9Az4kvqK+1X7ZvoM+CX2uvXF9wX73P4TArwDkAQMBEADwwFzACP/pv2k+i32VvEl7DznfuLd3y7hRehG9BIBGwywFZsbBRzuFVwPaguECkcL3w07Ej0VlhavFLYRhg17ClUHdQMA/xf76PfL9GjycfLV9Ur5Z/sp/Fb8F/ur+H32mPar+Lb75f5ZARQD6AMMBPAC7wESAY3/M/13+bn0VO8+6sjlSeJr4Priw+pr9msCHA2OFtkbMBv/FPsPhQy6C7oLUg7QESsUyhTjErUQhg18C2cImQTL/177mff/88DxcfL49VP5pful/Cr9yPtT+SX3Sfd3+dr7YP6EAGsCWwNsA6kC5wHCABH//fvo93Lz++5Z6uLl6OES4MXil+o29gECugxqFjEcFxxqFh8Rhg3UC40LWg3hEDMT9ROlEuEQUg4kDGgJbgXvAGf8bfhz9P7xg/KF9eD4Xvu3/F/9Z/z8+bP3dfcn+Tr7jP2o/7EBxAJbAwIDYwLVATUARf0V+Ub0d++F6jLmW+Ld3x3ie+kS9Y0AsQueFZsbFxyoFusRFA6FDNQLWg1cEF4SMxPiEYkQNw6yDCIKXQbMAez8q/hh9MDxnPGo9Fv4Vfv1/Iz9/vyb+i/4UveQ+Mf64/wa/1kB1gJSAzcDoQL4AWEAaP2a+Rv1Q/D46g/mJuK63yXhneeD8qf+gwn1E38a4RtZF/QRhw6yDGsMdA0FETsTIhT1EkMRQQ8lDRoLXgf5Av/9o/lZ9V/y4/Es9B349PqU/Dz90vyt+h343/aZ97X5/fuV/jUBAgPFA84DLgM/AoQApv3h+ST1ivC761/nOOPD33zfo+Qx77b7XgeTEpoa2Rx1GHAS8Q4cDecMFA6SETwUYBVOFFUSMBDWDQEMRAi8A43+6vlz9SryyfFq9Ij4IPvJ/BD9VvzP+Qv3qfWy9gT5nPuN/j4BSQNbBIgE6APEAi0BGf4x+sP1gvE47WDotOPD35bexeJa7FP5HgVUELwYoxtRGOIRfg5QDD8NmQ6TEtQVChdYFqYT0BGqDucM9QhbBNz+4fnv9XryX/Ld9FP5Bvwh/dL8Z/t/+GL1EfQk9bP3ZvqM/agAUgOZBPsEWwTWAhIBlf2s+T71VvFk7Ubp/OTn4HPf+uJ+7EL58gSiDy4YXRu7F7UQlww+C2sM6A5WExsXWhh9F5UU9BEDD94MVwlBBNP+DfqG9ozzTvMc9nj6EP16/UT8gPqH9xH09vJ79Df3FvoH/REAoQJkBFMFzgQdA6gA9fyZ+P/zx++p67jnSuNQ35beOeRU7+P8KgicEkkZ+hn+E44M2wkrCugN6xHnF1Qb2Rt+GSIVmxHEDZYLQwd0AhD9XPl99nP0APWq94H7gvyl+zn5vPeO9RH0EfQ/9kr5k/vk/eb/dAIDBEoFiAQLA40AB/3X+Br0F/DE6zzn8eGe3eXdk+VO8/gBNg0JFsUZUBdJDtkGtQU8CZoPjRUfHBge2RwTGMgSWw5HC7gJvgV8AZT88/mz97v2Jff8+Tv8/Pom+Hz1wvQI9Jb0Y/a1+SH8V/0R/jX/UAGyArMDCwMKAk//Kfzf92Dzxu7L6Xfkjd7r2o3ezOqB+6YJaBNSGaEYZhEoBjYCxgQ2DbkVDh18IQggoxsHFGwO5AkQCewH1wR7ANv8Ovtc+b34HfgE+db3E/aM83Lz9/T692/60fud/F/8cPwP/Nv9agDoA/IEQQTnARr/v/tb92jyY+xn5rHfMdoN2XbiI/RwB/0SURgkF2UQ6QT0+1f+lAhiF+Yg2SZbJIodEBTLC5MHXQZXCcoJ4weyArr/Kv1M+874Hfc29sHzKfHq73vzDPhn/E79If22+qL4kPd3+fb9zQK+BusGUgTd/zv88fee8x7uyuj64hndFtmE3jHviAQqE2sXPRVRDecCbfiJ+pMHAxpmJ8IrkyfzGzkQiQbxA74FAQzzEGUQpgnVAaX8Ffkt9hDzEPLa8cryyvPO9yn81P9X/rX53PN58bnz8/kTAl8IYgw9ClIE/fsl92L1fPVy82/vI+nW4ZLaOdkG5sj7BBDLFWcS4wio/zf36Pe+BvsajSsULpsmJBevCc0CogTmC68TQBkkFzYN5v9b9yT1dPbf9vD2Lvdj94/2j/bp+K36rPn39CnxtvCp9XH9ZQXBCfUI8QMz/X73w/XX+P78Gf2p9pfrJOA311jU79/g+L8S8xvkE3cFbvmU8u7zkAT0HIAw4zIOJ+0TYwP//dcDORC0GhAfORvxDtP+EPOL8bL20PpD+4D62PlS+Ar2hfUK9pf1nfL98AjzxvmpARcHIAfVAV77ofcv+A/8lwEEBRwCzfZx57/aUNV91pDiVPqmEw4dORAG/ATvJ+7n9dsIPyJONNIzzCFHCxf7BPr8BgMagCZUJuEblQpb+I/sxu4O+88F/AY1AUv6NfRU7/vtZ/Fa9if5DPkw+aT60vwr/v78OvoM+U38zAEeBYgEPQBS+FvtduKm3HLeo+N17Cn8zQ0hE84EIfKG6wn1ZAR8FiEpzzCSJhYQ5P05+b0EXBqxLN8u5B5NCH32o+5F8lgAXBCmFFUHcfLQ5L7kou2R+QIDbQQH/XDxoOrN7Bz27wBMB/MFuv86+5L6k/tn/PX8tvv49QLs1+JH3xLgreXw9oYN5hbjBw/xEemW9IAGAhlFKt8uciCLCKP5IfwCDjglijIIK+IRQvog8T/23gEMDxoWSQ6r+M/jLeBt7dP9DgfqBUz7f+2t5RHpYvVjAlcJOgdo/dzzcvMy+2MC1wMJAXj7GPLj5nPf5t8f5KjpMPkMD90WQAO458ThUfYxEekkkC/tKRgTb/pP9IcDix64NPg2NCD2/ebqIfK+BrEWBBtnEv/9/eVw21foRgB1DgALrvt76ajf4eQS9X8EVwr8BWf78++q7KH2owUbDNAG9PuC8fboDOO84uTn+Op/7Rj8gBC+EBv1gtxw5oMJMCUlLWYnwRQH/Qj08QO4H5U03DVhIfcAzOrT84AQhiJMHFcJ1vZY6QXlMe+8AxUPkgaV81Xl6eLn6wT6vANKBAj+mPZw8eLv3/YeBaEN/QdU+l3vE+sS6gnqWuuy6zzn3uqFAa8UeAfR5YLcKftqILEr1SKvE+cBFvp4B2EgtC8KLYEc/AXM9fT7pxV2JFAXn///8xnzYfTw9sv+QgXd/57zj+t86qzu5/b//e7+Q/sd91j02vHv9MwBPw2CCCf5Ze7g7TrwVfBc7jbrJ+SG4Hv0RRTdFrDzUtdq6j8XYy04JLcTDAWD/TIInR5GK6QmLxotDHsAGwE7E8Ig/hN6/c32yfyV/d/3ffZx/RIBBfvj8Vrr7+qv8nD8WP+/+6n2jPIo8PfzjgFIDf0HLfaP6/PuqfVH9QPuF+bM4PDgc/WwFUgY0vLk0qbnVBshMz8i+AskAWEAqg5SJCMr5R/1ElAM2gd5CK8UgRx1DqX7MvsUAzX/y/Q99Ln++QLH+rbww+o16p3ywv6xAcb5OvBJ7XDxXfpmBvcK5f5l7mzsE/Z4+oTzlej64S3g/OSn/lUcxxEE5L7OdPb4LOwz5BRhAE8AKglBGv0n8SPdFlQQXA/mC+8L9xVIFwUHi/xjA3cF8ffy7RT3XgdeB1L3g+gF5aPuIv7xA0P7OvDo7HjwqfY1/9oHdgT/8xPr2/LR+wP4l+vy4nbi++PG7kgN8xs7/J3S9dw3GGw57iDvACz/EQoIFeYhhyQnGrYRkxLHERoLFA7eF28RAAEsAPQGsP4o8NvydwXLC636LOkz55vvXfqoAOv7lPHF7OrvzfaC/FECLgOq97PsRPGl+wT5xOt/40vktuWW6TgEmxxcBejWP9VkDoc5rCUAAbf8EQu4FMAeYyOAG3ETDxPIEoUL3gzeF7gU3wNhAHAHw/9w8Rr0gAZ9DSn7RegP5wfyyv0AAYj4J+687CrykPj0+5X+I/829ifuIvNM+8325ukv4xfmVufJ5y0CwB0xBsPUNNNvEXA93iIg++P8og8JFrYcGyKbHHEUTBJnEgkMUg7FGRoVuwIRACoILABW8gv3cgrVDNT0H+Xe6wz5sP6l+xr08u377a/yxvnJ/Lf89Prk8nfv5/Wu+930TefX4g/nr+dz6uMHPB7T/SfOrNlWHsA+8Rg29jUA4xI+FsgcYiIfHK4S2BBLEY4MQxF/GjIShQH3ACgGB/1Z9Uf/+Q3gBMTrPOdz9SP/efxi9f3wKO8o8BL1Dvtn+5H51vY78XryUviZ+IjuDeT74yvoB+eM8owU7xbJ59PI/vHcNco1dgSM84wJqBbEFzQgjyLfGN8N8Q54EQUR3hc3GCoJav/7BPoDJ/nP+RkJoQ1I9urkVO8R/2oAW/f98M/uke7j8R/6/vwd+NT0rvHJ8ef28/lX83DmUeGu5pbpLeseBYochP5czibYTR7LQPkXuPKf/4MUexXhG38lVx+RD9MK6xG/EuUV+hkeEDUBWQG+Be39xvnGBB4PAP/A5j7qt/zfA9D6v/DW7C/t9fH8+RH+W/cY8sDx0vIB9vr3hPR76arhQ+VZ6hrpvvrEGAkLo9m1zqgLYD9BJC73Ovp5EmkVWhjXJKojrhIhCGUQKxVYFi8ZgRJkBJ8AQgVYAIr7swOQDj4BK+ju6YP94ASs+ULvFe5c7mbw1vf//Vv3te9D8LH03/dj9hjyjenY4+zm3emL53X3NxhtDyHc+csyB09AFyfN9qL4RBMJFu4V8iRdJnETrAXgDjYXQBh+GQUSHQSx/zkFUQII/icFNg1p/q/nZO0JAScFE/ah7OruivAy8Tb2Xvu69SjvOe8a9ED3CPSQ7RfmbuQQ6CvosOkDBPsapfy1zgfdmSTTP74QDvDxAwMalha+Gygn9h8/DNoHYBW8GeAZuhb3CiQBzgPZBqj/NQD2CYsIB/IH56r3HwYR/tftWuv77gbx3PPG+Kr3ie/67HrymfeO9WbvPOhC5ILmjen26Hz1ZxIVDy/its8uA5I8PSrP+aH3kxJJGWMYvSWSJiETBAXgD8cbgBt+GHYP6APmAK0GqwRQAfwG0Qc5+ZfqGfMdA3MA2vDE6wTv6u8p8Wv1bfgq8o/riO4b9ef1BvFy6Bzh2OMc61rraPLwDMcQYOhCz1f9KDzWLoD6WfUiFMgcAhjWI/4oABZ2BFMPih0pHY8Ymg9tBAkB9AYEBhwCZgZwB/L47uhx8sYEywCR7hrp4e7i74nvy/TO+Ovw3Ojg7XP1wvSk7+XoxOEd4hHp8ew4+KsPAQxt4yLStgamPz0q1vdB+O8W9ByrGXcm7Cj1EkkDiRFyHwYeChfnDBQDNQHHBoAFAwS+Bs4De/R76SX3vQRn/KHsfOpB7m3tz+7N9rX5He145WTtC/cb9Zfrf+N+4TLmNOkn7pADGRSC/BPWbeOrJMg9IRON9PwG0RwVGq8eNSvNIuQJMQZkGe4gVRytEa4HWgKqA5oFFQV4B+kEVftB7bXvjf5YAHv0WeqX6hzsA+488i/4sPP256bnb/Df9l7xeeap4OHjCOm66jn54RB8C/Lj8NYrCpI8giid/Af9WRfZHNAbKSgYKUQTHQQFElggGR/UFfcKhgJzAeoF6gW2BlMF7v4y8ebqOfl9Ajn5fOpO6HXszu137xL1Avep6yjlC+yX9T300+ip4G3i3OhY6eXzmQ4xEXXsT9Qz/Zg4BDF+A177aRSKHB4abycTLUAY8AJJDoQgwiDvFmELOATDAdcEiAUpBzAF7v5g88PqHPbL//z6kO2U55/pN+wE70/0xfey69jjCerL9FD1D+cr3pDia+u66u7zAQ0NEKLts9bDAZk5Ji/EAvX8WRcZH5sb4ibvLPkX1wN2D8sgIyHCFQgK8AItAfsE0QfQBj4BZ/zt8hTt1fU8/Yj5j+xE5kbpW+1L79PzufRQ6lXlCusj9FbxvuQB4CjlRulz6hn9MxMgB0ni+N8aFlM7wyERAG8GbRpVHNMfEy3AKDgPOQUJFkgiGB6kEfQGhQESAZEF0ggMBfb9L/jq7znvzvfI+6n1NOko5WLqd+4X8MrzMvEI6Q/n1uxy84ftvOLN4Xrnaunz7ksGehTA/Bjcb+96KWw4cRRh/0oPMh3QGycltC/mIJMHXwkoHC0isxmgDPoDGgBrAkwHZgb3AF/8EvXf7P3wtflv+uLvIOZE50jrzu0Q8rH0Se2b5RDoKfGu8f3lN+HJ5u7pi+cU+D0VDRA86JPb8Q4OPZQpkASjBVwaZhxFHzcuJS1MEiUCnBLeIj0gXRFuBQAA+P8eBYEHoQPI+6H2MfAx78P16fie83LpB+c16mzs8u0i8//yG+ra5lHsPPLv6hTiDuVQ6tvnve58DMwXiPhU2qH36zGfNpIRYwL9ElUcyBw0KgQx/Ry8A+QJ/h0LIy4YBgiF/+T91wMhCPoDGPyz92nzDO488gP4AfZa7MDmEuoT7N7ryPA/9h/vMuZg6PTwIPBm5S/jNOkj6SPp5gBJGXoJA+Mo5ZMceDwTI5IGAAuYGHcbUyUOMusnRwvnAvYUWSK4HiYOPQCB+xoAeAZUBgn/DPie81Pu8+999pn3pPDt5yrnl+uQ7QXwAPUH8sLpEOjq7rjyJOpS4kTmu+vl6Aj0eBGfFoT0TNvUAAo4wTQvDxUEnhS1G+QeAS2aMAIYjQDlChgePyI9FS8EVfvR+2MDMgdrAvL41PR48Kvt0vJb92L1husP5p/pFe4W79Ly5vSj7hrpqOqc8YDv2eU55O7pwunW7BYG8RmbBlrhqOoUJNk8eyDHBpgN+Rj7GgUngjNTJdAGmALLFUchORvCCp7+U/ml/OgDBAZP/ln1nPBb7TrwsfUU92bwyuhO6EDs4O2K8M32WPSX64zoKO/28grrXONV5vjqLOm0+IQVABa/8HDbBQcNPK80xQ5uBZ4UqxqNIBUw2DAHFFf+AAvaHWEgOxJjAtj5ZfkRAL0EuQB199zzm+/W7CjwWvYU9wvteeYs6ZruDvB79H73VvE+6hzrafOU8RjnxeLB6N7r6e2iBLMZngqb5DPnsB8RQNAm7AdhC1oYSxvPJQ8z2idWCN3/khHJHg0bAAtx/fD2XfqFAVEC/PpZ9e7z4O0K67XvmfgT9szq7OZI63fvO/F194j4XvE+6vLtYfTP7tnlBOQT6xzsK/NjDcUZNQBH36D1iC+TPdAbVAZDEUAZeBx7KikzVh5rAegD9xVMHVcU4QXi+kj2Xvs1AE/++fZ89cHzh+yX6r/wDPhG82vrjuoD7jnvwfLH+nf5tvCp6zPyfPUD7QTkteRA7LPsdffiEYYYd/nT3Yz9GjZvPC4YzwUxEQsZgh74LJsxhxks/0EELBZMHDIS1gJK+Jj2B/1p/vL4PfQ4+D/2zOp65yDwZfnd9Hbt5+tS7fLtnvPT/Qf9p/Ml7KTvEfSJ79rmH+UT6xProPVDEUIb0vzk3L75wTQyPjganAebEcQX0Rw1LIoyLxoR/8UDyhQVGncQqQIm+NX1ivvt/S/47PFR9rv2f+0s6QPuNvaX9V7wd+8x73bt7vOV/sL+3vXG7jPyuvWS7+Pmm+QI6STrIvOGDfwb1gLv38fv7io+QaEjXwnXDuYWfhkYKJMyYiLoA5b/+g7wFyASmQRv+gn1+/jH+uf27PEA9Sf56/B76QDqr/J+98P1//Jm8EHtrfCd/fkCev3c88nxhPTS8jjt/eVV5eXooezB/cMWGhWU8sLeXQYVOxQ5hRZFCZMShRbsHSUtqi7KFNz+owUOEk4UKwoj/8735/Zl+fn2/vEP8TD5dvjy7a/nLuze9db31fWx9DPyFe4S9QECiARM+/XxlvQM+DPy4+YC4dnl1etc7jYCVBsNEILnI99zFtdEOzOZDhoLIxZQFu4fFTDMLMUOlf1nB4ERHxHHBgf9zPUd9xT4jPI47YLxTfzf983rnef77S31Svjh+aL4M/J/7fv4FQUnBXn8dPbx99/2nPAr6IfiiON66JfqWP87Ha8TNOiJ2bQPzkRHN+IRLg2FFjMTDhwEMPwwGBNx/bUFmg+iDhYGcf0/9gL3HfcO8Czq1+2K+1b8TPD253zqGPJK+fX8Bvyq9/3w3/bwAhcHxAJM+zD5mvnv9Anqu+Aa3r/l/+jq72wOXh0s/3/YY+wlLkJGHyZaDckTchU9FWUlXzOAJq4I5gD2CY8NVggAAKv48PZk+DLx3enc6Izyv/vO977vaurv6lbx4/zCABn+bPeo9Aj+4ARKBSUCnwBP/i/44O065T/gRt6j4x/kXvHbE/Qcq/ix1DTz/zTFRJgj4xIUGXkTRBNDJ9Q2fyVwBxQDlQorCgsDcPzf9pn33/fy7Uzl/OR48Ij5BPnT82Psg+hU7yP/vQQKAg77kvrDAfsEMQbYBaMFNgJe+5LvieRO3UPbC+Lw4H/jQAMZH7cIcNsA3+MdQES8LhUacB3xGJEPkx3JM2UwIhQoBrAKwAhjA9r7c/V09q369fGR40jgn+mW9Kn1s/eg9UDsGejL9LUFGAgTAgj+CwPZBuoFMQadCFcJWwNk+JfqWuG22sbYgdvY2VrhvQRXHykHH9qD3UQdJkSlMxIhNiJ3G/IPRB7/NK0yYRZ6CQENXwjL/lj02vC59Ez7yPAA35LZFuTR8Hv0nPs6+pDtcOYI9FYICg0OBwwE/wlhC4sIkgbbCGIMKghG/mbwo+Tp2OzRjdNs1yXW8uM2DcgciPme08XtNy4/Q1QxKSj+KKMa7RQ7KHw3qCumFPsPHA1jA373f+0T69Ly8vjL6S7XfdXy4+jsO/EF+xf72e9a6+v6AQyqDu0JYw0iFOsRYgyCCNwKWg09CqABcvPx4Y3TSs2hzJHO+ctY1OP8Dh0hCDLb0tw3GUlEvzwEMewzaCmzGLsiGzcANrge4xLAE3EJQfi46HbiGuli9Zrud9nhzhzWZOLB6N/2WQG9+IfsCfVoCZQTDREeEKMamxxpFBIMRQljDfoOtwhf/Bzs6NfEyxDInccZyJjB38sq/Y0gXwiK2t7gqCCkR3k++jm5QAQx5B5oKcU5eTNdGysV+BbBCU/0EuB01Sve8+8S6grWc8riz1TaSeKp9W4FWP+n8+T9FA73Fd4X6RlaI48jkxyEFc0NpglqC7gJwv4F8NHb+sxmxNy9rbqZt6G2Fc7pBFAhowU83SfuiC8cTqxGrUdATgU9sSv0Mjk7hi3mFjYXJRiJBqDqm8+2xRnT4eTl3bPMtsXgzbLVyt3C9HgGUwVHAVMPdxtlG3YaGyJCMPMwkSWGF2MNBghECOgDiPjo7OPb58oZvd20kq+8rEyvrbox5bwYpx/z+UXozBaoTLlVrFBlW5hZGkAjNr06VjObG60RwxaFDDPy7NAfus+4Ss0U16nLvMHZxMjQONh66MH9Egx4EW0Z1yQ5JkImPCnzMS03lTReJ7kVPQo3A2r/zPWq7N7gMtCpwPC1Za0Vo1uh5KcasyXWphTWLs8QkPe8GARRrl4EXA9pY25NVBJCTj/pLzUWDgcuDYEHBfCZzEuuBaX4tKXFqcBqvyDFm8852Zbpyv10DPwb7ipJOS457TTRMl80FDlbOQwvHxuPDd0ACPT/6Jfgktr8zkLEF7vQr1KhMZprn7uqCrYW2eMdrz/+KG0PtygDWh9nvmb/dVV9PF8MRSY6diXjCFD1Zvo4+Dnks8EdovmV16LmtEC3LsFkzWPWAN/v9KgLhhdvJ7c9kE/tSrFB6jsmOvA4aTWWK8wXOgfW9yzpeNor07TNrcV+wdK8uLKtpAmfHaHLqeSxmMAT9qU9IVQtN1IkfUNxauZsLm7/f6t67la4P70vdxBI6+PbyeZf5/bSwLASlKyN755trY+1uskG3JPltO2jBT0glivLNgNQcmCOVzRLlT+IOis1ViitHN8N/fvl6PrXP8t6x/HBr7znwGq/YbQJqrinEqqJri62SsOD6IAwCmM9VkY1cD5TZedtwGlqd799r1+oQa4zGBMF5VjJTtL126jURLuVnHeO35ampwaw4cNo3M7t/PkjC3YaAyUNO6VTHWV9Y1BXcUm+OzkwkSXoGK4Ijf7G7kvZwshYvlW6/ruAxMrIdsJ2uC628rcttQu3xcHHz2fmKCakZ75mTT41Nnle+m9IY8VkbXAHX0U/ozDREjrlbMFuwxHUbNa1w9mk+5eFnw2uMa//veTcRvSYAsgSnyEQH1YoeEc5Zv5prFvTSq08XzNSJNkRuQCA+oT0Z+bT0hzBG7Xtsm3CIdG+z5vEC8Hzw3fDi7xeu7DIAdZK7pAvGmy8ZKo4MjOJXIRrdFiFVx5mkFl5PjYtlwwj3069W8JI1ijagsaPq8+iu6ojs0Ov5r403jf3KggUGe8h2Ry8I443F1N8YvRdG01EPqg22SZsDoH7/Prx933rRt7hzoy9oLUkwPLNcNE3zN/LMtA6z03GEL1JwZnNU9jz+bNDhGuaUDAwVz89YJdXx0b+U6FjOVENPGErxgQm18q9JcwI3lTaUsIas6m1tLeTsKKs2cRi4HP1Rgo7HW8c0BHrHEE6+1D0Uq1Sn0x+REg4ayJPCxH+KfyA+tX16+WD0sXBWb96x4bLJMpJzITTT9RCzl3ERb0svpbJP9b98BUwkVtUUYU3yD3cVSdQWUL6T/BiVlTvQRs35RV659TJcNCL3PzZ1codwrvAgrtosfCqebva0F3lEP2vE+8WFQ+ZGY4sCjjkPhtMS1HKSj1AHzHaHYwJ9wDdAGj9aPIE5B3X4c5HyuvFpcV8yuvPV9Ls0ALMXMNyvfHBocs004LxmjDRU1VIGjbdQTpS80ZgQH9QBFwTTjFHTT7HGzHvltT72J/fydwfzy3KWMl/wtW0+61vukXHmtka9OYLoAz8Bv0RmiWrL5Ix0z88SjxK1UKYOIoncRPACJwH2gfH+pjsQuTl3cPUzMoyxrjHkMzPzYDO38s5w5S8w7/1xnTLoODwF68/Oz5GNWA/akzMQTI9IkrtVCVOLU1hTLQvMwm7653nIed+4s7XjdQc1vrM5r9ZtDi3Orp6xxLgQPcI/oT+5wwKF2UbwR+6LFk3Kj/pRPY/VzSqI0AZMxMLDm0EIf1k+EXyhOmk2kzQw8r4yRvKLcsAyvzE1sBAwc/Df8Opyg7wnB18LCQsMTLDQctALjkYPkNH40jRSF5SkkY1KxwNcv45+eLwt+aN3gviIt3u0zvGjr8pu667NsvT3S3rte/1/IAGLQwwEHEUBRxdJl8zujYbN0ovKCbCIKIZDhLbCUIFPwLl/iP0t+aC3O3Sbs42y9LG88OqwfLCF8UOxSPJtuWiBBMNrxQJIeIx4jGIL1k3Xj2BPXo/lUr4QYEyNSEBFzkQvAO9+CjwyfEJ6lLiL9ho0WvKXsV2zTfWud6H4h3tW/cZ/Sz/LQErCg8T2RvMIbUmQycvJD8ieh7NGEsR3w0CDk0ILADD9UHtF+WB2zTT18xPyU3GD8Y8x5rOD+fp+Mf6WP+5Co4XohlmHPojYiyiLyM20j4ANowqWSE0H+kacBJFCVsEFQXj/IT0Neov4kPaxddM27jdqN9S4gnq++4H8iHysfT9+98DnwsoET0VPxdSGXUZshf1E0sQxxAeEFAMowXt/XT2/O/A53Leftc+1IPSgtG30S3gzve2+jf32/0ICgsO1AviEdAbaiGgIhwu4TDqJb8cLxqRGo0Vqg55CJ8LjAkkATr60vIk60rjgOQz5w/nbuQ+6iryv/Ax8DPyxPZd+t3/FgbUC1sOAw8PE/UTBBDnDBMNsw75DTwJOQVzAa36IvO07V7mut+T28fZ2NnX17XZCutX/nD7m/qZA6AMqg4TDYsTxRlnHU8gCCsqKZ0e8RnEF8QX6xEjC0IGaQp4ByMAIPvl823tGeh76dTpReiC5hPsavSn8zzyEfSZ+Ov7+P+iBE0IcwtsDXgR0RIUDqcK7wveDOQJIAeyAtP+9PqM8y/tpOUQ3dDZOtqR2G7Zcedd+nr97PwkAU4JIwtfCDYN2xP5GF0cQiZvJ+YgZRrlFQkWVBHdC4EHqAvcCvMF5gCS+srz5+t961HroOoa6ZjsIfJy82jyivAS9Zn4ePuN/1IElAg+C3UO6A68DsIKEQqXDI0L7Qk6B9gF5wF6/cX3RPFs7F/nm+WR40Dhlt5Q373jKvL//UP7K/4fBloNFA4KDc8P4xIKF7Qa1SFMHTcYfBaFFkUU+g53BYsIFgYqCFkBPP1u+eb0/fDj8YjuC+x27YTzzfYt9SX2zvcn+dr79v3v/3QCMAUhCGIMpwrRBxgIIQjsB6wF3wI1ATUAyPts9+TyoOvA5nfkFePf4ZjhK+iJ+gkBy/9JA/0HWAtOCXEJ3AoNEGYRjxjAHnYaPhbjEg8TQQ+NCqIESwZxCccGqwSoAE38SPb386/y0fDh7lTvE/by+EH4E/Z3+Ur5Fvqd/O399wChA3AI7Aj3Cr8HiAX0B0wHvQRJAzcDhgKf//37+veE8+ruoexH6uXoD+e45zXqOe5C+dT/hQHLAJwHYgzkCZUJwwtJDtcORRSXF/UTaBNdEVQRLg41C0oFUwWTB84ELgNhAMr9S/rg+Of1RvSe80bzY/eQ+G34tPiQ+M/5Q/sy/J381P99AogEiQaJBrUFMAW9BJAE+QKGAk8Aw/8Q/Sn88PbC9OPxkO3r8ObqR+qu8enthfU7CH73YwOlB4kGPAlwCJkEUAwzCSYOBhPGD+oQkA4dDgMPjAlKBVQGxwYMBYgFqQGpAT3+Dvt4+pD3G/U/9lL4OPj8+VP5BPlm+vT6rfo7/CL+Ef+yAkEE6AN3BZAEOATGBXQCNQATAp//t/xzAcb4iPnH+hnzGfNh9FfzaehaAjrlpvJkD2Do7Ai4CSH8BQe9Dyn7/wmoC1MFcwtlELoL7wvwDXQMgQdPCqwFUgO2B8YEWQH7BLoB9/4aAEX9bfjQ+uj38Pbr+1v35/YP/Ez7vvm4/Tv8Xvt0AvcALQGABZEFRPxrDPT7JQIyCM3s3ArDARbvGv+dCajpiPnOA8HoQvlK+Zj2HvmM8gn/AAuj7l8JWw728h0OnQj9+9sJRwxY/7IMoAyABtMK0wm4CR8GFwd3BVIDgAUEBWsBoAFJAzr7nf1F/fv4d/m++lP5xvkh/PT72/2u+3H9TfwJAQ77YgG8A8D8+Q3V61oYU/mP9u0JbgVD5Scb/O+V89sT0+j59ugOC+K+BnD7zOpADozzOvshCA/x5wx8/5/0KBFz//P5KBH3AJ8AbQ9RAlUH5gsaAOwIjQq5/p0JUwW5AK4HqQHv/y4DCAD0+woCMfrl/nD7ePqXAUn3i/yD/YD56waK8PQHfwTO7XkTtfmJ+psGSALJ/NnvLCG84dH7sxh65yP0AiMY0Q4SwgAD7kYKAPVu+UYKiO4xEcbuhAqa+Rb6kRC/+/DrxiVB7SH9pBwl7GkKBBDT890L1wTvAHQCXwmxAHQCMQb6A6b9zwXfA0b+rvzZBlP5SAIP/N0Ajf4l964HVvw4+EcBYArJ54gPZAQC4v0nXNkeD+T9AAAd7WkfedwXB6YUs9cHFPf+HfdX/QT5CQvS8jj4FBmI4y4OEgFC+ZcBXged/NL8AAFxCazvKhNZ9YoHewoV7pwSWwQb9fEO1wTw9oAQZwhd718TTQgm7SIV6/uu+x0EO/x/BJ7+CfUmDpf1YP5RAk/+2PksAF0GHe3dFhrfORuH7Az5MhKe6BQDthH616skM/LB884Otfkj/6n2TgkNBhPrRwxtDz7fWBVeBw7l6xy48tj5VhNo8nMBtwg+9SYPf+5+DrEBt/GmE8D8EPMQFKv4uP3ZBhoAWQG++SASy/Sb+gUcaOe7Ah0O3fST+/AMXvtE/HMAqgP8+pAD8gQI9NUB8Q715l8Tvvr77vQRD/H3/tb2kxII6VYIOgYW70MSme1tGTjjOBob9aTw4RrQ+krjJS7B3dMK3wLWAvbnwyFJ7fv4XA96CULZVypD8LT41g1f/Df3ZA+M8nAIW/dfCEz7XvvyD2TtsAplBSr92vD+E0IF6+WeFcIAjfSw/lIZMdqOIS7sLg0S6nYl19esGwfy//0kDBDy+wQW+vMQWN8QHy3r2A+66n4YF/Ce86QmftdfCQsZ8OBIDfz6Wg2f9BD9xxBy6bAV/fCYApgNTPAR/2ELM/2w6c0j8Oth/7sCMQZ89aECDARe+9j5gRJg8zn5IAfJCOvwWADUFVHhXRyj42cdmOy3CC32KBEY8q4HmvnwDFjphyP92nsgk+a0GujXuy2H4pIGwv4Q/acVgdBILVbylPGuCIkb0sa5NZjsNfWNFc/uBwm++r0EDPhpCj30+g5u7uUV3usqCDUBh/cXB+L6UPVIGOntmfjPJbXOSCKR+Y/rXSaM3eMIcAi899P9ugxt7V8I7wG1+WQPNPNa9ose8uK3CA4HuvWkBln1FQX3FdPTXh2yDYjYsSFK7rcS8OsfEe7p9BwD7ov8OAQ8HinFnCioAI/rYgw1ALv2dAzq7rYRcvOyDF3vHA29+BwCYQBY/0b+Tv0ZCvDrUxpQ6sMB2hIu7AgAgwnt/fr3EQCsELfmog8I86cfdtj2CfojE8uKEsQiJMrIHF8JcdzPJbDoqQEdBGYGEvWMCRH/y/4h/VgLv/AtAXgRDuXtFGoA8OtmHHDmhQsdBAjzFhvzzrpB29Lk/Z8r3MjrJ83sI/9bBL0EFe4CI+jWiRAlDYft0vF7NYPSPv/JHvXmgQcm+H4YN+FKD+8BAQKa7isVtvoA9TcOwAjJ3FYoVea+BfAMDfq28Ksa8vhi6pIbGf0t4IUswOcsAIEH7grl3UAZYP4f77MOVftOCdftdAx/Gri85D8w7rfctCU/DYy9rEaM3Wf7iRG38TUL0vI+C74F2+dWHhTtORDg4rostNi1BXcQ4O3FA18TQ+UqE7bwCQz/8/0HKfsq/cATGt8OHPXxyv28A24QVdt6KWLr9v0VBd8DnPtI9kwSYfTB82ge9uj0+6AMwwuH4o4XsP4V7gEMsP7y+IIIGvSE/g4SgfsU4h0vFe4g5vkixQOZzadAvOK58woYavQhCJr5Rf1yChz2e/57CuP85P34AfUIJeGoIUr4vu+6CygRp97/FMIAtvs6+yf5bBiV6KoNX/yx9XMhy8ljOMjaxexCRuW9NwPHOz2+jyJ0AvL4bwYz8k4J0/3d9CEJYQAx+iUNE+yID2XuXRG0BO7ThjjX4qj0ywpcEFbyH+8yHVkBntM7HfEYt8aeFN0rbMweD9kcBuad/QIOrPn4/17wjB9P6TDkxzxp3XXsizO71qsZF/BaDccGMfAxBjYCpQhq6u7+RB424E8Kkga588X3+Rf5684Emg9063IKGwEm+EgCBwmV868J8wVv7wD1cywm16n1iz5Yvg0RHRn8+kzb2zR+4X0CJRh24nkTFfkZ/ZkEcPEkDPz6/vGlHdTfgRFe+xb6kgYbAWcIG+DKH2MCFeNPFR0EfverBEQI/Ppp81kX091oKYXV/h228Kj/6wb1/Nv9+gOOAT3+CwPOA0/+nfwFEVrhgihQ4PEDAQyI+KH23BRJ7JgNPf7f9ngGsQsU11oYtA8VzUYrhOlsDc4E1uzFDtQLPN1eHT0KHNaTMoLne/SGFzX/gvEEBd4ME+shCIII/O8BDO/0KgiPAjD5uQBrDL3unfySBt8NVNqfIWD+D/ElA1wPMe/j++obROaFDLb7YQBc+XASV+jKCV/9yPC/EqfzL+1sI93fJQIGHeLaaQrKFMDmvBlT43gnNPNt4149CtZW/O8rC9fkE43+kQWJ78ML9Qjj8cv+ZhFrAl7mLCD49Z7+jgGZ9wkMW/gL7cof9OUMD6j0EBSJ74Py6SSzzDglmAJt4hccte49CgvieytW3NftcjVkzUwHMxTD9YnvIB2RBfPZhi3g7SPp/h1f/IDZzS238Y7qhhjXDr7OxiVTD8TLCSxu+a/dayJL+ln1SA2p9hwYEOgTAqUoDcSDH0wSkuTV9Q8eA+2y9tAGeQiE9KHsGyKo/8/OIj/y4qbyNiKs7/wGUvcYHs7XbhBgCtrxmfdHFrTjGAjgD3LewB6a+RH/y/5SBDX12gcWBu7o7hU267YRLuzpD8MB2eUbDHUO5+CVH0X9lOddHH32jQDjCIzzTAdyCmXkeRLvAFvtnQnYD9Te0h5I9q77LPQmJDTe4/yCKGHfPgGLE2wDjuCsEB8Rzu2b728n0vHB6FIOSCIgxUcWuw3M6hb6YSF/2GkU3P7g+Hf59BEp8dv8DRsA3+gNGBO92CsfaAnj2yoTfg594OIc+vfV9a4Snt2cEh0DG+qBEbH0VvzRB8H9PgGgAa8JUfYzCTTzGBOO6moAfAG/Eo7KwTQE+qrXozB4+zrPDDpR7OvaITTA5vf0NiIF2zsSWwR6/V7mKCaA75X+YfSZDv7879/BKirnquwiNYrbBQe8GUTmJg/d9DoHZgb77fUSj/Z89YMJYQAX8AYTNwNU5L4m1PR7/qsEUg6S5JgN2vt7ANf4sQF7CgPY2x6FDHHn9PsBItL81uxcD+EQh+J+A0YVcOZnEpgC4+aECrMDL+1eEqHh8iQx7xreSjrZ2pf1jBRRAvzkpxU8/b75Xgci/k79AgMjAJgNLuw4D2oLv+VGClgWlMYfJmH/5ejhEEIF7/Q2AkMH8/m69fgWJQIG0dUhVBBg0h0ONgyl+zbgxTmJ2bEAohnL6RwChAqTB9PdkRrjCOXeAwQPE4DvUQJPAKQRc+p9Ddr7VvxyFUbe4A6mCTHlIhSg9fv4Mgdm+j4LZPjfGJLv5P36DtcD8eFAGFsD8+7oAxELhPS6/5AE2PkU+A4cnt3ZBs4k59UJAZMc1uwE+aAMoAHU9I0KkwfC9CIV+Ord/98NDuX3FfT7qOn0EVgAZe5wB0AO9ujgD7D+uP1XCTf3kvpaI3Lps/dYFlv3FgYmBFgAlPyZA5H5Ww6x9WP2gREc7HQCawLA/Or5ZwjZBo3/lPFzFor7f/hNE/78++6BEq369fz69zERTefcCnkIwgAZ838EOgfF7DYNW/fEAvj1egnB8vj1wAgnBYPy2A8vD7jyfwSUE8HyEQuB+yv+HQSV/mX5mQT//SwAvPdXCbMDVvyV/j7/fAwS9TwJcPwY/MsKkfkO+84OOfmG9mgJuv98AZn49fz/CeT9Yf9BBNv9iAR3+e0J6/tF/av4eAffAlIEM/3//RoL8/mwCuv6lf51A7QEmfcgB0cBO/x7/goN2vt5/LELYP4r/nwBiQbw9vcAhvafAML+qveoAMYEJQIh/XEJLABy/scGc//r+5gCewA2Anj7BAaW/177XvtdBtP+EP0TAin8UAGjBV36ugEMBXMAsP4MBCH8Cf9SBLT4LwTU/1ABcf0KAtoHhf+U/G4F2Pk9/o4B/vzI+2MCLQE9/jYCdAL//af+iQbxAy0CCQG6AdT/PgGd/T0AZ/z+/Oz8jwL1/Cv+EP1X/ogEjgGW/2MCAgM/AucCJQLD/2D+LP+GAk8ANQG/+5X+hQGW/0YAnv7U//gBJQOoACUCe/5o/d4B8AIkAcr9y/+fALoBUAHb/Kj/ewCoAHUDmQMA/+z8oQIsACz/HAKE/vb9uwJ9Ap8Ay//K/Z//fAGE/sr9RPyw/sP/jP3b/Sr9GPzr+g==\" type=\"audio/wav\" />\n",
       "                    Your browser does not support the audio element.\n",
       "                </audio>\n",
       "              "
      ],
      "text/plain": [
       "<IPython.lib.display.Audio object>"
      ]
     },
     "metadata": {},
     "output_type": "display_data"
    }
   ],
   "source": [
    "test_ds = TimitDataset('timit/data/TEST/')\n",
    "item = test_ds[5]\n",
    "print(item[\"uri\"])\n",
    "print(item['text'][2])\n",
    "display.display(display.Audio(item['audio'][0].numpy(), rate=item['audio'][1]))\n",
    "print('---words---')\n",
    "for start, stop, word in item['word_ali']:\n",
    "    print(word)\n",
    "    display.display(display.Audio(item['audio'][0][start:stop].numpy(), rate=item['audio'][1]))\n",
    "    break"
   ]
  },
  {
   "cell_type": "markdown",
   "id": "1e16fa85-78d8-4604-a55d-377b197ec001",
   "metadata": {},
   "source": [
    "## 1.b. Экстрактор фич\n",
    "Для того чтобы построить акустическую модель, первым делом надо извлечь признаки аудио сигнала. Для распознавания речь принято использовать fbank признаки. fbank/MelSpectrogram признаки получается из амплитудного спектра сигнала путем свертки спекта с треугольными фильтрами в мел-шкале. Есть множество реализаций данных признаков в различных библиотеках (kaldi, librosa, torchaudio) и все они имеют свои особенности. В данной работе мы будем использовать реализацию из библиотеки torchaudio. "
   ]
  },
  {
   "cell_type": "code",
   "execution_count": 8,
   "id": "e7e8d4cf",
   "metadata": {},
   "outputs": [],
   "source": [
    "import torchaudio.transforms as T\n",
    "import torchaudio.functional as F\n",
    "\n",
    "class FeatureExtractor(torch.nn.Module):\n",
    "    def __init__(\n",
    "        self,\n",
    "        sample_rate=16000,\n",
    "        n_fft=400,\n",
    "        hop_length=160,\n",
    "        n_mels=40,\n",
    "        f_max=7600,\n",
    "        spec_aug_max_fmask=10,\n",
    "        spec_aug_max_tmask=80,\n",
    "    ):\n",
    "        super().__init__()\n",
    "        self.sample_rate = sample_rate\n",
    "        self.n_fft = n_fft\n",
    "        self.hop_length = hop_length\n",
    "        self.n_mels = n_mels\n",
    "        #TODO\n",
    "        # инициализируйте обработчик fbank фич из torchaudio\n",
    "        self.mel_spec = T.MelSpectrogram(\n",
    "            sample_rate=self.sample_rate,\n",
    "            n_fft=self.n_fft,\n",
    "            hop_length=self.hop_length,\n",
    "            n_mels=self.n_mels,\n",
    "            f_max=f_max\n",
    "        )\n",
    "\n",
    "        # self.time_masking = T.TimeMasking(time_mask_param=spec_aug_max_tmask)\n",
    "        self.freq_masking = T.FrequencyMasking(freq_mask_param=spec_aug_max_fmask)\n",
    "        \n",
    "    def samples2frames(self, num_samples: int) -> int:\n",
    "        # TODO\n",
    "        # Верните количество кадров в спектрограмме, соответствующей вавке длиной num_samples\n",
    "        return num_samples // self.hop_length + 1\n",
    "    \n",
    "    @property\n",
    "    def feats_dim(self):\n",
    "        # TODO\n",
    "        # Верните количество извлекаемых фич\n",
    "        return self.n_mels \n",
    "    \n",
    "    def forward(self, waveform: torch.Tensor) -> torch.Tensor:\n",
    "        mel = self.mel_spec(waveform)\n",
    "        if random.random() > 0.5:\n",
    "            mel = self.freq_masking(mel)\n",
    "        return mel"
   ]
  },
  {
   "cell_type": "code",
   "execution_count": 9,
   "id": "5d861c39",
   "metadata": {},
   "outputs": [
    {
     "data": {
      "application/vnd.jupyter.widget-view+json": {
       "model_id": "22bad715a77d4a8183561c1a9e8e2815",
       "version_major": 2,
       "version_minor": 0
      },
      "text/plain": [
       "  0%|          | 0/25000 [00:00<?, ?it/s]"
      ]
     },
     "metadata": {},
     "output_type": "display_data"
    },
    {
     "name": "stdout",
     "output_type": "stream",
     "text": [
      "Test 1.b passed\n"
     ]
    }
   ],
   "source": [
    "def test_samples2frames():\n",
    "    fe = FeatureExtractor()\n",
    "    for i in tqdm(range(15000, 40000)):\n",
    "        wav = torch.zeros(i)\n",
    "        feats = fe(wav)\n",
    "        assert feats.shape[-2] == fe.feats_dim, f\"{i} {feats.shape[-2]=}, {fe.feats_dim}\"\n",
    "\n",
    "        assert feats.shape[-1] == fe.samples2frames(i), f\"{i} {feats.shape[-1]=}, {fe.samples2frames(i)}\"\n",
    "        \n",
    "    print('Test 1.b passed')\n",
    "test_samples2frames()"
   ]
  },
  {
   "cell_type": "markdown",
   "id": "b6c53730-3c9e-495e-bf5d-dd258d879841",
   "metadata": {},
   "source": [
    "## 1.с. Таргеты и объединение данных в батчи \n",
    "\n",
    "Акустическая Модель (АМ) - пофреймовый классификатор, который предсказывает фонему для каждого кадра аудио. Для обучения AM будем использовать фонемное выравнивание. "
   ]
  },
  {
   "cell_type": "code",
   "execution_count": 10,
   "id": "bd07a3ef-8dd3-4411-96fe-42d597a8d154",
   "metadata": {},
   "outputs": [
    {
     "name": "stdout",
     "output_type": "stream",
     "text": [
      "Found 4620 utterances in timit/data/TRAIN/.  4620 wavs,  4620 texts,  4620 word alinments,  4620 phone alignments\n",
      "{'uri': 'timit/data/TRAIN/DR1/FCJF0/SA1', 'audio': (tensor([ 3.0518e-05, -3.0518e-05,  6.1035e-05,  ..., -3.0518e-05,\n",
      "        -1.5259e-04, -2.4414e-04]), 16000), 'text': (0, 46797, 'She had your dark suit in greasy wash water all year.'), 'word_ali': [(3050, 5723, 'she'), (5723, 10337, 'had'), (9190, 11517, 'your'), (11517, 16334, 'dark'), (16334, 21199, 'suit'), (21199, 22560, 'in'), (22560, 28064, 'greasy'), (28064, 33360, 'wash'), (33754, 37556, 'water'), (37556, 40313, 'all'), (40313, 44586, 'year')], 'phone_ali': [(0, 3050, 'h#'), (3050, 4559, 'sh'), (4559, 5723, 'ix'), (5723, 6642, 'hv'), (6642, 8772, 'eh'), (8772, 9190, 'dcl'), (9190, 10337, 'jh'), (10337, 11517, 'ih'), (11517, 12500, 'dcl'), (12500, 12640, 'd'), (12640, 14714, 'ah'), (14714, 15870, 'kcl'), (15870, 16334, 'k'), (16334, 18088, 's'), (18088, 20417, 'ux'), (20417, 21199, 'q'), (21199, 22560, 'en'), (22560, 22920, 'gcl'), (22920, 23271, 'g'), (23271, 24229, 'r'), (24229, 25566, 'ix'), (25566, 27156, 's'), (27156, 28064, 'ix'), (28064, 29660, 'w'), (29660, 31719, 'ao'), (31719, 33360, 'sh'), (33360, 33754, 'epi'), (33754, 34715, 'w'), (34715, 36080, 'ao'), (36080, 36326, 'dx'), (36326, 37556, 'axr'), (37556, 39561, 'ao'), (39561, 40313, 'l'), (40313, 42059, 'y'), (42059, 43479, 'ih'), (43479, 44586, 'axr'), (44586, 46720, 'h#')]}\n",
      "{'pau': 0, 'aa': 1, 'ae': 2, 'ah': 3, 'ao': 4, 'aw': 5, 'ax': 6, 'ax-h': 7, 'axr': 8, 'ay': 9, 'b': 10, 'bcl': 11, 'ch': 12, 'd': 13, 'dcl': 14, 'dh': 15, 'dx': 16, 'eh': 17, 'el': 18, 'em': 19, 'en': 20, 'eng': 21, 'er': 22, 'ey': 23, 'f': 24, 'g': 25, 'gcl': 26, 'hh': 27, 'hv': 28, 'ih': 29, 'ix': 30, 'iy': 31, 'jh': 32, 'k': 33, 'kcl': 34, 'l': 35, 'm': 36, 'n': 37, 'ng': 38, 'nx': 39, 'ow': 40, 'oy': 41, 'p': 42, 'pcl': 43, 'q': 44, 'r': 45, 's': 46, 'sh': 47, 't': 48, 'tcl': 49, 'th': 50, 'uh': 51, 'uw': 52, 'ux': 53, 'v': 54, 'w': 55, 'y': 56, 'z': 57, 'zh': 58, 'epi': 0, 'h#': 0}\n"
     ]
    }
   ],
   "source": [
    "train_ds = TimitDataset('timit/data/TRAIN/')\n",
    "print(train_ds[0])\n",
    "\n",
    "# Строим мапинг из написания фонемы в ее id \n",
    "phones = train_ds.get_phones() \n",
    "phones.remove('pau')\n",
    "phones.remove('epi')\n",
    "phones.remove('h#')\n",
    "\n",
    "# Фонемы паузы должны иметь индекс 0\n",
    "PHONE2ID = {p:i for i, p in enumerate(['pau'] + list(sorted(phones)))}\n",
    "PHONE2ID['epi'] = 0\n",
    "PHONE2ID['h#'] = 0\n",
    "print(PHONE2ID)"
   ]
  },
  {
   "cell_type": "code",
   "execution_count": 11,
   "id": "6408ab6b",
   "metadata": {},
   "outputs": [],
   "source": [
    "from torch.nn.utils.rnn import pad_sequence\n",
    "\n",
    "class FeatsPhoneDataset(TimitDataset):\n",
    "    def __init__(self, data_path, feature_extractor: FeatureExtractor, phone2id):\n",
    "        super().__init__(data_path)\n",
    "        self.feature_extractor = feature_extractor\n",
    "        self.phone2id = phone2id\n",
    "    \n",
    "    def __getitem__(self, index):\n",
    "        orig_item = super().__getitem__(index)\n",
    "        wav, sr = orig_item['audio']\n",
    "        assert sr == self.feature_extractor.sample_rate, f\"wrong sr for {index}\"\n",
    "        # подготавливаем пофреймовые фичи\n",
    "        feats = self.feature_extractor(wav)\n",
    "        feats = feats.squeeze(dim=0).transpose(0, 1) # time x feats\n",
    "\n",
    "        # создаем пофреймовое выравнивание \n",
    "        targets = torch.zeros(feats.shape[0], dtype=torch.long)\n",
    "        # TODO \n",
    "        # заполните пофреймовое фонемное выравнивание targets idшниками фонем\n",
    "        # используйте phone_ali\n",
    "        scale = len(wav)/feats.shape[0]\n",
    "        for phone in orig_item[\"phone_ali\"]:\n",
    "            start = int(phone[0]/scale)\n",
    "            end = int(phone[1]/scale)\n",
    "            targets[start:end] = self.phone2id[phone[2]]\n",
    "        \n",
    "        return {\"uri\": orig_item[\"uri\"],\n",
    "                \"feats\": feats,\n",
    "                \"targets\": targets, \n",
    "                \"src_key_padding_mask\": torch.zeros(feats.shape[0], dtype=torch.bool)}\n",
    "    \n",
    "    def collate_pad(self, batch: List[Dict[str, Any]]) -> Dict[str, torch.Tensor]:\n",
    "        \"\"\"Функция объединения элементов в один батч\"\"\"\n",
    "        # TODO \n",
    "        # Реализуйте функцию, которая объединяет несколько item'ов датасета в один батч\n",
    "        # See collate_fn https://pytorch.org/docs/stable/data.html\n",
    "        # Входные данные и маску надо вернуть таком формате, в каком работает с данными torch.nn.Transformer\n",
    "        # targets надо склеить тензор с одной осью. Длина оси будет равна суммарному количеству кадров в батче\n",
    "        feats = [torch.tensor(item['feats']) for item in batch]\n",
    "        feats = pad_sequence(feats, batch_first=True, padding_value=0)\n",
    "        src_key_padding_mask = (feats.sum(dim=-1) == 0)\n",
    "        targets = torch.cat([torch.tensor(item['targets']) for item in batch])\n",
    "        feats = feats.permute(1, 0, 2)\n",
    "        return {'feats': feats, # (Time, Batch, feats)\n",
    "               'targets': targets, #(SumTime)\n",
    "               'src_key_padding_mask': src_key_padding_mask, #(Batch, Time)\n",
    "               }"
   ]
  },
  {
   "cell_type": "code",
   "execution_count": 12,
   "id": "9042a31c",
   "metadata": {},
   "outputs": [
    {
     "name": "stdout",
     "output_type": "stream",
     "text": [
      "Found 1680 utterances in timit/data/TEST/.  1680 wavs,  1680 texts,  1680 word alinments,  1680 phone alignments\n",
      "Test 1.c passed\n"
     ]
    },
    {
     "name": "stderr",
     "output_type": "stream",
     "text": [
      "/tmp/ipykernel_178447/1192423107.py:40: UserWarning: To copy construct from a tensor, it is recommended to use sourceTensor.clone().detach() or sourceTensor.clone().detach().requires_grad_(True), rather than torch.tensor(sourceTensor).\n",
      "  feats = [torch.tensor(item['feats']) for item in batch]\n",
      "/tmp/ipykernel_178447/1192423107.py:43: UserWarning: To copy construct from a tensor, it is recommended to use sourceTensor.clone().detach() or sourceTensor.clone().detach().requires_grad_(True), rather than torch.tensor(sourceTensor).\n",
      "  targets = torch.cat([torch.tensor(item['targets']) for item in batch])\n"
     ]
    }
   ],
   "source": [
    "def test_collate_pad():\n",
    "    fe = FeatureExtractor()\n",
    "    test_ds = FeatsPhoneDataset('timit/data/TEST/', feature_extractor=fe, phone2id=PHONE2ID)\n",
    "\n",
    "    for i in range(20):\n",
    "        targets = test_ds[i]['targets']\n",
    "        orig_ph_ali = test_ds.get_phone_ali(i)\n",
    "        targets_set = set(targets.tolist())\n",
    "        orig_set = set([PHONE2ID[ph] for *_, ph in orig_ph_ali])\n",
    "        assert targets_set == orig_set, f\"{i} \\n{targets_set} \\n {orig_set} \\n {orig_ph_ali}\"\n",
    "\n",
    "    items = [test_ds[i] for i in range(30)]\n",
    "    batch = test_ds.collate_pad(items)\n",
    "    assert len(batch['feats'].shape) == 3, batch['feats'].shape\n",
    "    assert batch['feats'].shape[1] == 30, batch['feats'].shape\n",
    "\n",
    "    assert len(batch['src_key_padding_mask'].shape) == 2, batch['src_key_padding_mask'].shape\n",
    "    assert batch['src_key_padding_mask'].shape[0] == 30, batch['src_key_padding_mask'].shape\n",
    "    assert batch['src_key_padding_mask'].shape[1] == batch['feats'].shape[0], f\"{batch['feats'].shape} {batch['src_key_padding_mask'].shape}\"\n",
    "\n",
    "    number_nonmasked_frames = (~batch['src_key_padding_mask']).sum()\n",
    "    assert number_nonmasked_frames == len(batch['targets']), f\"{number_nonmasked_frames} != {len(batch['targets'])}\"\n",
    "\n",
    "    accumulated_len = 0\n",
    "    for i, item in enumerate(items):\n",
    "        feats = batch['feats'][:, i, :]\n",
    "        assert torch.isclose(feats.sum(), item['feats'].sum()) , i\n",
    "        src = batch['src_key_padding_mask'][i, :]\n",
    "        cutted_feats = feats[~src]\n",
    "        assert torch.isclose(item['feats'], cutted_feats).all()\n",
    "        cutted_targets = batch['targets'][accumulated_len: accumulated_len + cutted_feats.shape[0]]\n",
    "        assert torch.isclose(cutted_targets, item['targets']).all()\n",
    "        accumulated_len += cutted_feats.shape[0]\n",
    "    print(\"Test 1.c passed\")\n",
    "\n",
    "test_collate_pad()\n"
   ]
  },
  {
   "cell_type": "markdown",
   "id": "6e59eb65-dbbb-4d11-aa26-b2812b04219e",
   "metadata": {},
   "source": [
    "# 2. Акустическая модель\n",
    "\n",
    "Обучим TransformerEncoder из torch решать задачу пофреймовой классификации. "
   ]
  },
  {
   "cell_type": "code",
   "execution_count": 13,
   "id": "c809da35",
   "metadata": {},
   "outputs": [],
   "source": [
    "class AModel(nn.Module):\n",
    "    def __init__(self, feats_dim, out_dim,  dim=128, num_layers=4, ff_dim=256, dropout=0.1, nhead=4, max_len=780):\n",
    "        super().__init__()\n",
    "        self.feats_dim = feats_dim\n",
    "        self.max_len=max_len\n",
    "        self.input_ff = nn.Linear(feats_dim, dim)\n",
    "        self.positional_encoding = nn.Embedding(max_len, dim)\n",
    "        layer = torch.nn.TransformerEncoderLayer(d_model=dim, \n",
    "                                                 nhead=nhead, \n",
    "                                                 dim_feedforward=ff_dim, \n",
    "                                                 dropout=dropout, \n",
    "                                                 batch_first=False)\n",
    "        self.encoder = torch.nn.TransformerEncoder(encoder_layer=layer, num_layers=num_layers)\n",
    "        \n",
    "        self.head = nn.Linear(dim, out_dim)\n",
    "\n",
    "    def forward(self, feats, src_key_padding_mask=None, **kwargs):\n",
    "        #TODO \n",
    "        # реализуйте прямой проход модели.\n",
    "        # Фичи подаются на первый ff слой, \n",
    "        # к результату прибавляются позиционные эмбединги.\n",
    "        # Далее фреймы обрабатываются трансформером \n",
    "        # и финализируются с помощью головы\n",
    "        x = self.input_ff(feats)\n",
    "        positions = torch.arange(0, x.size(0), device=x.device).unsqueeze(1)\n",
    "        pos_encodings = self.positional_encoding(positions)\n",
    "        x = x + pos_encodings\n",
    "        x = self.encoder(x, src_key_padding_mask=src_key_padding_mask)\n",
    "        logits = self.head(x)\n",
    "        \n",
    "        return logits # (Time, Batch, Phones)"
   ]
  },
  {
   "cell_type": "markdown",
   "id": "828458c8-e53f-4dcd-b092-00358036cd2a",
   "metadata": {},
   "source": [
    "## 3. Обучение модели "
   ]
  },
  {
   "cell_type": "code",
   "execution_count": 14,
   "id": "e60ef5b0-4e9d-4543-9cfa-a449ea5cebc8",
   "metadata": {},
   "outputs": [],
   "source": [
    "# Стандартный пайплайн обучения моделей в pytorch\n",
    "class Trainer(nn.Module):\n",
    "    def __init__(self, model, fe, phone2id, device='cuda', opt_cls=torch.optim.Adam, opt_kwargs={'lr':0.0001}):\n",
    "        super().__init__()\n",
    "        self.device=device\n",
    "        self.fe = fe\n",
    "        self.model = model.to(self.device)\n",
    "        self.phone2id = phone2id\n",
    "        self.id2phone = {i:ph for ph,i in phone2id.items()}\n",
    "        self.optimizer = opt_cls(self.model.parameters(), **opt_kwargs)\n",
    "        self.criterion = torch.nn.CrossEntropyLoss()\n",
    "        print(f\"{self.model}. {self.device}\")\n",
    "\n",
    "    def to(self, device):\n",
    "        self.device = device\n",
    "        return super().to()\n",
    "\n",
    "    def forward(self, batch):\n",
    "        batch = self.batch_to_device(batch)\n",
    "        logits = self.model(**batch)\n",
    "        #TODO\n",
    "        # Calculate the loss\n",
    "        targets = batch['targets']\n",
    "        non_padding_mask = ~batch['src_key_padding_mask'].view(-1)\n",
    "        logits = logits.permute(1, 0, 2)\n",
    "        logits = logits.reshape(-1, logits.size(-1))\n",
    "        logits = logits[non_padding_mask]\n",
    "        loss = self.criterion(logits, targets)\n",
    "        return loss\n",
    "\n",
    "    def batch_to_device(self, batch):\n",
    "        return {k: v.to(self.device) for k, v in batch.items()}\n",
    "\n",
    "    def train_one_epoch(self, train_dataloader):\n",
    "        \"\"\" Цикл обучения одной эпохи по всем данным\"\"\"\n",
    "        self.model.train()\n",
    "        pbar = tqdm(train_dataloader)\n",
    "        losses = []\n",
    "        for batch in pbar:\n",
    "            self.optimizer.zero_grad()\n",
    "            loss = self.forward(batch)\n",
    "            loss.backward()\n",
    "            self.optimizer.step()\n",
    "            losses.append(loss.item())\n",
    "            pbar.set_description(f\"training loss {losses[-1]:.5f}\")\n",
    "        return losses\n",
    "\n",
    "    def score(self, valid_dataloader) -> List[float]:\n",
    "        \"\"\"Подсчет лосса на валидационной выборке\"\"\"\n",
    "        pbar = tqdm(valid_dataloader, desc=\"Scoring...\")\n",
    "        losses = []\n",
    "        #TODO\n",
    "        self.model.eval()\n",
    "        with torch.no_grad():\n",
    "            for batch in pbar:\n",
    "                loss = self.forward(batch)\n",
    "                losses.append(loss.item())\n",
    "                pbar.set_description(f\"validation loss {losses[-1]:.5f}\")\n",
    "\n",
    "        return losses\n",
    "\n",
    "    def fit(self, train_dataloader, epochs, valid_dataloader=None, plot_losses=True):\n",
    "        \"\"\"Запуск обучения на данном dataloader\"\"\"\n",
    "        pbar = tqdm(range(epochs))\n",
    "        per_epoch_train_losses = []\n",
    "        per_epoch_val_losses = []\n",
    "        for e in pbar:\n",
    "            train_loss = np.mean(self.train_one_epoch(train_dataloader))\n",
    "            per_epoch_train_losses.append(train_loss)\n",
    "            if valid_dataloader is not None:\n",
    "                val_loss = np.mean(self.score(valid_dataloader))\n",
    "                per_epoch_val_losses.append(val_loss)\n",
    "            if plot_losses:\n",
    "                display.clear_output()\n",
    "                self.plot_losses(per_epoch_train_losses, per_epoch_val_losses)\n",
    "            else:\n",
    "                val_loss = val_loss if valid_dataloader is not None else float('Nan')\n",
    "                print(f\"train: {train_loss:.5f} | val: {val_loss:.5f}\")\n",
    "        return per_epoch_train_losses, per_epoch_val_losses\n",
    "    \n",
    "    def plot_losses(self, train_losses, val_losses=[]):\n",
    "        plt.title(f\"Train test losses (epoch {len(train_losses)})\")\n",
    "        plt.plot(range(len(train_losses)), train_losses)\n",
    "        if len(val_losses)>0:\n",
    "            assert len(train_losses) == len(val_losses)\n",
    "            plt.plot(range(len(val_losses)), val_losses)\n",
    "        plt.ylabel(\"loss\")\n",
    "        plt.xlabel('epoch')\n",
    "        plt.legend([\"train loss\", \"valid loss\"])\n",
    "        plt.grid(True)\n",
    "        plt.show()"
   ]
  },
  {
   "cell_type": "code",
   "execution_count": 15,
   "id": "6bf8be5c-c1dd-4587-ac67-b74d27f1e5b9",
   "metadata": {},
   "outputs": [
    {
     "name": "stderr",
     "output_type": "stream",
     "text": [
      "/home/gnurtqh/.local/lib/python3.10/site-packages/torch/nn/modules/transformer.py:282: UserWarning: enable_nested_tensor is True, but self.use_nested_tensor is False because encoder_layer.self_attn.batch_first was not True(use batch_first for better inference performance)\n",
      "  warnings.warn(f\"enable_nested_tensor is True, but self.use_nested_tensor is False because {why_not_sparsity_fast_path}\")\n"
     ]
    },
    {
     "name": "stdout",
     "output_type": "stream",
     "text": [
      "Found 10 utterances in timit/data/TEST/DR1/FAKS0.  10 wavs,  10 texts,  10 word alinments,  10 phone alignments\n",
      "AModel(\n",
      "  (input_ff): Linear(in_features=40, out_features=256, bias=True)\n",
      "  (positional_encoding): Embedding(780, 256)\n",
      "  (encoder): TransformerEncoder(\n",
      "    (layers): ModuleList(\n",
      "      (0-5): 6 x TransformerEncoderLayer(\n",
      "        (self_attn): MultiheadAttention(\n",
      "          (out_proj): NonDynamicallyQuantizableLinear(in_features=256, out_features=256, bias=True)\n",
      "        )\n",
      "        (linear1): Linear(in_features=256, out_features=512, bias=True)\n",
      "        (dropout): Dropout(p=0.0, inplace=False)\n",
      "        (linear2): Linear(in_features=512, out_features=256, bias=True)\n",
      "        (norm1): LayerNorm((256,), eps=1e-05, elementwise_affine=True)\n",
      "        (norm2): LayerNorm((256,), eps=1e-05, elementwise_affine=True)\n",
      "        (dropout1): Dropout(p=0.0, inplace=False)\n",
      "        (dropout2): Dropout(p=0.0, inplace=False)\n",
      "      )\n",
      "    )\n",
      "  )\n",
      "  (head): Linear(in_features=256, out_features=59, bias=True)\n",
      "). cuda\n"
     ]
    },
    {
     "data": {
      "application/vnd.jupyter.widget-view+json": {
       "model_id": "555e911aa8e04a3ebae8857f227ed799",
       "version_major": 2,
       "version_minor": 0
      },
      "text/plain": [
       "  0%|          | 0/160 [00:00<?, ?it/s]"
      ]
     },
     "metadata": {},
     "output_type": "display_data"
    },
    {
     "data": {
      "application/vnd.jupyter.widget-view+json": {
       "model_id": "2845510983514280b1498940832b1423",
       "version_major": 2,
       "version_minor": 0
      },
      "text/plain": [
       "  0%|          | 0/1 [00:00<?, ?it/s]"
      ]
     },
     "metadata": {},
     "output_type": "display_data"
    },
    {
     "name": "stderr",
     "output_type": "stream",
     "text": [
      "/tmp/ipykernel_178447/1192423107.py:40: UserWarning: To copy construct from a tensor, it is recommended to use sourceTensor.clone().detach() or sourceTensor.clone().detach().requires_grad_(True), rather than torch.tensor(sourceTensor).\n",
      "  feats = [torch.tensor(item['feats']) for item in batch]\n",
      "/tmp/ipykernel_178447/1192423107.py:43: UserWarning: To copy construct from a tensor, it is recommended to use sourceTensor.clone().detach() or sourceTensor.clone().detach().requires_grad_(True), rather than torch.tensor(sourceTensor).\n",
      "  targets = torch.cat([torch.tensor(item['targets']) for item in batch])\n"
     ]
    },
    {
     "data": {
      "application/vnd.jupyter.widget-view+json": {
       "model_id": "e4b61097fe5d4305a23683bf083dbc68",
       "version_major": 2,
       "version_minor": 0
      },
      "text/plain": [
       "Scoring...:   0%|          | 0/10 [00:00<?, ?it/s]"
      ]
     },
     "metadata": {},
     "output_type": "display_data"
    },
    {
     "name": "stdout",
     "output_type": "stream",
     "text": [
      "train: 4.25913 | val: 3.99756\n"
     ]
    },
    {
     "data": {
      "application/vnd.jupyter.widget-view+json": {
       "model_id": "918121d791c445e597ac9a5c8195de10",
       "version_major": 2,
       "version_minor": 0
      },
      "text/plain": [
       "  0%|          | 0/1 [00:00<?, ?it/s]"
      ]
     },
     "metadata": {},
     "output_type": "display_data"
    },
    {
     "data": {
      "application/vnd.jupyter.widget-view+json": {
       "model_id": "02ac09c69fa444f0865fc67d777a7995",
       "version_major": 2,
       "version_minor": 0
      },
      "text/plain": [
       "Scoring...:   0%|          | 0/10 [00:00<?, ?it/s]"
      ]
     },
     "metadata": {},
     "output_type": "display_data"
    },
    {
     "name": "stdout",
     "output_type": "stream",
     "text": [
      "train: 3.99138 | val: 3.80547\n"
     ]
    },
    {
     "data": {
      "application/vnd.jupyter.widget-view+json": {
       "model_id": "9dfe1ac3940a42e098c508f11d0bfb04",
       "version_major": 2,
       "version_minor": 0
      },
      "text/plain": [
       "  0%|          | 0/1 [00:00<?, ?it/s]"
      ]
     },
     "metadata": {},
     "output_type": "display_data"
    },
    {
     "data": {
      "application/vnd.jupyter.widget-view+json": {
       "model_id": "997681882447455da0b55a8b46c3d523",
       "version_major": 2,
       "version_minor": 0
      },
      "text/plain": [
       "Scoring...:   0%|          | 0/10 [00:00<?, ?it/s]"
      ]
     },
     "metadata": {},
     "output_type": "display_data"
    },
    {
     "name": "stdout",
     "output_type": "stream",
     "text": [
      "train: 3.79731 | val: 3.68491\n"
     ]
    },
    {
     "data": {
      "application/vnd.jupyter.widget-view+json": {
       "model_id": "a65b1909b05f437da2a0906feab63aa1",
       "version_major": 2,
       "version_minor": 0
      },
      "text/plain": [
       "  0%|          | 0/1 [00:00<?, ?it/s]"
      ]
     },
     "metadata": {},
     "output_type": "display_data"
    },
    {
     "data": {
      "application/vnd.jupyter.widget-view+json": {
       "model_id": "1a5fadbf41c240bdbaaa1868713c9a3b",
       "version_major": 2,
       "version_minor": 0
      },
      "text/plain": [
       "Scoring...:   0%|          | 0/10 [00:00<?, ?it/s]"
      ]
     },
     "metadata": {},
     "output_type": "display_data"
    },
    {
     "name": "stdout",
     "output_type": "stream",
     "text": [
      "train: 3.67578 | val: 3.61417\n"
     ]
    },
    {
     "data": {
      "application/vnd.jupyter.widget-view+json": {
       "model_id": "06bbca1307904d62a5de12133318c374",
       "version_major": 2,
       "version_minor": 0
      },
      "text/plain": [
       "  0%|          | 0/1 [00:00<?, ?it/s]"
      ]
     },
     "metadata": {},
     "output_type": "display_data"
    },
    {
     "data": {
      "application/vnd.jupyter.widget-view+json": {
       "model_id": "da88d669ecff428495f12986a3884354",
       "version_major": 2,
       "version_minor": 0
      },
      "text/plain": [
       "Scoring...:   0%|          | 0/10 [00:00<?, ?it/s]"
      ]
     },
     "metadata": {},
     "output_type": "display_data"
    },
    {
     "name": "stdout",
     "output_type": "stream",
     "text": [
      "train: 3.60483 | val: 3.56148\n"
     ]
    },
    {
     "data": {
      "application/vnd.jupyter.widget-view+json": {
       "model_id": "d761f6f1efbd480290fe203bafd9c1e5",
       "version_major": 2,
       "version_minor": 0
      },
      "text/plain": [
       "  0%|          | 0/1 [00:00<?, ?it/s]"
      ]
     },
     "metadata": {},
     "output_type": "display_data"
    },
    {
     "data": {
      "application/vnd.jupyter.widget-view+json": {
       "model_id": "057100b2f0c74984a468112cb53937e0",
       "version_major": 2,
       "version_minor": 0
      },
      "text/plain": [
       "Scoring...:   0%|          | 0/10 [00:00<?, ?it/s]"
      ]
     },
     "metadata": {},
     "output_type": "display_data"
    },
    {
     "name": "stdout",
     "output_type": "stream",
     "text": [
      "train: 3.55252 | val: 3.50751\n"
     ]
    },
    {
     "data": {
      "application/vnd.jupyter.widget-view+json": {
       "model_id": "0881a080353c49dcaff45d2800b87b7d",
       "version_major": 2,
       "version_minor": 0
      },
      "text/plain": [
       "  0%|          | 0/1 [00:00<?, ?it/s]"
      ]
     },
     "metadata": {},
     "output_type": "display_data"
    },
    {
     "data": {
      "application/vnd.jupyter.widget-view+json": {
       "model_id": "3685b6e63d364ffea13151b0f82bb686",
       "version_major": 2,
       "version_minor": 0
      },
      "text/plain": [
       "Scoring...:   0%|          | 0/10 [00:00<?, ?it/s]"
      ]
     },
     "metadata": {},
     "output_type": "display_data"
    },
    {
     "name": "stdout",
     "output_type": "stream",
     "text": [
      "train: 3.49934 | val: 3.45495\n"
     ]
    },
    {
     "data": {
      "application/vnd.jupyter.widget-view+json": {
       "model_id": "e5cfae3643a74e4981b77e8430406ff5",
       "version_major": 2,
       "version_minor": 0
      },
      "text/plain": [
       "  0%|          | 0/1 [00:00<?, ?it/s]"
      ]
     },
     "metadata": {},
     "output_type": "display_data"
    },
    {
     "data": {
      "application/vnd.jupyter.widget-view+json": {
       "model_id": "835b9975c988419fb3b80c478a86db64",
       "version_major": 2,
       "version_minor": 0
      },
      "text/plain": [
       "Scoring...:   0%|          | 0/10 [00:00<?, ?it/s]"
      ]
     },
     "metadata": {},
     "output_type": "display_data"
    },
    {
     "name": "stdout",
     "output_type": "stream",
     "text": [
      "train: 3.44783 | val: 3.41353\n"
     ]
    },
    {
     "data": {
      "application/vnd.jupyter.widget-view+json": {
       "model_id": "e3ffc4723e374851b71282c2429027f0",
       "version_major": 2,
       "version_minor": 0
      },
      "text/plain": [
       "  0%|          | 0/1 [00:00<?, ?it/s]"
      ]
     },
     "metadata": {},
     "output_type": "display_data"
    },
    {
     "data": {
      "application/vnd.jupyter.widget-view+json": {
       "model_id": "0bbe4cd72cc64913b421d542470a811a",
       "version_major": 2,
       "version_minor": 0
      },
      "text/plain": [
       "Scoring...:   0%|          | 0/10 [00:00<?, ?it/s]"
      ]
     },
     "metadata": {},
     "output_type": "display_data"
    },
    {
     "name": "stdout",
     "output_type": "stream",
     "text": [
      "train: 3.40757 | val: 3.38510\n"
     ]
    },
    {
     "data": {
      "application/vnd.jupyter.widget-view+json": {
       "model_id": "c25783f300654472a82735a9edadb2ad",
       "version_major": 2,
       "version_minor": 0
      },
      "text/plain": [
       "  0%|          | 0/1 [00:00<?, ?it/s]"
      ]
     },
     "metadata": {},
     "output_type": "display_data"
    },
    {
     "data": {
      "application/vnd.jupyter.widget-view+json": {
       "model_id": "fdf4b56b84fb4cfe8468130a812fe427",
       "version_major": 2,
       "version_minor": 0
      },
      "text/plain": [
       "Scoring...:   0%|          | 0/10 [00:00<?, ?it/s]"
      ]
     },
     "metadata": {},
     "output_type": "display_data"
    },
    {
     "name": "stdout",
     "output_type": "stream",
     "text": [
      "train: 3.38019 | val: 3.36188\n"
     ]
    },
    {
     "data": {
      "application/vnd.jupyter.widget-view+json": {
       "model_id": "f89b39eef3584034a00083f7b0b511cd",
       "version_major": 2,
       "version_minor": 0
      },
      "text/plain": [
       "  0%|          | 0/1 [00:00<?, ?it/s]"
      ]
     },
     "metadata": {},
     "output_type": "display_data"
    },
    {
     "data": {
      "application/vnd.jupyter.widget-view+json": {
       "model_id": "bc824a6bdffd46f3b71c74de3e0fc1ab",
       "version_major": 2,
       "version_minor": 0
      },
      "text/plain": [
       "Scoring...:   0%|          | 0/10 [00:00<?, ?it/s]"
      ]
     },
     "metadata": {},
     "output_type": "display_data"
    },
    {
     "name": "stdout",
     "output_type": "stream",
     "text": [
      "train: 3.35771 | val: 3.33690\n"
     ]
    },
    {
     "data": {
      "application/vnd.jupyter.widget-view+json": {
       "model_id": "dca3f6a3703b4613b2e0674561a361db",
       "version_major": 2,
       "version_minor": 0
      },
      "text/plain": [
       "  0%|          | 0/1 [00:00<?, ?it/s]"
      ]
     },
     "metadata": {},
     "output_type": "display_data"
    },
    {
     "data": {
      "application/vnd.jupyter.widget-view+json": {
       "model_id": "7f743faa39554e33b1cbae4d6f9cb628",
       "version_major": 2,
       "version_minor": 0
      },
      "text/plain": [
       "Scoring...:   0%|          | 0/10 [00:00<?, ?it/s]"
      ]
     },
     "metadata": {},
     "output_type": "display_data"
    },
    {
     "name": "stdout",
     "output_type": "stream",
     "text": [
      "train: 3.33312 | val: 3.30969\n"
     ]
    },
    {
     "data": {
      "application/vnd.jupyter.widget-view+json": {
       "model_id": "21e1a91d56fd4de681d73209dd3768bc",
       "version_major": 2,
       "version_minor": 0
      },
      "text/plain": [
       "  0%|          | 0/1 [00:00<?, ?it/s]"
      ]
     },
     "metadata": {},
     "output_type": "display_data"
    },
    {
     "data": {
      "application/vnd.jupyter.widget-view+json": {
       "model_id": "74feeeb9732044eca81d1d23fd0cf048",
       "version_major": 2,
       "version_minor": 0
      },
      "text/plain": [
       "Scoring...:   0%|          | 0/10 [00:00<?, ?it/s]"
      ]
     },
     "metadata": {},
     "output_type": "display_data"
    },
    {
     "name": "stdout",
     "output_type": "stream",
     "text": [
      "train: 3.30602 | val: 3.28377\n"
     ]
    },
    {
     "data": {
      "application/vnd.jupyter.widget-view+json": {
       "model_id": "adae9af024ea4314bafefc01f782fca3",
       "version_major": 2,
       "version_minor": 0
      },
      "text/plain": [
       "  0%|          | 0/1 [00:00<?, ?it/s]"
      ]
     },
     "metadata": {},
     "output_type": "display_data"
    },
    {
     "data": {
      "application/vnd.jupyter.widget-view+json": {
       "model_id": "b7d970943cc446439c67dfcd3035537e",
       "version_major": 2,
       "version_minor": 0
      },
      "text/plain": [
       "Scoring...:   0%|          | 0/10 [00:00<?, ?it/s]"
      ]
     },
     "metadata": {},
     "output_type": "display_data"
    },
    {
     "name": "stdout",
     "output_type": "stream",
     "text": [
      "train: 3.28000 | val: 3.26186\n"
     ]
    },
    {
     "data": {
      "application/vnd.jupyter.widget-view+json": {
       "model_id": "6c8e645948664f13be04ba84eb2c8175",
       "version_major": 2,
       "version_minor": 0
      },
      "text/plain": [
       "  0%|          | 0/1 [00:00<?, ?it/s]"
      ]
     },
     "metadata": {},
     "output_type": "display_data"
    },
    {
     "data": {
      "application/vnd.jupyter.widget-view+json": {
       "model_id": "485064411105438295943321cd46713f",
       "version_major": 2,
       "version_minor": 0
      },
      "text/plain": [
       "Scoring...:   0%|          | 0/10 [00:00<?, ?it/s]"
      ]
     },
     "metadata": {},
     "output_type": "display_data"
    },
    {
     "name": "stdout",
     "output_type": "stream",
     "text": [
      "train: 3.25786 | val: 3.24257\n"
     ]
    },
    {
     "data": {
      "application/vnd.jupyter.widget-view+json": {
       "model_id": "be47cb9ba5f943a3b0bf2d855dd7334d",
       "version_major": 2,
       "version_minor": 0
      },
      "text/plain": [
       "  0%|          | 0/1 [00:00<?, ?it/s]"
      ]
     },
     "metadata": {},
     "output_type": "display_data"
    },
    {
     "data": {
      "application/vnd.jupyter.widget-view+json": {
       "model_id": "2b3ec6db42844ab5936ed510a0b9e32e",
       "version_major": 2,
       "version_minor": 0
      },
      "text/plain": [
       "Scoring...:   0%|          | 0/10 [00:00<?, ?it/s]"
      ]
     },
     "metadata": {},
     "output_type": "display_data"
    },
    {
     "name": "stdout",
     "output_type": "stream",
     "text": [
      "train: 3.23830 | val: 3.22192\n"
     ]
    },
    {
     "data": {
      "application/vnd.jupyter.widget-view+json": {
       "model_id": "2dc628b9d6ed4f319fc0aed6faba3d15",
       "version_major": 2,
       "version_minor": 0
      },
      "text/plain": [
       "  0%|          | 0/1 [00:00<?, ?it/s]"
      ]
     },
     "metadata": {},
     "output_type": "display_data"
    },
    {
     "data": {
      "application/vnd.jupyter.widget-view+json": {
       "model_id": "5f77f955eef54e27a1331aaeead945da",
       "version_major": 2,
       "version_minor": 0
      },
      "text/plain": [
       "Scoring...:   0%|          | 0/10 [00:00<?, ?it/s]"
      ]
     },
     "metadata": {},
     "output_type": "display_data"
    },
    {
     "name": "stdout",
     "output_type": "stream",
     "text": [
      "train: 3.21740 | val: 3.19790\n"
     ]
    },
    {
     "data": {
      "application/vnd.jupyter.widget-view+json": {
       "model_id": "41ceadfe24464dc486e44327d1a5800e",
       "version_major": 2,
       "version_minor": 0
      },
      "text/plain": [
       "  0%|          | 0/1 [00:00<?, ?it/s]"
      ]
     },
     "metadata": {},
     "output_type": "display_data"
    },
    {
     "data": {
      "application/vnd.jupyter.widget-view+json": {
       "model_id": "c375289b29434b5a87ba8a191f13af84",
       "version_major": 2,
       "version_minor": 0
      },
      "text/plain": [
       "Scoring...:   0%|          | 0/10 [00:00<?, ?it/s]"
      ]
     },
     "metadata": {},
     "output_type": "display_data"
    },
    {
     "name": "stdout",
     "output_type": "stream",
     "text": [
      "train: 3.19323 | val: 3.17222\n"
     ]
    },
    {
     "data": {
      "application/vnd.jupyter.widget-view+json": {
       "model_id": "e2161ef15d0b461a84cbb615cfd451b6",
       "version_major": 2,
       "version_minor": 0
      },
      "text/plain": [
       "  0%|          | 0/1 [00:00<?, ?it/s]"
      ]
     },
     "metadata": {},
     "output_type": "display_data"
    },
    {
     "data": {
      "application/vnd.jupyter.widget-view+json": {
       "model_id": "1ee1a37cafef4229ad300268a0fcb808",
       "version_major": 2,
       "version_minor": 0
      },
      "text/plain": [
       "Scoring...:   0%|          | 0/10 [00:00<?, ?it/s]"
      ]
     },
     "metadata": {},
     "output_type": "display_data"
    },
    {
     "name": "stdout",
     "output_type": "stream",
     "text": [
      "train: 3.16747 | val: 3.14748\n"
     ]
    },
    {
     "data": {
      "application/vnd.jupyter.widget-view+json": {
       "model_id": "fdb88e91a0f64a85ae38326e87898e0e",
       "version_major": 2,
       "version_minor": 0
      },
      "text/plain": [
       "  0%|          | 0/1 [00:00<?, ?it/s]"
      ]
     },
     "metadata": {},
     "output_type": "display_data"
    },
    {
     "data": {
      "application/vnd.jupyter.widget-view+json": {
       "model_id": "8c5f520f7497499c9c33ac93c556d9ae",
       "version_major": 2,
       "version_minor": 0
      },
      "text/plain": [
       "Scoring...:   0%|          | 0/10 [00:00<?, ?it/s]"
      ]
     },
     "metadata": {},
     "output_type": "display_data"
    },
    {
     "name": "stdout",
     "output_type": "stream",
     "text": [
      "train: 3.14266 | val: 3.12393\n"
     ]
    },
    {
     "data": {
      "application/vnd.jupyter.widget-view+json": {
       "model_id": "1cd6ed3b7f0f46f28aa4818a4e2d1a70",
       "version_major": 2,
       "version_minor": 0
      },
      "text/plain": [
       "  0%|          | 0/1 [00:00<?, ?it/s]"
      ]
     },
     "metadata": {},
     "output_type": "display_data"
    },
    {
     "data": {
      "application/vnd.jupyter.widget-view+json": {
       "model_id": "a9562d62afcc4754a58e3866c295c163",
       "version_major": 2,
       "version_minor": 0
      },
      "text/plain": [
       "Scoring...:   0%|          | 0/10 [00:00<?, ?it/s]"
      ]
     },
     "metadata": {},
     "output_type": "display_data"
    },
    {
     "name": "stdout",
     "output_type": "stream",
     "text": [
      "train: 3.11897 | val: 3.09937\n"
     ]
    },
    {
     "data": {
      "application/vnd.jupyter.widget-view+json": {
       "model_id": "efd0e55ba85c47428b9dff848bbb2e9b",
       "version_major": 2,
       "version_minor": 0
      },
      "text/plain": [
       "  0%|          | 0/1 [00:00<?, ?it/s]"
      ]
     },
     "metadata": {},
     "output_type": "display_data"
    },
    {
     "data": {
      "application/vnd.jupyter.widget-view+json": {
       "model_id": "a6af5c64cdf349748c3e68e387cb6bb4",
       "version_major": 2,
       "version_minor": 0
      },
      "text/plain": [
       "Scoring...:   0%|          | 0/10 [00:00<?, ?it/s]"
      ]
     },
     "metadata": {},
     "output_type": "display_data"
    },
    {
     "name": "stdout",
     "output_type": "stream",
     "text": [
      "train: 3.09416 | val: 3.07239\n"
     ]
    },
    {
     "data": {
      "application/vnd.jupyter.widget-view+json": {
       "model_id": "ec27afb2acb4468ab44e114208dea6af",
       "version_major": 2,
       "version_minor": 0
      },
      "text/plain": [
       "  0%|          | 0/1 [00:00<?, ?it/s]"
      ]
     },
     "metadata": {},
     "output_type": "display_data"
    },
    {
     "data": {
      "application/vnd.jupyter.widget-view+json": {
       "model_id": "816a342ece02408eb16f6aa74fbe75b7",
       "version_major": 2,
       "version_minor": 0
      },
      "text/plain": [
       "Scoring...:   0%|          | 0/10 [00:00<?, ?it/s]"
      ]
     },
     "metadata": {},
     "output_type": "display_data"
    },
    {
     "name": "stdout",
     "output_type": "stream",
     "text": [
      "train: 3.06679 | val: 3.04398\n"
     ]
    },
    {
     "data": {
      "application/vnd.jupyter.widget-view+json": {
       "model_id": "6f8cf544e9c94069915da2cce829e3c9",
       "version_major": 2,
       "version_minor": 0
      },
      "text/plain": [
       "  0%|          | 0/1 [00:00<?, ?it/s]"
      ]
     },
     "metadata": {},
     "output_type": "display_data"
    },
    {
     "data": {
      "application/vnd.jupyter.widget-view+json": {
       "model_id": "3e0c235dee934739b245f6d0aaf9d625",
       "version_major": 2,
       "version_minor": 0
      },
      "text/plain": [
       "Scoring...:   0%|          | 0/10 [00:00<?, ?it/s]"
      ]
     },
     "metadata": {},
     "output_type": "display_data"
    },
    {
     "name": "stdout",
     "output_type": "stream",
     "text": [
      "train: 3.03792 | val: 3.01564\n"
     ]
    },
    {
     "data": {
      "application/vnd.jupyter.widget-view+json": {
       "model_id": "83e088b7ed534a109aa309dabc17baf0",
       "version_major": 2,
       "version_minor": 0
      },
      "text/plain": [
       "  0%|          | 0/1 [00:00<?, ?it/s]"
      ]
     },
     "metadata": {},
     "output_type": "display_data"
    },
    {
     "data": {
      "application/vnd.jupyter.widget-view+json": {
       "model_id": "c9dcf797fcdd4df1b7f679253bf459b3",
       "version_major": 2,
       "version_minor": 0
      },
      "text/plain": [
       "Scoring...:   0%|          | 0/10 [00:00<?, ?it/s]"
      ]
     },
     "metadata": {},
     "output_type": "display_data"
    },
    {
     "name": "stdout",
     "output_type": "stream",
     "text": [
      "train: 3.00920 | val: 2.98731\n"
     ]
    },
    {
     "data": {
      "application/vnd.jupyter.widget-view+json": {
       "model_id": "8dee3a2f1a224ec3951d76b3f0ae8e61",
       "version_major": 2,
       "version_minor": 0
      },
      "text/plain": [
       "  0%|          | 0/1 [00:00<?, ?it/s]"
      ]
     },
     "metadata": {},
     "output_type": "display_data"
    },
    {
     "data": {
      "application/vnd.jupyter.widget-view+json": {
       "model_id": "a27539118f504ddaaf96a77a937f2b4c",
       "version_major": 2,
       "version_minor": 0
      },
      "text/plain": [
       "Scoring...:   0%|          | 0/10 [00:00<?, ?it/s]"
      ]
     },
     "metadata": {},
     "output_type": "display_data"
    },
    {
     "name": "stdout",
     "output_type": "stream",
     "text": [
      "train: 2.98068 | val: 2.95790\n"
     ]
    },
    {
     "data": {
      "application/vnd.jupyter.widget-view+json": {
       "model_id": "4503a1aac5de48489ae4c33f3a17262c",
       "version_major": 2,
       "version_minor": 0
      },
      "text/plain": [
       "  0%|          | 0/1 [00:00<?, ?it/s]"
      ]
     },
     "metadata": {},
     "output_type": "display_data"
    },
    {
     "data": {
      "application/vnd.jupyter.widget-view+json": {
       "model_id": "107d281a927f4b2d83b57bd74b6bafe4",
       "version_major": 2,
       "version_minor": 0
      },
      "text/plain": [
       "Scoring...:   0%|          | 0/10 [00:00<?, ?it/s]"
      ]
     },
     "metadata": {},
     "output_type": "display_data"
    },
    {
     "name": "stdout",
     "output_type": "stream",
     "text": [
      "train: 2.95130 | val: 2.92709\n"
     ]
    },
    {
     "data": {
      "application/vnd.jupyter.widget-view+json": {
       "model_id": "fd2357563f2e4a09aee418b21952fb19",
       "version_major": 2,
       "version_minor": 0
      },
      "text/plain": [
       "  0%|          | 0/1 [00:00<?, ?it/s]"
      ]
     },
     "metadata": {},
     "output_type": "display_data"
    },
    {
     "data": {
      "application/vnd.jupyter.widget-view+json": {
       "model_id": "a1d11783e481439da610ee5a1ccfae2f",
       "version_major": 2,
       "version_minor": 0
      },
      "text/plain": [
       "Scoring...:   0%|          | 0/10 [00:00<?, ?it/s]"
      ]
     },
     "metadata": {},
     "output_type": "display_data"
    },
    {
     "name": "stdout",
     "output_type": "stream",
     "text": [
      "train: 2.92069 | val: 2.89569\n"
     ]
    },
    {
     "data": {
      "application/vnd.jupyter.widget-view+json": {
       "model_id": "13058425dbe6420a9f91b8359f71b215",
       "version_major": 2,
       "version_minor": 0
      },
      "text/plain": [
       "  0%|          | 0/1 [00:00<?, ?it/s]"
      ]
     },
     "metadata": {},
     "output_type": "display_data"
    },
    {
     "data": {
      "application/vnd.jupyter.widget-view+json": {
       "model_id": "e081e30fdfa44b829af4375c47f0d37d",
       "version_major": 2,
       "version_minor": 0
      },
      "text/plain": [
       "Scoring...:   0%|          | 0/10 [00:00<?, ?it/s]"
      ]
     },
     "metadata": {},
     "output_type": "display_data"
    },
    {
     "name": "stdout",
     "output_type": "stream",
     "text": [
      "train: 2.88955 | val: 2.86415\n"
     ]
    },
    {
     "data": {
      "application/vnd.jupyter.widget-view+json": {
       "model_id": "b7d97b14f6274b1aa5681cba860a4b76",
       "version_major": 2,
       "version_minor": 0
      },
      "text/plain": [
       "  0%|          | 0/1 [00:00<?, ?it/s]"
      ]
     },
     "metadata": {},
     "output_type": "display_data"
    },
    {
     "data": {
      "application/vnd.jupyter.widget-view+json": {
       "model_id": "a10ba58e053a491fb7ac05fd043b5e64",
       "version_major": 2,
       "version_minor": 0
      },
      "text/plain": [
       "Scoring...:   0%|          | 0/10 [00:00<?, ?it/s]"
      ]
     },
     "metadata": {},
     "output_type": "display_data"
    },
    {
     "name": "stdout",
     "output_type": "stream",
     "text": [
      "train: 2.85821 | val: 2.83197\n"
     ]
    },
    {
     "data": {
      "application/vnd.jupyter.widget-view+json": {
       "model_id": "ff21f875e60345b8bb7948e9be8ce12d",
       "version_major": 2,
       "version_minor": 0
      },
      "text/plain": [
       "  0%|          | 0/1 [00:00<?, ?it/s]"
      ]
     },
     "metadata": {},
     "output_type": "display_data"
    },
    {
     "data": {
      "application/vnd.jupyter.widget-view+json": {
       "model_id": "416708ae2a20442596d37ffeda952ea0",
       "version_major": 2,
       "version_minor": 0
      },
      "text/plain": [
       "Scoring...:   0%|          | 0/10 [00:00<?, ?it/s]"
      ]
     },
     "metadata": {},
     "output_type": "display_data"
    },
    {
     "name": "stdout",
     "output_type": "stream",
     "text": [
      "train: 2.82611 | val: 2.79945\n"
     ]
    },
    {
     "data": {
      "application/vnd.jupyter.widget-view+json": {
       "model_id": "856c41f04e1a4dea93c2fd3d6c35449a",
       "version_major": 2,
       "version_minor": 0
      },
      "text/plain": [
       "  0%|          | 0/1 [00:00<?, ?it/s]"
      ]
     },
     "metadata": {},
     "output_type": "display_data"
    },
    {
     "data": {
      "application/vnd.jupyter.widget-view+json": {
       "model_id": "10fafceb987d454099dc4599b993bd47",
       "version_major": 2,
       "version_minor": 0
      },
      "text/plain": [
       "Scoring...:   0%|          | 0/10 [00:00<?, ?it/s]"
      ]
     },
     "metadata": {},
     "output_type": "display_data"
    },
    {
     "name": "stdout",
     "output_type": "stream",
     "text": [
      "train: 2.79354 | val: 2.76768\n"
     ]
    },
    {
     "data": {
      "application/vnd.jupyter.widget-view+json": {
       "model_id": "7676ad82a48a4ee498a239c7e03a7029",
       "version_major": 2,
       "version_minor": 0
      },
      "text/plain": [
       "  0%|          | 0/1 [00:00<?, ?it/s]"
      ]
     },
     "metadata": {},
     "output_type": "display_data"
    },
    {
     "data": {
      "application/vnd.jupyter.widget-view+json": {
       "model_id": "9f16d60629a74002bbe74fceeac9c1c3",
       "version_major": 2,
       "version_minor": 0
      },
      "text/plain": [
       "Scoring...:   0%|          | 0/10 [00:00<?, ?it/s]"
      ]
     },
     "metadata": {},
     "output_type": "display_data"
    },
    {
     "name": "stdout",
     "output_type": "stream",
     "text": [
      "train: 2.76166 | val: 2.73661\n"
     ]
    },
    {
     "data": {
      "application/vnd.jupyter.widget-view+json": {
       "model_id": "4bfa545b621f4239899f4dd73e74e39b",
       "version_major": 2,
       "version_minor": 0
      },
      "text/plain": [
       "  0%|          | 0/1 [00:00<?, ?it/s]"
      ]
     },
     "metadata": {},
     "output_type": "display_data"
    },
    {
     "data": {
      "application/vnd.jupyter.widget-view+json": {
       "model_id": "5acda14ee82241899552cb375711da90",
       "version_major": 2,
       "version_minor": 0
      },
      "text/plain": [
       "Scoring...:   0%|          | 0/10 [00:00<?, ?it/s]"
      ]
     },
     "metadata": {},
     "output_type": "display_data"
    },
    {
     "name": "stdout",
     "output_type": "stream",
     "text": [
      "train: 2.73053 | val: 2.70518\n"
     ]
    },
    {
     "data": {
      "application/vnd.jupyter.widget-view+json": {
       "model_id": "6ba56a8d6b5a4d4f97cc0e99a185578e",
       "version_major": 2,
       "version_minor": 0
      },
      "text/plain": [
       "  0%|          | 0/1 [00:00<?, ?it/s]"
      ]
     },
     "metadata": {},
     "output_type": "display_data"
    },
    {
     "data": {
      "application/vnd.jupyter.widget-view+json": {
       "model_id": "9009556311e34de084985d3ec98feae9",
       "version_major": 2,
       "version_minor": 0
      },
      "text/plain": [
       "Scoring...:   0%|          | 0/10 [00:00<?, ?it/s]"
      ]
     },
     "metadata": {},
     "output_type": "display_data"
    },
    {
     "name": "stdout",
     "output_type": "stream",
     "text": [
      "train: 2.69919 | val: 2.67316\n"
     ]
    },
    {
     "data": {
      "application/vnd.jupyter.widget-view+json": {
       "model_id": "277b3e3af17c408f8b9ce623aac85d32",
       "version_major": 2,
       "version_minor": 0
      },
      "text/plain": [
       "  0%|          | 0/1 [00:00<?, ?it/s]"
      ]
     },
     "metadata": {},
     "output_type": "display_data"
    },
    {
     "data": {
      "application/vnd.jupyter.widget-view+json": {
       "model_id": "76743eea5f5a4c8b924dda5f9270cfa6",
       "version_major": 2,
       "version_minor": 0
      },
      "text/plain": [
       "Scoring...:   0%|          | 0/10 [00:00<?, ?it/s]"
      ]
     },
     "metadata": {},
     "output_type": "display_data"
    },
    {
     "name": "stdout",
     "output_type": "stream",
     "text": [
      "train: 2.66740 | val: 2.64121\n"
     ]
    },
    {
     "data": {
      "application/vnd.jupyter.widget-view+json": {
       "model_id": "87c3a2e450b0482aa6cc4a9cf6d8013f",
       "version_major": 2,
       "version_minor": 0
      },
      "text/plain": [
       "  0%|          | 0/1 [00:00<?, ?it/s]"
      ]
     },
     "metadata": {},
     "output_type": "display_data"
    },
    {
     "data": {
      "application/vnd.jupyter.widget-view+json": {
       "model_id": "0506104aa084449c8d9a7dbe02708e20",
       "version_major": 2,
       "version_minor": 0
      },
      "text/plain": [
       "Scoring...:   0%|          | 0/10 [00:00<?, ?it/s]"
      ]
     },
     "metadata": {},
     "output_type": "display_data"
    },
    {
     "name": "stdout",
     "output_type": "stream",
     "text": [
      "train: 2.63571 | val: 2.60965\n"
     ]
    },
    {
     "data": {
      "application/vnd.jupyter.widget-view+json": {
       "model_id": "a42452245733438b992fcbcb28f0d23e",
       "version_major": 2,
       "version_minor": 0
      },
      "text/plain": [
       "  0%|          | 0/1 [00:00<?, ?it/s]"
      ]
     },
     "metadata": {},
     "output_type": "display_data"
    },
    {
     "data": {
      "application/vnd.jupyter.widget-view+json": {
       "model_id": "cc4303d881284c5585af040b8b898346",
       "version_major": 2,
       "version_minor": 0
      },
      "text/plain": [
       "Scoring...:   0%|          | 0/10 [00:00<?, ?it/s]"
      ]
     },
     "metadata": {},
     "output_type": "display_data"
    },
    {
     "name": "stdout",
     "output_type": "stream",
     "text": [
      "train: 2.60437 | val: 2.57821\n"
     ]
    },
    {
     "data": {
      "application/vnd.jupyter.widget-view+json": {
       "model_id": "1d5a413da03e449f9eb2739287a64b16",
       "version_major": 2,
       "version_minor": 0
      },
      "text/plain": [
       "  0%|          | 0/1 [00:00<?, ?it/s]"
      ]
     },
     "metadata": {},
     "output_type": "display_data"
    },
    {
     "data": {
      "application/vnd.jupyter.widget-view+json": {
       "model_id": "9475c267a03c429b89905786c5b3439d",
       "version_major": 2,
       "version_minor": 0
      },
      "text/plain": [
       "Scoring...:   0%|          | 0/10 [00:00<?, ?it/s]"
      ]
     },
     "metadata": {},
     "output_type": "display_data"
    },
    {
     "name": "stdout",
     "output_type": "stream",
     "text": [
      "train: 2.57305 | val: 2.54702\n"
     ]
    },
    {
     "data": {
      "application/vnd.jupyter.widget-view+json": {
       "model_id": "02dedf8911864426bc1724c0e1ea7141",
       "version_major": 2,
       "version_minor": 0
      },
      "text/plain": [
       "  0%|          | 0/1 [00:00<?, ?it/s]"
      ]
     },
     "metadata": {},
     "output_type": "display_data"
    },
    {
     "data": {
      "application/vnd.jupyter.widget-view+json": {
       "model_id": "d680dd3d7f874dcbb246b142c2f89597",
       "version_major": 2,
       "version_minor": 0
      },
      "text/plain": [
       "Scoring...:   0%|          | 0/10 [00:00<?, ?it/s]"
      ]
     },
     "metadata": {},
     "output_type": "display_data"
    },
    {
     "name": "stdout",
     "output_type": "stream",
     "text": [
      "train: 2.54189 | val: 2.51662\n"
     ]
    },
    {
     "data": {
      "application/vnd.jupyter.widget-view+json": {
       "model_id": "4d2ec18b4cfd4285b0a4585b67078860",
       "version_major": 2,
       "version_minor": 0
      },
      "text/plain": [
       "  0%|          | 0/1 [00:00<?, ?it/s]"
      ]
     },
     "metadata": {},
     "output_type": "display_data"
    },
    {
     "data": {
      "application/vnd.jupyter.widget-view+json": {
       "model_id": "212b5458f71d48e3af04061f81c27c2d",
       "version_major": 2,
       "version_minor": 0
      },
      "text/plain": [
       "Scoring...:   0%|          | 0/10 [00:00<?, ?it/s]"
      ]
     },
     "metadata": {},
     "output_type": "display_data"
    },
    {
     "name": "stdout",
     "output_type": "stream",
     "text": [
      "train: 2.51149 | val: 2.48668\n"
     ]
    },
    {
     "data": {
      "application/vnd.jupyter.widget-view+json": {
       "model_id": "efdb816897714a1db847b54fc20516f4",
       "version_major": 2,
       "version_minor": 0
      },
      "text/plain": [
       "  0%|          | 0/1 [00:00<?, ?it/s]"
      ]
     },
     "metadata": {},
     "output_type": "display_data"
    },
    {
     "data": {
      "application/vnd.jupyter.widget-view+json": {
       "model_id": "c4aece8e31ea4dcfaa5e82cb2840eef9",
       "version_major": 2,
       "version_minor": 0
      },
      "text/plain": [
       "Scoring...:   0%|          | 0/10 [00:00<?, ?it/s]"
      ]
     },
     "metadata": {},
     "output_type": "display_data"
    },
    {
     "name": "stdout",
     "output_type": "stream",
     "text": [
      "train: 2.48163 | val: 2.45682\n"
     ]
    },
    {
     "data": {
      "application/vnd.jupyter.widget-view+json": {
       "model_id": "e13dfd0f7e29445cb53ce48df6c8e275",
       "version_major": 2,
       "version_minor": 0
      },
      "text/plain": [
       "  0%|          | 0/1 [00:00<?, ?it/s]"
      ]
     },
     "metadata": {},
     "output_type": "display_data"
    },
    {
     "data": {
      "application/vnd.jupyter.widget-view+json": {
       "model_id": "404b4ce6de1248b7a2b639bd37e81e92",
       "version_major": 2,
       "version_minor": 0
      },
      "text/plain": [
       "Scoring...:   0%|          | 0/10 [00:00<?, ?it/s]"
      ]
     },
     "metadata": {},
     "output_type": "display_data"
    },
    {
     "name": "stdout",
     "output_type": "stream",
     "text": [
      "train: 2.45196 | val: 2.42731\n"
     ]
    },
    {
     "data": {
      "application/vnd.jupyter.widget-view+json": {
       "model_id": "954334c2c46c46bca5328e069b1e0fb7",
       "version_major": 2,
       "version_minor": 0
      },
      "text/plain": [
       "  0%|          | 0/1 [00:00<?, ?it/s]"
      ]
     },
     "metadata": {},
     "output_type": "display_data"
    },
    {
     "data": {
      "application/vnd.jupyter.widget-view+json": {
       "model_id": "fd2bf818092d4034981c3dd8d5366f38",
       "version_major": 2,
       "version_minor": 0
      },
      "text/plain": [
       "Scoring...:   0%|          | 0/10 [00:00<?, ?it/s]"
      ]
     },
     "metadata": {},
     "output_type": "display_data"
    },
    {
     "name": "stdout",
     "output_type": "stream",
     "text": [
      "train: 2.42271 | val: 2.39808\n"
     ]
    },
    {
     "data": {
      "application/vnd.jupyter.widget-view+json": {
       "model_id": "c5bf22559f914e2f8b7bb9dd49e9533b",
       "version_major": 2,
       "version_minor": 0
      },
      "text/plain": [
       "  0%|          | 0/1 [00:00<?, ?it/s]"
      ]
     },
     "metadata": {},
     "output_type": "display_data"
    },
    {
     "data": {
      "application/vnd.jupyter.widget-view+json": {
       "model_id": "0108d016f15a468299e176fa8a9f4994",
       "version_major": 2,
       "version_minor": 0
      },
      "text/plain": [
       "Scoring...:   0%|          | 0/10 [00:00<?, ?it/s]"
      ]
     },
     "metadata": {},
     "output_type": "display_data"
    },
    {
     "name": "stdout",
     "output_type": "stream",
     "text": [
      "train: 2.39378 | val: 2.36868\n"
     ]
    },
    {
     "data": {
      "application/vnd.jupyter.widget-view+json": {
       "model_id": "4e2db9e285f844f0bec57f3234833e97",
       "version_major": 2,
       "version_minor": 0
      },
      "text/plain": [
       "  0%|          | 0/1 [00:00<?, ?it/s]"
      ]
     },
     "metadata": {},
     "output_type": "display_data"
    },
    {
     "data": {
      "application/vnd.jupyter.widget-view+json": {
       "model_id": "a367424cb88545f4ab7067581bdbd072",
       "version_major": 2,
       "version_minor": 0
      },
      "text/plain": [
       "Scoring...:   0%|          | 0/10 [00:00<?, ?it/s]"
      ]
     },
     "metadata": {},
     "output_type": "display_data"
    },
    {
     "name": "stdout",
     "output_type": "stream",
     "text": [
      "train: 2.36473 | val: 2.33930\n"
     ]
    },
    {
     "data": {
      "application/vnd.jupyter.widget-view+json": {
       "model_id": "69dea289373949f788a811c98a1c2ff2",
       "version_major": 2,
       "version_minor": 0
      },
      "text/plain": [
       "  0%|          | 0/1 [00:00<?, ?it/s]"
      ]
     },
     "metadata": {},
     "output_type": "display_data"
    },
    {
     "data": {
      "application/vnd.jupyter.widget-view+json": {
       "model_id": "ee91c89c9b524a61b2db1be6b27dd3a2",
       "version_major": 2,
       "version_minor": 0
      },
      "text/plain": [
       "Scoring...:   0%|          | 0/10 [00:00<?, ?it/s]"
      ]
     },
     "metadata": {},
     "output_type": "display_data"
    },
    {
     "name": "stdout",
     "output_type": "stream",
     "text": [
      "train: 2.33572 | val: 2.31019\n"
     ]
    },
    {
     "data": {
      "application/vnd.jupyter.widget-view+json": {
       "model_id": "f24dd59ef4f2482194a08c7c1f9210bd",
       "version_major": 2,
       "version_minor": 0
      },
      "text/plain": [
       "  0%|          | 0/1 [00:00<?, ?it/s]"
      ]
     },
     "metadata": {},
     "output_type": "display_data"
    },
    {
     "data": {
      "application/vnd.jupyter.widget-view+json": {
       "model_id": "039ef680adbc4c85bc192ad9dc69d8ac",
       "version_major": 2,
       "version_minor": 0
      },
      "text/plain": [
       "Scoring...:   0%|          | 0/10 [00:00<?, ?it/s]"
      ]
     },
     "metadata": {},
     "output_type": "display_data"
    },
    {
     "name": "stdout",
     "output_type": "stream",
     "text": [
      "train: 2.30698 | val: 2.28108\n"
     ]
    },
    {
     "data": {
      "application/vnd.jupyter.widget-view+json": {
       "model_id": "6c0f90f2e2c6419083e1964ec5148e99",
       "version_major": 2,
       "version_minor": 0
      },
      "text/plain": [
       "  0%|          | 0/1 [00:00<?, ?it/s]"
      ]
     },
     "metadata": {},
     "output_type": "display_data"
    },
    {
     "data": {
      "application/vnd.jupyter.widget-view+json": {
       "model_id": "6a5cf0ec1e5940eb9033264e24c14f16",
       "version_major": 2,
       "version_minor": 0
      },
      "text/plain": [
       "Scoring...:   0%|          | 0/10 [00:00<?, ?it/s]"
      ]
     },
     "metadata": {},
     "output_type": "display_data"
    },
    {
     "name": "stdout",
     "output_type": "stream",
     "text": [
      "train: 2.27825 | val: 2.25211\n"
     ]
    },
    {
     "data": {
      "application/vnd.jupyter.widget-view+json": {
       "model_id": "3d78766e56bd49d0a3371260761b9ed3",
       "version_major": 2,
       "version_minor": 0
      },
      "text/plain": [
       "  0%|          | 0/1 [00:00<?, ?it/s]"
      ]
     },
     "metadata": {},
     "output_type": "display_data"
    },
    {
     "data": {
      "application/vnd.jupyter.widget-view+json": {
       "model_id": "9db85fa590034555bd72edd7efaf0edd",
       "version_major": 2,
       "version_minor": 0
      },
      "text/plain": [
       "Scoring...:   0%|          | 0/10 [00:00<?, ?it/s]"
      ]
     },
     "metadata": {},
     "output_type": "display_data"
    },
    {
     "name": "stdout",
     "output_type": "stream",
     "text": [
      "train: 2.24964 | val: 2.22367\n"
     ]
    },
    {
     "data": {
      "application/vnd.jupyter.widget-view+json": {
       "model_id": "6a57bf1b62ae43f1b23b2523563678e4",
       "version_major": 2,
       "version_minor": 0
      },
      "text/plain": [
       "  0%|          | 0/1 [00:00<?, ?it/s]"
      ]
     },
     "metadata": {},
     "output_type": "display_data"
    },
    {
     "data": {
      "application/vnd.jupyter.widget-view+json": {
       "model_id": "63055a6d2b474717816dc96bf0d8ee62",
       "version_major": 2,
       "version_minor": 0
      },
      "text/plain": [
       "Scoring...:   0%|          | 0/10 [00:00<?, ?it/s]"
      ]
     },
     "metadata": {},
     "output_type": "display_data"
    },
    {
     "name": "stdout",
     "output_type": "stream",
     "text": [
      "train: 2.22155 | val: 2.19552\n"
     ]
    },
    {
     "data": {
      "application/vnd.jupyter.widget-view+json": {
       "model_id": "9475bd3a456a433fa4fd66254d59eb32",
       "version_major": 2,
       "version_minor": 0
      },
      "text/plain": [
       "  0%|          | 0/1 [00:00<?, ?it/s]"
      ]
     },
     "metadata": {},
     "output_type": "display_data"
    },
    {
     "data": {
      "application/vnd.jupyter.widget-view+json": {
       "model_id": "839f398eee044f0da5e1daf8195b8002",
       "version_major": 2,
       "version_minor": 0
      },
      "text/plain": [
       "Scoring...:   0%|          | 0/10 [00:00<?, ?it/s]"
      ]
     },
     "metadata": {},
     "output_type": "display_data"
    },
    {
     "name": "stdout",
     "output_type": "stream",
     "text": [
      "train: 2.19376 | val: 2.16777\n"
     ]
    },
    {
     "data": {
      "application/vnd.jupyter.widget-view+json": {
       "model_id": "4dae1d67ad564f31b9e820c44e0ef3d8",
       "version_major": 2,
       "version_minor": 0
      },
      "text/plain": [
       "  0%|          | 0/1 [00:00<?, ?it/s]"
      ]
     },
     "metadata": {},
     "output_type": "display_data"
    },
    {
     "data": {
      "application/vnd.jupyter.widget-view+json": {
       "model_id": "c07e51ccde5f40db8237a5cafbbdb1ec",
       "version_major": 2,
       "version_minor": 0
      },
      "text/plain": [
       "Scoring...:   0%|          | 0/10 [00:00<?, ?it/s]"
      ]
     },
     "metadata": {},
     "output_type": "display_data"
    },
    {
     "name": "stdout",
     "output_type": "stream",
     "text": [
      "train: 2.16638 | val: 2.14053\n"
     ]
    },
    {
     "data": {
      "application/vnd.jupyter.widget-view+json": {
       "model_id": "1ca2448b1f3648e6bbbf8ba9e0deef31",
       "version_major": 2,
       "version_minor": 0
      },
      "text/plain": [
       "  0%|          | 0/1 [00:00<?, ?it/s]"
      ]
     },
     "metadata": {},
     "output_type": "display_data"
    },
    {
     "data": {
      "application/vnd.jupyter.widget-view+json": {
       "model_id": "e54cc5a9704649a29d95bce07156904d",
       "version_major": 2,
       "version_minor": 0
      },
      "text/plain": [
       "Scoring...:   0%|          | 0/10 [00:00<?, ?it/s]"
      ]
     },
     "metadata": {},
     "output_type": "display_data"
    },
    {
     "name": "stdout",
     "output_type": "stream",
     "text": [
      "train: 2.13951 | val: 2.11350\n"
     ]
    },
    {
     "data": {
      "application/vnd.jupyter.widget-view+json": {
       "model_id": "211bc8190acf4af1872af5bec9a40e7a",
       "version_major": 2,
       "version_minor": 0
      },
      "text/plain": [
       "  0%|          | 0/1 [00:00<?, ?it/s]"
      ]
     },
     "metadata": {},
     "output_type": "display_data"
    },
    {
     "data": {
      "application/vnd.jupyter.widget-view+json": {
       "model_id": "b9e5eb3f0a4d45c6b6ef4be41de0eb5f",
       "version_major": 2,
       "version_minor": 0
      },
      "text/plain": [
       "Scoring...:   0%|          | 0/10 [00:00<?, ?it/s]"
      ]
     },
     "metadata": {},
     "output_type": "display_data"
    },
    {
     "name": "stdout",
     "output_type": "stream",
     "text": [
      "train: 2.11283 | val: 2.08691\n"
     ]
    },
    {
     "data": {
      "application/vnd.jupyter.widget-view+json": {
       "model_id": "e6617d824f094cccabd4b2624b7f6907",
       "version_major": 2,
       "version_minor": 0
      },
      "text/plain": [
       "  0%|          | 0/1 [00:00<?, ?it/s]"
      ]
     },
     "metadata": {},
     "output_type": "display_data"
    },
    {
     "data": {
      "application/vnd.jupyter.widget-view+json": {
       "model_id": "330c44653ced411ba3271b60591faf81",
       "version_major": 2,
       "version_minor": 0
      },
      "text/plain": [
       "Scoring...:   0%|          | 0/10 [00:00<?, ?it/s]"
      ]
     },
     "metadata": {},
     "output_type": "display_data"
    },
    {
     "name": "stdout",
     "output_type": "stream",
     "text": [
      "train: 2.08651 | val: 2.06071\n"
     ]
    },
    {
     "data": {
      "application/vnd.jupyter.widget-view+json": {
       "model_id": "8744b78e12b44dfcabd3d7d3dfc729d8",
       "version_major": 2,
       "version_minor": 0
      },
      "text/plain": [
       "  0%|          | 0/1 [00:00<?, ?it/s]"
      ]
     },
     "metadata": {},
     "output_type": "display_data"
    },
    {
     "data": {
      "application/vnd.jupyter.widget-view+json": {
       "model_id": "a0710001d95b47fbb16c1e3ad02bef5e",
       "version_major": 2,
       "version_minor": 0
      },
      "text/plain": [
       "Scoring...:   0%|          | 0/10 [00:00<?, ?it/s]"
      ]
     },
     "metadata": {},
     "output_type": "display_data"
    },
    {
     "name": "stdout",
     "output_type": "stream",
     "text": [
      "train: 2.06054 | val: 2.03477\n"
     ]
    },
    {
     "data": {
      "application/vnd.jupyter.widget-view+json": {
       "model_id": "0ca7f134960147779f96221ae7e55d27",
       "version_major": 2,
       "version_minor": 0
      },
      "text/plain": [
       "  0%|          | 0/1 [00:00<?, ?it/s]"
      ]
     },
     "metadata": {},
     "output_type": "display_data"
    },
    {
     "data": {
      "application/vnd.jupyter.widget-view+json": {
       "model_id": "bda4d91f81a644b68cec206eaaefd3b6",
       "version_major": 2,
       "version_minor": 0
      },
      "text/plain": [
       "Scoring...:   0%|          | 0/10 [00:00<?, ?it/s]"
      ]
     },
     "metadata": {},
     "output_type": "display_data"
    },
    {
     "name": "stdout",
     "output_type": "stream",
     "text": [
      "train: 2.03479 | val: 2.00924\n"
     ]
    },
    {
     "data": {
      "application/vnd.jupyter.widget-view+json": {
       "model_id": "7e63702ab210457f9faadd8f6a38e574",
       "version_major": 2,
       "version_minor": 0
      },
      "text/plain": [
       "  0%|          | 0/1 [00:00<?, ?it/s]"
      ]
     },
     "metadata": {},
     "output_type": "display_data"
    },
    {
     "data": {
      "application/vnd.jupyter.widget-view+json": {
       "model_id": "c51ea2c22eab4b03866d35b2dcf535ef",
       "version_major": 2,
       "version_minor": 0
      },
      "text/plain": [
       "Scoring...:   0%|          | 0/10 [00:00<?, ?it/s]"
      ]
     },
     "metadata": {},
     "output_type": "display_data"
    },
    {
     "name": "stdout",
     "output_type": "stream",
     "text": [
      "train: 2.00941 | val: 1.98395\n"
     ]
    },
    {
     "data": {
      "application/vnd.jupyter.widget-view+json": {
       "model_id": "56a683a4092d4694b9efa9d3bcdaff12",
       "version_major": 2,
       "version_minor": 0
      },
      "text/plain": [
       "  0%|          | 0/1 [00:00<?, ?it/s]"
      ]
     },
     "metadata": {},
     "output_type": "display_data"
    },
    {
     "data": {
      "application/vnd.jupyter.widget-view+json": {
       "model_id": "85f33e1eed674bdaa3455c5b4b5a8d46",
       "version_major": 2,
       "version_minor": 0
      },
      "text/plain": [
       "Scoring...:   0%|          | 0/10 [00:00<?, ?it/s]"
      ]
     },
     "metadata": {},
     "output_type": "display_data"
    },
    {
     "name": "stdout",
     "output_type": "stream",
     "text": [
      "train: 1.98423 | val: 1.95899\n"
     ]
    },
    {
     "data": {
      "application/vnd.jupyter.widget-view+json": {
       "model_id": "67bba7c26a5544e69d8f456c392d68a8",
       "version_major": 2,
       "version_minor": 0
      },
      "text/plain": [
       "  0%|          | 0/1 [00:00<?, ?it/s]"
      ]
     },
     "metadata": {},
     "output_type": "display_data"
    },
    {
     "data": {
      "application/vnd.jupyter.widget-view+json": {
       "model_id": "86f0f9abda2c449eaccbb0eaf4db7ed9",
       "version_major": 2,
       "version_minor": 0
      },
      "text/plain": [
       "Scoring...:   0%|          | 0/10 [00:00<?, ?it/s]"
      ]
     },
     "metadata": {},
     "output_type": "display_data"
    },
    {
     "name": "stdout",
     "output_type": "stream",
     "text": [
      "train: 1.95935 | val: 1.93426\n"
     ]
    },
    {
     "data": {
      "application/vnd.jupyter.widget-view+json": {
       "model_id": "1058097098874ef091928f8b0f6b4d5d",
       "version_major": 2,
       "version_minor": 0
      },
      "text/plain": [
       "  0%|          | 0/1 [00:00<?, ?it/s]"
      ]
     },
     "metadata": {},
     "output_type": "display_data"
    },
    {
     "data": {
      "application/vnd.jupyter.widget-view+json": {
       "model_id": "7e94c4cd39114fadafc9c55dce690bae",
       "version_major": 2,
       "version_minor": 0
      },
      "text/plain": [
       "Scoring...:   0%|          | 0/10 [00:00<?, ?it/s]"
      ]
     },
     "metadata": {},
     "output_type": "display_data"
    },
    {
     "name": "stdout",
     "output_type": "stream",
     "text": [
      "train: 1.93470 | val: 1.90984\n"
     ]
    },
    {
     "data": {
      "application/vnd.jupyter.widget-view+json": {
       "model_id": "7a305f8a7b2c4358bfb12f029fbe25e2",
       "version_major": 2,
       "version_minor": 0
      },
      "text/plain": [
       "  0%|          | 0/1 [00:00<?, ?it/s]"
      ]
     },
     "metadata": {},
     "output_type": "display_data"
    },
    {
     "data": {
      "application/vnd.jupyter.widget-view+json": {
       "model_id": "2cb5a0ce07524565be947fb9513dd6c5",
       "version_major": 2,
       "version_minor": 0
      },
      "text/plain": [
       "Scoring...:   0%|          | 0/10 [00:00<?, ?it/s]"
      ]
     },
     "metadata": {},
     "output_type": "display_data"
    },
    {
     "name": "stdout",
     "output_type": "stream",
     "text": [
      "train: 1.91039 | val: 1.88569\n"
     ]
    },
    {
     "data": {
      "application/vnd.jupyter.widget-view+json": {
       "model_id": "1e78745b2522406a8728e49eb11aa644",
       "version_major": 2,
       "version_minor": 0
      },
      "text/plain": [
       "  0%|          | 0/1 [00:00<?, ?it/s]"
      ]
     },
     "metadata": {},
     "output_type": "display_data"
    },
    {
     "data": {
      "application/vnd.jupyter.widget-view+json": {
       "model_id": "5ef26d17fc134ec09335ea52f73c16ff",
       "version_major": 2,
       "version_minor": 0
      },
      "text/plain": [
       "Scoring...:   0%|          | 0/10 [00:00<?, ?it/s]"
      ]
     },
     "metadata": {},
     "output_type": "display_data"
    },
    {
     "name": "stdout",
     "output_type": "stream",
     "text": [
      "train: 1.88634 | val: 1.86173\n"
     ]
    },
    {
     "data": {
      "application/vnd.jupyter.widget-view+json": {
       "model_id": "d036b32e969b433a99e69afa92bdacf8",
       "version_major": 2,
       "version_minor": 0
      },
      "text/plain": [
       "  0%|          | 0/1 [00:00<?, ?it/s]"
      ]
     },
     "metadata": {},
     "output_type": "display_data"
    },
    {
     "data": {
      "application/vnd.jupyter.widget-view+json": {
       "model_id": "340bf2d2a08f450d9f7344678893e73e",
       "version_major": 2,
       "version_minor": 0
      },
      "text/plain": [
       "Scoring...:   0%|          | 0/10 [00:00<?, ?it/s]"
      ]
     },
     "metadata": {},
     "output_type": "display_data"
    },
    {
     "name": "stdout",
     "output_type": "stream",
     "text": [
      "train: 1.86248 | val: 1.83794\n"
     ]
    },
    {
     "data": {
      "application/vnd.jupyter.widget-view+json": {
       "model_id": "8abff09efc914d6d878d9ae6b6b6304f",
       "version_major": 2,
       "version_minor": 0
      },
      "text/plain": [
       "  0%|          | 0/1 [00:00<?, ?it/s]"
      ]
     },
     "metadata": {},
     "output_type": "display_data"
    },
    {
     "data": {
      "application/vnd.jupyter.widget-view+json": {
       "model_id": "4bc7b9f97cf34656a193c1d44a83c916",
       "version_major": 2,
       "version_minor": 0
      },
      "text/plain": [
       "Scoring...:   0%|          | 0/10 [00:00<?, ?it/s]"
      ]
     },
     "metadata": {},
     "output_type": "display_data"
    },
    {
     "name": "stdout",
     "output_type": "stream",
     "text": [
      "train: 1.83883 | val: 1.81431\n"
     ]
    },
    {
     "data": {
      "application/vnd.jupyter.widget-view+json": {
       "model_id": "f801c5f5b9d64229a7e87ff52497dccc",
       "version_major": 2,
       "version_minor": 0
      },
      "text/plain": [
       "  0%|          | 0/1 [00:00<?, ?it/s]"
      ]
     },
     "metadata": {},
     "output_type": "display_data"
    },
    {
     "data": {
      "application/vnd.jupyter.widget-view+json": {
       "model_id": "34ac36fbffa240a9a45b19a4c99b0012",
       "version_major": 2,
       "version_minor": 0
      },
      "text/plain": [
       "Scoring...:   0%|          | 0/10 [00:00<?, ?it/s]"
      ]
     },
     "metadata": {},
     "output_type": "display_data"
    },
    {
     "name": "stdout",
     "output_type": "stream",
     "text": [
      "train: 1.81535 | val: 1.79089\n"
     ]
    },
    {
     "data": {
      "application/vnd.jupyter.widget-view+json": {
       "model_id": "d2c32ee7bba74db7b0b1045cf95ae081",
       "version_major": 2,
       "version_minor": 0
      },
      "text/plain": [
       "  0%|          | 0/1 [00:00<?, ?it/s]"
      ]
     },
     "metadata": {},
     "output_type": "display_data"
    },
    {
     "data": {
      "application/vnd.jupyter.widget-view+json": {
       "model_id": "74ea6306e5fe4512b3bcfe44ee8371b9",
       "version_major": 2,
       "version_minor": 0
      },
      "text/plain": [
       "Scoring...:   0%|          | 0/10 [00:00<?, ?it/s]"
      ]
     },
     "metadata": {},
     "output_type": "display_data"
    },
    {
     "name": "stdout",
     "output_type": "stream",
     "text": [
      "train: 1.79210 | val: 1.76758\n"
     ]
    },
    {
     "data": {
      "application/vnd.jupyter.widget-view+json": {
       "model_id": "d19eae5e07f6407ba96edc6fd596b2a1",
       "version_major": 2,
       "version_minor": 0
      },
      "text/plain": [
       "  0%|          | 0/1 [00:00<?, ?it/s]"
      ]
     },
     "metadata": {},
     "output_type": "display_data"
    },
    {
     "data": {
      "application/vnd.jupyter.widget-view+json": {
       "model_id": "1a0a378374314907be33f2b7d3e257c2",
       "version_major": 2,
       "version_minor": 0
      },
      "text/plain": [
       "Scoring...:   0%|          | 0/10 [00:00<?, ?it/s]"
      ]
     },
     "metadata": {},
     "output_type": "display_data"
    },
    {
     "name": "stdout",
     "output_type": "stream",
     "text": [
      "train: 1.76896 | val: 1.74450\n"
     ]
    },
    {
     "data": {
      "application/vnd.jupyter.widget-view+json": {
       "model_id": "354ffab63bd24c0c836c9c38954762b9",
       "version_major": 2,
       "version_minor": 0
      },
      "text/plain": [
       "  0%|          | 0/1 [00:00<?, ?it/s]"
      ]
     },
     "metadata": {},
     "output_type": "display_data"
    },
    {
     "data": {
      "application/vnd.jupyter.widget-view+json": {
       "model_id": "693cfc0348bf4eeeab56aa8170559021",
       "version_major": 2,
       "version_minor": 0
      },
      "text/plain": [
       "Scoring...:   0%|          | 0/10 [00:00<?, ?it/s]"
      ]
     },
     "metadata": {},
     "output_type": "display_data"
    },
    {
     "name": "stdout",
     "output_type": "stream",
     "text": [
      "train: 1.74608 | val: 1.72153\n"
     ]
    },
    {
     "data": {
      "application/vnd.jupyter.widget-view+json": {
       "model_id": "740c31b0d083429aaef93d677c914ea8",
       "version_major": 2,
       "version_minor": 0
      },
      "text/plain": [
       "  0%|          | 0/1 [00:00<?, ?it/s]"
      ]
     },
     "metadata": {},
     "output_type": "display_data"
    },
    {
     "data": {
      "application/vnd.jupyter.widget-view+json": {
       "model_id": "025fd570e868496c9de2c70c834241ca",
       "version_major": 2,
       "version_minor": 0
      },
      "text/plain": [
       "Scoring...:   0%|          | 0/10 [00:00<?, ?it/s]"
      ]
     },
     "metadata": {},
     "output_type": "display_data"
    },
    {
     "name": "stdout",
     "output_type": "stream",
     "text": [
      "train: 1.72332 | val: 1.69877\n"
     ]
    },
    {
     "data": {
      "application/vnd.jupyter.widget-view+json": {
       "model_id": "4f648715bf2d46a189183ba7a693a3de",
       "version_major": 2,
       "version_minor": 0
      },
      "text/plain": [
       "  0%|          | 0/1 [00:00<?, ?it/s]"
      ]
     },
     "metadata": {},
     "output_type": "display_data"
    },
    {
     "data": {
      "application/vnd.jupyter.widget-view+json": {
       "model_id": "a9174237cfa14a81a1ef2f927d0a27f2",
       "version_major": 2,
       "version_minor": 0
      },
      "text/plain": [
       "Scoring...:   0%|          | 0/10 [00:00<?, ?it/s]"
      ]
     },
     "metadata": {},
     "output_type": "display_data"
    },
    {
     "name": "stdout",
     "output_type": "stream",
     "text": [
      "train: 1.70077 | val: 1.67621\n"
     ]
    },
    {
     "data": {
      "application/vnd.jupyter.widget-view+json": {
       "model_id": "9aac976231584c3d8a91b92028b4bf2d",
       "version_major": 2,
       "version_minor": 0
      },
      "text/plain": [
       "  0%|          | 0/1 [00:00<?, ?it/s]"
      ]
     },
     "metadata": {},
     "output_type": "display_data"
    },
    {
     "data": {
      "application/vnd.jupyter.widget-view+json": {
       "model_id": "b989a7c26ea8437f98f0dff98380a813",
       "version_major": 2,
       "version_minor": 0
      },
      "text/plain": [
       "Scoring...:   0%|          | 0/10 [00:00<?, ?it/s]"
      ]
     },
     "metadata": {},
     "output_type": "display_data"
    },
    {
     "name": "stdout",
     "output_type": "stream",
     "text": [
      "train: 1.67839 | val: 1.65385\n"
     ]
    },
    {
     "data": {
      "application/vnd.jupyter.widget-view+json": {
       "model_id": "0e03501fa785405388af87a6aaead965",
       "version_major": 2,
       "version_minor": 0
      },
      "text/plain": [
       "  0%|          | 0/1 [00:00<?, ?it/s]"
      ]
     },
     "metadata": {},
     "output_type": "display_data"
    },
    {
     "data": {
      "application/vnd.jupyter.widget-view+json": {
       "model_id": "a99ba422bb114089b8ff23b8058b3911",
       "version_major": 2,
       "version_minor": 0
      },
      "text/plain": [
       "Scoring...:   0%|          | 0/10 [00:00<?, ?it/s]"
      ]
     },
     "metadata": {},
     "output_type": "display_data"
    },
    {
     "name": "stdout",
     "output_type": "stream",
     "text": [
      "train: 1.65619 | val: 1.63168\n"
     ]
    },
    {
     "data": {
      "application/vnd.jupyter.widget-view+json": {
       "model_id": "1fba9c8ca5b14fb0b43fea285e2a2e12",
       "version_major": 2,
       "version_minor": 0
      },
      "text/plain": [
       "  0%|          | 0/1 [00:00<?, ?it/s]"
      ]
     },
     "metadata": {},
     "output_type": "display_data"
    },
    {
     "data": {
      "application/vnd.jupyter.widget-view+json": {
       "model_id": "79aa39528d934589bd7e846ac6c88c1a",
       "version_major": 2,
       "version_minor": 0
      },
      "text/plain": [
       "Scoring...:   0%|          | 0/10 [00:00<?, ?it/s]"
      ]
     },
     "metadata": {},
     "output_type": "display_data"
    },
    {
     "name": "stdout",
     "output_type": "stream",
     "text": [
      "train: 1.63416 | val: 1.60964\n"
     ]
    },
    {
     "data": {
      "application/vnd.jupyter.widget-view+json": {
       "model_id": "fafc65ca72a243c28d1d412db69a90e5",
       "version_major": 2,
       "version_minor": 0
      },
      "text/plain": [
       "  0%|          | 0/1 [00:00<?, ?it/s]"
      ]
     },
     "metadata": {},
     "output_type": "display_data"
    },
    {
     "data": {
      "application/vnd.jupyter.widget-view+json": {
       "model_id": "be2213bb65ca407f9acbef54c6c1b74c",
       "version_major": 2,
       "version_minor": 0
      },
      "text/plain": [
       "Scoring...:   0%|          | 0/10 [00:00<?, ?it/s]"
      ]
     },
     "metadata": {},
     "output_type": "display_data"
    },
    {
     "name": "stdout",
     "output_type": "stream",
     "text": [
      "train: 1.61228 | val: 1.58773\n"
     ]
    },
    {
     "data": {
      "application/vnd.jupyter.widget-view+json": {
       "model_id": "846e265ddb2e48cab09216913be8680d",
       "version_major": 2,
       "version_minor": 0
      },
      "text/plain": [
       "  0%|          | 0/1 [00:00<?, ?it/s]"
      ]
     },
     "metadata": {},
     "output_type": "display_data"
    },
    {
     "data": {
      "application/vnd.jupyter.widget-view+json": {
       "model_id": "3c983c2325b34f598743059cb2ad1430",
       "version_major": 2,
       "version_minor": 0
      },
      "text/plain": [
       "Scoring...:   0%|          | 0/10 [00:00<?, ?it/s]"
      ]
     },
     "metadata": {},
     "output_type": "display_data"
    },
    {
     "name": "stdout",
     "output_type": "stream",
     "text": [
      "train: 1.59051 | val: 1.56601\n"
     ]
    },
    {
     "data": {
      "application/vnd.jupyter.widget-view+json": {
       "model_id": "8efa48367f4c4ec1adb186b6d7a5a3ab",
       "version_major": 2,
       "version_minor": 0
      },
      "text/plain": [
       "  0%|          | 0/1 [00:00<?, ?it/s]"
      ]
     },
     "metadata": {},
     "output_type": "display_data"
    },
    {
     "data": {
      "application/vnd.jupyter.widget-view+json": {
       "model_id": "19a1a58775ca44eb809fd8230bacd3ce",
       "version_major": 2,
       "version_minor": 0
      },
      "text/plain": [
       "Scoring...:   0%|          | 0/10 [00:00<?, ?it/s]"
      ]
     },
     "metadata": {},
     "output_type": "display_data"
    },
    {
     "name": "stdout",
     "output_type": "stream",
     "text": [
      "train: 1.56893 | val: 1.54442\n"
     ]
    },
    {
     "data": {
      "application/vnd.jupyter.widget-view+json": {
       "model_id": "d7c896635ebf496d9e8c78220cdf5184",
       "version_major": 2,
       "version_minor": 0
      },
      "text/plain": [
       "  0%|          | 0/1 [00:00<?, ?it/s]"
      ]
     },
     "metadata": {},
     "output_type": "display_data"
    },
    {
     "data": {
      "application/vnd.jupyter.widget-view+json": {
       "model_id": "7c4fc05428d64d31b1044c20ecb9181c",
       "version_major": 2,
       "version_minor": 0
      },
      "text/plain": [
       "Scoring...:   0%|          | 0/10 [00:00<?, ?it/s]"
      ]
     },
     "metadata": {},
     "output_type": "display_data"
    },
    {
     "name": "stdout",
     "output_type": "stream",
     "text": [
      "train: 1.54748 | val: 1.52289\n"
     ]
    },
    {
     "data": {
      "application/vnd.jupyter.widget-view+json": {
       "model_id": "3842b1c62d194597b21e2d7e0d8423dc",
       "version_major": 2,
       "version_minor": 0
      },
      "text/plain": [
       "  0%|          | 0/1 [00:00<?, ?it/s]"
      ]
     },
     "metadata": {},
     "output_type": "display_data"
    },
    {
     "data": {
      "application/vnd.jupyter.widget-view+json": {
       "model_id": "c107ed9decdf4e268e66e56b94ef9ab5",
       "version_major": 2,
       "version_minor": 0
      },
      "text/plain": [
       "Scoring...:   0%|          | 0/10 [00:00<?, ?it/s]"
      ]
     },
     "metadata": {},
     "output_type": "display_data"
    },
    {
     "name": "stdout",
     "output_type": "stream",
     "text": [
      "train: 1.52607 | val: 1.50145\n"
     ]
    },
    {
     "data": {
      "application/vnd.jupyter.widget-view+json": {
       "model_id": "3fd7391827274ae6a50994b4c8717c87",
       "version_major": 2,
       "version_minor": 0
      },
      "text/plain": [
       "  0%|          | 0/1 [00:00<?, ?it/s]"
      ]
     },
     "metadata": {},
     "output_type": "display_data"
    },
    {
     "data": {
      "application/vnd.jupyter.widget-view+json": {
       "model_id": "185c39ffa4cd4b35b27ed2a4e37ca70b",
       "version_major": 2,
       "version_minor": 0
      },
      "text/plain": [
       "Scoring...:   0%|          | 0/10 [00:00<?, ?it/s]"
      ]
     },
     "metadata": {},
     "output_type": "display_data"
    },
    {
     "name": "stdout",
     "output_type": "stream",
     "text": [
      "train: 1.50473 | val: 1.48024\n"
     ]
    },
    {
     "data": {
      "application/vnd.jupyter.widget-view+json": {
       "model_id": "879698c286724bd2bd32eb337fcb382a",
       "version_major": 2,
       "version_minor": 0
      },
      "text/plain": [
       "  0%|          | 0/1 [00:00<?, ?it/s]"
      ]
     },
     "metadata": {},
     "output_type": "display_data"
    },
    {
     "data": {
      "application/vnd.jupyter.widget-view+json": {
       "model_id": "319f50b173494346b2125ec968175eac",
       "version_major": 2,
       "version_minor": 0
      },
      "text/plain": [
       "Scoring...:   0%|          | 0/10 [00:00<?, ?it/s]"
      ]
     },
     "metadata": {},
     "output_type": "display_data"
    },
    {
     "name": "stdout",
     "output_type": "stream",
     "text": [
      "train: 1.48362 | val: 1.45912\n"
     ]
    },
    {
     "data": {
      "application/vnd.jupyter.widget-view+json": {
       "model_id": "7bc2fcab833f49e09998c57328724c84",
       "version_major": 2,
       "version_minor": 0
      },
      "text/plain": [
       "  0%|          | 0/1 [00:00<?, ?it/s]"
      ]
     },
     "metadata": {},
     "output_type": "display_data"
    },
    {
     "data": {
      "application/vnd.jupyter.widget-view+json": {
       "model_id": "af8a8bf00122429b9a5b36f8b993999b",
       "version_major": 2,
       "version_minor": 0
      },
      "text/plain": [
       "Scoring...:   0%|          | 0/10 [00:00<?, ?it/s]"
      ]
     },
     "metadata": {},
     "output_type": "display_data"
    },
    {
     "name": "stdout",
     "output_type": "stream",
     "text": [
      "train: 1.46258 | val: 1.43808\n"
     ]
    },
    {
     "data": {
      "application/vnd.jupyter.widget-view+json": {
       "model_id": "04bba1ab17be4e268f75b046fee9a6bd",
       "version_major": 2,
       "version_minor": 0
      },
      "text/plain": [
       "  0%|          | 0/1 [00:00<?, ?it/s]"
      ]
     },
     "metadata": {},
     "output_type": "display_data"
    },
    {
     "data": {
      "application/vnd.jupyter.widget-view+json": {
       "model_id": "9fba26765a1a48a8a3d805d19de45f42",
       "version_major": 2,
       "version_minor": 0
      },
      "text/plain": [
       "Scoring...:   0%|          | 0/10 [00:00<?, ?it/s]"
      ]
     },
     "metadata": {},
     "output_type": "display_data"
    },
    {
     "name": "stdout",
     "output_type": "stream",
     "text": [
      "train: 1.44163 | val: 1.41716\n"
     ]
    },
    {
     "data": {
      "application/vnd.jupyter.widget-view+json": {
       "model_id": "acd03e2d0b7d4a73ace1f3db15fdbe8b",
       "version_major": 2,
       "version_minor": 0
      },
      "text/plain": [
       "  0%|          | 0/1 [00:00<?, ?it/s]"
      ]
     },
     "metadata": {},
     "output_type": "display_data"
    },
    {
     "data": {
      "application/vnd.jupyter.widget-view+json": {
       "model_id": "56c5f68bfd42470ba87d42405c0550da",
       "version_major": 2,
       "version_minor": 0
      },
      "text/plain": [
       "Scoring...:   0%|          | 0/10 [00:00<?, ?it/s]"
      ]
     },
     "metadata": {},
     "output_type": "display_data"
    },
    {
     "name": "stdout",
     "output_type": "stream",
     "text": [
      "train: 1.42080 | val: 1.39633\n"
     ]
    },
    {
     "data": {
      "application/vnd.jupyter.widget-view+json": {
       "model_id": "1729704ff42b4cedae0a6430213410d8",
       "version_major": 2,
       "version_minor": 0
      },
      "text/plain": [
       "  0%|          | 0/1 [00:00<?, ?it/s]"
      ]
     },
     "metadata": {},
     "output_type": "display_data"
    },
    {
     "data": {
      "application/vnd.jupyter.widget-view+json": {
       "model_id": "cd4c2654011f498481a91cecc8f4ad63",
       "version_major": 2,
       "version_minor": 0
      },
      "text/plain": [
       "Scoring...:   0%|          | 0/10 [00:00<?, ?it/s]"
      ]
     },
     "metadata": {},
     "output_type": "display_data"
    },
    {
     "name": "stdout",
     "output_type": "stream",
     "text": [
      "train: 1.40007 | val: 1.37559\n"
     ]
    },
    {
     "data": {
      "application/vnd.jupyter.widget-view+json": {
       "model_id": "472a8d1dfa1f4c5890efc950628f2d74",
       "version_major": 2,
       "version_minor": 0
      },
      "text/plain": [
       "  0%|          | 0/1 [00:00<?, ?it/s]"
      ]
     },
     "metadata": {},
     "output_type": "display_data"
    },
    {
     "data": {
      "application/vnd.jupyter.widget-view+json": {
       "model_id": "bc9bd01269714ab599fcfa98f710f259",
       "version_major": 2,
       "version_minor": 0
      },
      "text/plain": [
       "Scoring...:   0%|          | 0/10 [00:00<?, ?it/s]"
      ]
     },
     "metadata": {},
     "output_type": "display_data"
    },
    {
     "name": "stdout",
     "output_type": "stream",
     "text": [
      "train: 1.37942 | val: 1.35494\n"
     ]
    },
    {
     "data": {
      "application/vnd.jupyter.widget-view+json": {
       "model_id": "fca820f178b3481ba419e94a1280dadd",
       "version_major": 2,
       "version_minor": 0
      },
      "text/plain": [
       "  0%|          | 0/1 [00:00<?, ?it/s]"
      ]
     },
     "metadata": {},
     "output_type": "display_data"
    },
    {
     "data": {
      "application/vnd.jupyter.widget-view+json": {
       "model_id": "528f3e881df84ac8a4f395b4de1a31cb",
       "version_major": 2,
       "version_minor": 0
      },
      "text/plain": [
       "Scoring...:   0%|          | 0/10 [00:00<?, ?it/s]"
      ]
     },
     "metadata": {},
     "output_type": "display_data"
    },
    {
     "name": "stdout",
     "output_type": "stream",
     "text": [
      "train: 1.35883 | val: 1.33434\n"
     ]
    },
    {
     "data": {
      "application/vnd.jupyter.widget-view+json": {
       "model_id": "d94eaae3a68c4cf8ad97aa05b6978b64",
       "version_major": 2,
       "version_minor": 0
      },
      "text/plain": [
       "  0%|          | 0/1 [00:00<?, ?it/s]"
      ]
     },
     "metadata": {},
     "output_type": "display_data"
    },
    {
     "data": {
      "application/vnd.jupyter.widget-view+json": {
       "model_id": "059a27235ce94574a1bddc50428b6238",
       "version_major": 2,
       "version_minor": 0
      },
      "text/plain": [
       "Scoring...:   0%|          | 0/10 [00:00<?, ?it/s]"
      ]
     },
     "metadata": {},
     "output_type": "display_data"
    },
    {
     "name": "stdout",
     "output_type": "stream",
     "text": [
      "train: 1.33830 | val: 1.31379\n"
     ]
    },
    {
     "data": {
      "application/vnd.jupyter.widget-view+json": {
       "model_id": "3e824c8a4758485e8b98a1b78e48caa1",
       "version_major": 2,
       "version_minor": 0
      },
      "text/plain": [
       "  0%|          | 0/1 [00:00<?, ?it/s]"
      ]
     },
     "metadata": {},
     "output_type": "display_data"
    },
    {
     "data": {
      "application/vnd.jupyter.widget-view+json": {
       "model_id": "80961d62d34d4877b03e23f76e471b54",
       "version_major": 2,
       "version_minor": 0
      },
      "text/plain": [
       "Scoring...:   0%|          | 0/10 [00:00<?, ?it/s]"
      ]
     },
     "metadata": {},
     "output_type": "display_data"
    },
    {
     "name": "stdout",
     "output_type": "stream",
     "text": [
      "train: 1.31779 | val: 1.29329\n"
     ]
    },
    {
     "data": {
      "application/vnd.jupyter.widget-view+json": {
       "model_id": "f36fce7a7168474ea65d8d6e6eac61e0",
       "version_major": 2,
       "version_minor": 0
      },
      "text/plain": [
       "  0%|          | 0/1 [00:00<?, ?it/s]"
      ]
     },
     "metadata": {},
     "output_type": "display_data"
    },
    {
     "data": {
      "application/vnd.jupyter.widget-view+json": {
       "model_id": "a13c0346fcdc482c92f0bc8b0be2fda7",
       "version_major": 2,
       "version_minor": 0
      },
      "text/plain": [
       "Scoring...:   0%|          | 0/10 [00:00<?, ?it/s]"
      ]
     },
     "metadata": {},
     "output_type": "display_data"
    },
    {
     "name": "stdout",
     "output_type": "stream",
     "text": [
      "train: 1.29732 | val: 1.27284\n"
     ]
    },
    {
     "data": {
      "application/vnd.jupyter.widget-view+json": {
       "model_id": "62486f02576a46eb959cda3dbb7b0728",
       "version_major": 2,
       "version_minor": 0
      },
      "text/plain": [
       "  0%|          | 0/1 [00:00<?, ?it/s]"
      ]
     },
     "metadata": {},
     "output_type": "display_data"
    },
    {
     "data": {
      "application/vnd.jupyter.widget-view+json": {
       "model_id": "0162977d92004bc19f20a35073de9fe7",
       "version_major": 2,
       "version_minor": 0
      },
      "text/plain": [
       "Scoring...:   0%|          | 0/10 [00:00<?, ?it/s]"
      ]
     },
     "metadata": {},
     "output_type": "display_data"
    },
    {
     "name": "stdout",
     "output_type": "stream",
     "text": [
      "train: 1.27690 | val: 1.25248\n"
     ]
    },
    {
     "data": {
      "application/vnd.jupyter.widget-view+json": {
       "model_id": "63aba25984204edf8687d4dd8ed4e2b7",
       "version_major": 2,
       "version_minor": 0
      },
      "text/plain": [
       "  0%|          | 0/1 [00:00<?, ?it/s]"
      ]
     },
     "metadata": {},
     "output_type": "display_data"
    },
    {
     "data": {
      "application/vnd.jupyter.widget-view+json": {
       "model_id": "fd6c6b9bcf6f4c8e8799ec5f4c780200",
       "version_major": 2,
       "version_minor": 0
      },
      "text/plain": [
       "Scoring...:   0%|          | 0/10 [00:00<?, ?it/s]"
      ]
     },
     "metadata": {},
     "output_type": "display_data"
    },
    {
     "name": "stdout",
     "output_type": "stream",
     "text": [
      "train: 1.25657 | val: 1.23221\n"
     ]
    },
    {
     "data": {
      "application/vnd.jupyter.widget-view+json": {
       "model_id": "981d23757fc849ae85ab19895d2be7b0",
       "version_major": 2,
       "version_minor": 0
      },
      "text/plain": [
       "  0%|          | 0/1 [00:00<?, ?it/s]"
      ]
     },
     "metadata": {},
     "output_type": "display_data"
    },
    {
     "data": {
      "application/vnd.jupyter.widget-view+json": {
       "model_id": "217a6c4e0803424c8d7ba31df635872b",
       "version_major": 2,
       "version_minor": 0
      },
      "text/plain": [
       "Scoring...:   0%|          | 0/10 [00:00<?, ?it/s]"
      ]
     },
     "metadata": {},
     "output_type": "display_data"
    },
    {
     "name": "stdout",
     "output_type": "stream",
     "text": [
      "train: 1.23633 | val: 1.21206\n"
     ]
    },
    {
     "data": {
      "application/vnd.jupyter.widget-view+json": {
       "model_id": "91e7b1d602e8405f99cbc981f8ce7cb0",
       "version_major": 2,
       "version_minor": 0
      },
      "text/plain": [
       "  0%|          | 0/1 [00:00<?, ?it/s]"
      ]
     },
     "metadata": {},
     "output_type": "display_data"
    },
    {
     "data": {
      "application/vnd.jupyter.widget-view+json": {
       "model_id": "4feddfcde36146d39a42764e3276382c",
       "version_major": 2,
       "version_minor": 0
      },
      "text/plain": [
       "Scoring...:   0%|          | 0/10 [00:00<?, ?it/s]"
      ]
     },
     "metadata": {},
     "output_type": "display_data"
    },
    {
     "name": "stdout",
     "output_type": "stream",
     "text": [
      "train: 1.21620 | val: 1.19202\n"
     ]
    },
    {
     "data": {
      "application/vnd.jupyter.widget-view+json": {
       "model_id": "58712d3bc74f47ad8f3924b8bcc89daa",
       "version_major": 2,
       "version_minor": 0
      },
      "text/plain": [
       "  0%|          | 0/1 [00:00<?, ?it/s]"
      ]
     },
     "metadata": {},
     "output_type": "display_data"
    },
    {
     "data": {
      "application/vnd.jupyter.widget-view+json": {
       "model_id": "d88cd515694b4cc7998717b2089f7386",
       "version_major": 2,
       "version_minor": 0
      },
      "text/plain": [
       "Scoring...:   0%|          | 0/10 [00:00<?, ?it/s]"
      ]
     },
     "metadata": {},
     "output_type": "display_data"
    },
    {
     "name": "stdout",
     "output_type": "stream",
     "text": [
      "train: 1.19617 | val: 1.17207\n"
     ]
    },
    {
     "data": {
      "application/vnd.jupyter.widget-view+json": {
       "model_id": "57b63689906048da8415cc355efc5421",
       "version_major": 2,
       "version_minor": 0
      },
      "text/plain": [
       "  0%|          | 0/1 [00:00<?, ?it/s]"
      ]
     },
     "metadata": {},
     "output_type": "display_data"
    },
    {
     "data": {
      "application/vnd.jupyter.widget-view+json": {
       "model_id": "e416cba20c534c9daddeb0baae27cc67",
       "version_major": 2,
       "version_minor": 0
      },
      "text/plain": [
       "Scoring...:   0%|          | 0/10 [00:00<?, ?it/s]"
      ]
     },
     "metadata": {},
     "output_type": "display_data"
    },
    {
     "name": "stdout",
     "output_type": "stream",
     "text": [
      "train: 1.17620 | val: 1.15216\n"
     ]
    },
    {
     "data": {
      "application/vnd.jupyter.widget-view+json": {
       "model_id": "618ad7d9a63a4d65861941670d35ff52",
       "version_major": 2,
       "version_minor": 0
      },
      "text/plain": [
       "  0%|          | 0/1 [00:00<?, ?it/s]"
      ]
     },
     "metadata": {},
     "output_type": "display_data"
    },
    {
     "data": {
      "application/vnd.jupyter.widget-view+json": {
       "model_id": "1ae7ecb4665d466d973e4a47d98c6456",
       "version_major": 2,
       "version_minor": 0
      },
      "text/plain": [
       "Scoring...:   0%|          | 0/10 [00:00<?, ?it/s]"
      ]
     },
     "metadata": {},
     "output_type": "display_data"
    },
    {
     "name": "stdout",
     "output_type": "stream",
     "text": [
      "train: 1.15627 | val: 1.13233\n"
     ]
    },
    {
     "data": {
      "application/vnd.jupyter.widget-view+json": {
       "model_id": "ab23d80f42004a31bcc38bca1654474b",
       "version_major": 2,
       "version_minor": 0
      },
      "text/plain": [
       "  0%|          | 0/1 [00:00<?, ?it/s]"
      ]
     },
     "metadata": {},
     "output_type": "display_data"
    },
    {
     "data": {
      "application/vnd.jupyter.widget-view+json": {
       "model_id": "b503a310c18a43c6848ecaab75e39fdb",
       "version_major": 2,
       "version_minor": 0
      },
      "text/plain": [
       "Scoring...:   0%|          | 0/10 [00:00<?, ?it/s]"
      ]
     },
     "metadata": {},
     "output_type": "display_data"
    },
    {
     "name": "stdout",
     "output_type": "stream",
     "text": [
      "train: 1.13643 | val: 1.11264\n"
     ]
    },
    {
     "data": {
      "application/vnd.jupyter.widget-view+json": {
       "model_id": "b83b4ef0faa74929ad1cd99e374ef916",
       "version_major": 2,
       "version_minor": 0
      },
      "text/plain": [
       "  0%|          | 0/1 [00:00<?, ?it/s]"
      ]
     },
     "metadata": {},
     "output_type": "display_data"
    },
    {
     "data": {
      "application/vnd.jupyter.widget-view+json": {
       "model_id": "3cb6de77e1664cf196e7ba195d8d60f1",
       "version_major": 2,
       "version_minor": 0
      },
      "text/plain": [
       "Scoring...:   0%|          | 0/10 [00:00<?, ?it/s]"
      ]
     },
     "metadata": {},
     "output_type": "display_data"
    },
    {
     "name": "stdout",
     "output_type": "stream",
     "text": [
      "train: 1.11673 | val: 1.09320\n"
     ]
    },
    {
     "data": {
      "application/vnd.jupyter.widget-view+json": {
       "model_id": "562ac0a9e9b14ae08a95b58440301f3b",
       "version_major": 2,
       "version_minor": 0
      },
      "text/plain": [
       "  0%|          | 0/1 [00:00<?, ?it/s]"
      ]
     },
     "metadata": {},
     "output_type": "display_data"
    },
    {
     "data": {
      "application/vnd.jupyter.widget-view+json": {
       "model_id": "5795172d0813419a8698f83342199750",
       "version_major": 2,
       "version_minor": 0
      },
      "text/plain": [
       "Scoring...:   0%|          | 0/10 [00:00<?, ?it/s]"
      ]
     },
     "metadata": {},
     "output_type": "display_data"
    },
    {
     "name": "stdout",
     "output_type": "stream",
     "text": [
      "train: 1.09730 | val: 1.07454\n"
     ]
    },
    {
     "data": {
      "application/vnd.jupyter.widget-view+json": {
       "model_id": "bdbd15a8d6de4ec9a138c7afdd418e90",
       "version_major": 2,
       "version_minor": 0
      },
      "text/plain": [
       "  0%|          | 0/1 [00:00<?, ?it/s]"
      ]
     },
     "metadata": {},
     "output_type": "display_data"
    },
    {
     "data": {
      "application/vnd.jupyter.widget-view+json": {
       "model_id": "b931762dc7da4fd8b8bd0dfd2f609f77",
       "version_major": 2,
       "version_minor": 0
      },
      "text/plain": [
       "Scoring...:   0%|          | 0/10 [00:00<?, ?it/s]"
      ]
     },
     "metadata": {},
     "output_type": "display_data"
    },
    {
     "name": "stdout",
     "output_type": "stream",
     "text": [
      "train: 1.07865 | val: 1.05742\n"
     ]
    },
    {
     "data": {
      "application/vnd.jupyter.widget-view+json": {
       "model_id": "8a493e04e03140ea9a65d131de70bf26",
       "version_major": 2,
       "version_minor": 0
      },
      "text/plain": [
       "  0%|          | 0/1 [00:00<?, ?it/s]"
      ]
     },
     "metadata": {},
     "output_type": "display_data"
    },
    {
     "data": {
      "application/vnd.jupyter.widget-view+json": {
       "model_id": "74e5f53d9055422da8e48002a4b90a7a",
       "version_major": 2,
       "version_minor": 0
      },
      "text/plain": [
       "Scoring...:   0%|          | 0/10 [00:00<?, ?it/s]"
      ]
     },
     "metadata": {},
     "output_type": "display_data"
    },
    {
     "name": "stdout",
     "output_type": "stream",
     "text": [
      "train: 1.06160 | val: 1.04226\n"
     ]
    },
    {
     "data": {
      "application/vnd.jupyter.widget-view+json": {
       "model_id": "c86e326bfccc4c519c71543011e228a2",
       "version_major": 2,
       "version_minor": 0
      },
      "text/plain": [
       "  0%|          | 0/1 [00:00<?, ?it/s]"
      ]
     },
     "metadata": {},
     "output_type": "display_data"
    },
    {
     "data": {
      "application/vnd.jupyter.widget-view+json": {
       "model_id": "f7a5e6a66dd34eb18d74cb60a6a070f7",
       "version_major": 2,
       "version_minor": 0
      },
      "text/plain": [
       "Scoring...:   0%|          | 0/10 [00:00<?, ?it/s]"
      ]
     },
     "metadata": {},
     "output_type": "display_data"
    },
    {
     "name": "stdout",
     "output_type": "stream",
     "text": [
      "train: 1.04657 | val: 1.02093\n"
     ]
    },
    {
     "data": {
      "application/vnd.jupyter.widget-view+json": {
       "model_id": "ea7833c190f34a02bd60513fe7f64e48",
       "version_major": 2,
       "version_minor": 0
      },
      "text/plain": [
       "  0%|          | 0/1 [00:00<?, ?it/s]"
      ]
     },
     "metadata": {},
     "output_type": "display_data"
    },
    {
     "data": {
      "application/vnd.jupyter.widget-view+json": {
       "model_id": "8b53b8070b824bcb8ed7c42cd6b4ad65",
       "version_major": 2,
       "version_minor": 0
      },
      "text/plain": [
       "Scoring...:   0%|          | 0/10 [00:00<?, ?it/s]"
      ]
     },
     "metadata": {},
     "output_type": "display_data"
    },
    {
     "name": "stdout",
     "output_type": "stream",
     "text": [
      "train: 1.02519 | val: 0.99916\n"
     ]
    },
    {
     "data": {
      "application/vnd.jupyter.widget-view+json": {
       "model_id": "236e2d2e302f4c0687ffe699a4587d3f",
       "version_major": 2,
       "version_minor": 0
      },
      "text/plain": [
       "  0%|          | 0/1 [00:00<?, ?it/s]"
      ]
     },
     "metadata": {},
     "output_type": "display_data"
    },
    {
     "data": {
      "application/vnd.jupyter.widget-view+json": {
       "model_id": "ea6af65955e74772a21ad3417f242c5e",
       "version_major": 2,
       "version_minor": 0
      },
      "text/plain": [
       "Scoring...:   0%|          | 0/10 [00:00<?, ?it/s]"
      ]
     },
     "metadata": {},
     "output_type": "display_data"
    },
    {
     "name": "stdout",
     "output_type": "stream",
     "text": [
      "train: 1.00345 | val: 0.98337\n"
     ]
    },
    {
     "data": {
      "application/vnd.jupyter.widget-view+json": {
       "model_id": "f268bbf9d4c44678a963dd5c008eef5d",
       "version_major": 2,
       "version_minor": 0
      },
      "text/plain": [
       "  0%|          | 0/1 [00:00<?, ?it/s]"
      ]
     },
     "metadata": {},
     "output_type": "display_data"
    },
    {
     "data": {
      "application/vnd.jupyter.widget-view+json": {
       "model_id": "0fcc826789aa4037ad09cdce8b9a5bea",
       "version_major": 2,
       "version_minor": 0
      },
      "text/plain": [
       "Scoring...:   0%|          | 0/10 [00:00<?, ?it/s]"
      ]
     },
     "metadata": {},
     "output_type": "display_data"
    },
    {
     "name": "stdout",
     "output_type": "stream",
     "text": [
      "train: 0.98767 | val: 0.96652\n"
     ]
    },
    {
     "data": {
      "application/vnd.jupyter.widget-view+json": {
       "model_id": "1645c760b5c644b7ace0a4364ba8d164",
       "version_major": 2,
       "version_minor": 0
      },
      "text/plain": [
       "  0%|          | 0/1 [00:00<?, ?it/s]"
      ]
     },
     "metadata": {},
     "output_type": "display_data"
    },
    {
     "data": {
      "application/vnd.jupyter.widget-view+json": {
       "model_id": "cccdd4e1d02a485f883772bf74e49147",
       "version_major": 2,
       "version_minor": 0
      },
      "text/plain": [
       "Scoring...:   0%|          | 0/10 [00:00<?, ?it/s]"
      ]
     },
     "metadata": {},
     "output_type": "display_data"
    },
    {
     "name": "stdout",
     "output_type": "stream",
     "text": [
      "train: 0.97085 | val: 0.94666\n"
     ]
    },
    {
     "data": {
      "application/vnd.jupyter.widget-view+json": {
       "model_id": "07a209098e274303a9a6f0a60ba6674e",
       "version_major": 2,
       "version_minor": 0
      },
      "text/plain": [
       "  0%|          | 0/1 [00:00<?, ?it/s]"
      ]
     },
     "metadata": {},
     "output_type": "display_data"
    },
    {
     "data": {
      "application/vnd.jupyter.widget-view+json": {
       "model_id": "001ffd8240ef496784768db0e6c415c5",
       "version_major": 2,
       "version_minor": 0
      },
      "text/plain": [
       "Scoring...:   0%|          | 0/10 [00:00<?, ?it/s]"
      ]
     },
     "metadata": {},
     "output_type": "display_data"
    },
    {
     "name": "stdout",
     "output_type": "stream",
     "text": [
      "train: 0.95100 | val: 0.92940\n"
     ]
    },
    {
     "data": {
      "application/vnd.jupyter.widget-view+json": {
       "model_id": "b564747ec78b415badb76e62295eac33",
       "version_major": 2,
       "version_minor": 0
      },
      "text/plain": [
       "  0%|          | 0/1 [00:00<?, ?it/s]"
      ]
     },
     "metadata": {},
     "output_type": "display_data"
    },
    {
     "data": {
      "application/vnd.jupyter.widget-view+json": {
       "model_id": "95382d9d46e9450fa26fb07d60c3dcc1",
       "version_major": 2,
       "version_minor": 0
      },
      "text/plain": [
       "Scoring...:   0%|          | 0/10 [00:00<?, ?it/s]"
      ]
     },
     "metadata": {},
     "output_type": "display_data"
    },
    {
     "name": "stdout",
     "output_type": "stream",
     "text": [
      "train: 0.93371 | val: 0.91359\n"
     ]
    },
    {
     "data": {
      "application/vnd.jupyter.widget-view+json": {
       "model_id": "d2f2afeff5464c67a2454baa5c0044fb",
       "version_major": 2,
       "version_minor": 0
      },
      "text/plain": [
       "  0%|          | 0/1 [00:00<?, ?it/s]"
      ]
     },
     "metadata": {},
     "output_type": "display_data"
    },
    {
     "data": {
      "application/vnd.jupyter.widget-view+json": {
       "model_id": "f2b9bb808e784a698b858cde9c6ff5c6",
       "version_major": 2,
       "version_minor": 0
      },
      "text/plain": [
       "Scoring...:   0%|          | 0/10 [00:00<?, ?it/s]"
      ]
     },
     "metadata": {},
     "output_type": "display_data"
    },
    {
     "name": "stdout",
     "output_type": "stream",
     "text": [
      "train: 0.91786 | val: 0.89499\n"
     ]
    },
    {
     "data": {
      "application/vnd.jupyter.widget-view+json": {
       "model_id": "209e0281db14491f83146c800f184463",
       "version_major": 2,
       "version_minor": 0
      },
      "text/plain": [
       "  0%|          | 0/1 [00:00<?, ?it/s]"
      ]
     },
     "metadata": {},
     "output_type": "display_data"
    },
    {
     "data": {
      "application/vnd.jupyter.widget-view+json": {
       "model_id": "436fcefccf6444c4a2ae53f981f35b71",
       "version_major": 2,
       "version_minor": 0
      },
      "text/plain": [
       "Scoring...:   0%|          | 0/10 [00:00<?, ?it/s]"
      ]
     },
     "metadata": {},
     "output_type": "display_data"
    },
    {
     "name": "stdout",
     "output_type": "stream",
     "text": [
      "train: 0.89927 | val: 0.87765\n"
     ]
    },
    {
     "data": {
      "application/vnd.jupyter.widget-view+json": {
       "model_id": "abdcc478aa1f4a9abdcdcdcfbcc5f35b",
       "version_major": 2,
       "version_minor": 0
      },
      "text/plain": [
       "  0%|          | 0/1 [00:00<?, ?it/s]"
      ]
     },
     "metadata": {},
     "output_type": "display_data"
    },
    {
     "data": {
      "application/vnd.jupyter.widget-view+json": {
       "model_id": "526b980c1e9f43e3ba07256788c248d3",
       "version_major": 2,
       "version_minor": 0
      },
      "text/plain": [
       "Scoring...:   0%|          | 0/10 [00:00<?, ?it/s]"
      ]
     },
     "metadata": {},
     "output_type": "display_data"
    },
    {
     "name": "stdout",
     "output_type": "stream",
     "text": [
      "train: 0.88192 | val: 0.86271\n"
     ]
    },
    {
     "data": {
      "application/vnd.jupyter.widget-view+json": {
       "model_id": "14fe13c2fe2a4adca289479b6404548b",
       "version_major": 2,
       "version_minor": 0
      },
      "text/plain": [
       "  0%|          | 0/1 [00:00<?, ?it/s]"
      ]
     },
     "metadata": {},
     "output_type": "display_data"
    },
    {
     "data": {
      "application/vnd.jupyter.widget-view+json": {
       "model_id": "793d6f31b129469aaf9531f4407489aa",
       "version_major": 2,
       "version_minor": 0
      },
      "text/plain": [
       "Scoring...:   0%|          | 0/10 [00:00<?, ?it/s]"
      ]
     },
     "metadata": {},
     "output_type": "display_data"
    },
    {
     "name": "stdout",
     "output_type": "stream",
     "text": [
      "train: 0.86696 | val: 0.84498\n"
     ]
    },
    {
     "data": {
      "application/vnd.jupyter.widget-view+json": {
       "model_id": "e3825041dcc14df5b02e80046a3d60c3",
       "version_major": 2,
       "version_minor": 0
      },
      "text/plain": [
       "  0%|          | 0/1 [00:00<?, ?it/s]"
      ]
     },
     "metadata": {},
     "output_type": "display_data"
    },
    {
     "data": {
      "application/vnd.jupyter.widget-view+json": {
       "model_id": "e002084cf75c45bfb64084c2f7ba68e9",
       "version_major": 2,
       "version_minor": 0
      },
      "text/plain": [
       "Scoring...:   0%|          | 0/10 [00:00<?, ?it/s]"
      ]
     },
     "metadata": {},
     "output_type": "display_data"
    },
    {
     "name": "stdout",
     "output_type": "stream",
     "text": [
      "train: 0.84928 | val: 0.82762\n"
     ]
    },
    {
     "data": {
      "application/vnd.jupyter.widget-view+json": {
       "model_id": "af2f0bef12a140f3b99183f83e4f6aa1",
       "version_major": 2,
       "version_minor": 0
      },
      "text/plain": [
       "  0%|          | 0/1 [00:00<?, ?it/s]"
      ]
     },
     "metadata": {},
     "output_type": "display_data"
    },
    {
     "data": {
      "application/vnd.jupyter.widget-view+json": {
       "model_id": "02903b14bd334a0d8237d987c644039c",
       "version_major": 2,
       "version_minor": 0
      },
      "text/plain": [
       "Scoring...:   0%|          | 0/10 [00:00<?, ?it/s]"
      ]
     },
     "metadata": {},
     "output_type": "display_data"
    },
    {
     "name": "stdout",
     "output_type": "stream",
     "text": [
      "train: 0.83190 | val: 0.81302\n"
     ]
    },
    {
     "data": {
      "application/vnd.jupyter.widget-view+json": {
       "model_id": "117bf3d0483b4a7982fd8654d5519421",
       "version_major": 2,
       "version_minor": 0
      },
      "text/plain": [
       "  0%|          | 0/1 [00:00<?, ?it/s]"
      ]
     },
     "metadata": {},
     "output_type": "display_data"
    },
    {
     "data": {
      "application/vnd.jupyter.widget-view+json": {
       "model_id": "dd8a9716d20c4a549d2c1c377190588a",
       "version_major": 2,
       "version_minor": 0
      },
      "text/plain": [
       "Scoring...:   0%|          | 0/10 [00:00<?, ?it/s]"
      ]
     },
     "metadata": {},
     "output_type": "display_data"
    },
    {
     "name": "stdout",
     "output_type": "stream",
     "text": [
      "train: 0.81733 | val: 0.79626\n"
     ]
    },
    {
     "data": {
      "application/vnd.jupyter.widget-view+json": {
       "model_id": "b91364ef5cb740d5b90334d5a4fae391",
       "version_major": 2,
       "version_minor": 0
      },
      "text/plain": [
       "  0%|          | 0/1 [00:00<?, ?it/s]"
      ]
     },
     "metadata": {},
     "output_type": "display_data"
    },
    {
     "data": {
      "application/vnd.jupyter.widget-view+json": {
       "model_id": "ff09e17bd8b6461b934b455496fc1214",
       "version_major": 2,
       "version_minor": 0
      },
      "text/plain": [
       "Scoring...:   0%|          | 0/10 [00:00<?, ?it/s]"
      ]
     },
     "metadata": {},
     "output_type": "display_data"
    },
    {
     "name": "stdout",
     "output_type": "stream",
     "text": [
      "train: 0.80054 | val: 0.77894\n"
     ]
    },
    {
     "data": {
      "application/vnd.jupyter.widget-view+json": {
       "model_id": "0bbf20a904f041ddb1090ae938535806",
       "version_major": 2,
       "version_minor": 0
      },
      "text/plain": [
       "  0%|          | 0/1 [00:00<?, ?it/s]"
      ]
     },
     "metadata": {},
     "output_type": "display_data"
    },
    {
     "data": {
      "application/vnd.jupyter.widget-view+json": {
       "model_id": "a748064444234071bddda9b5bc8799cb",
       "version_major": 2,
       "version_minor": 0
      },
      "text/plain": [
       "Scoring...:   0%|          | 0/10 [00:00<?, ?it/s]"
      ]
     },
     "metadata": {},
     "output_type": "display_data"
    },
    {
     "name": "stdout",
     "output_type": "stream",
     "text": [
      "train: 0.78320 | val: 0.76452\n"
     ]
    },
    {
     "data": {
      "application/vnd.jupyter.widget-view+json": {
       "model_id": "85869101cef84889b689477cc872ef2d",
       "version_major": 2,
       "version_minor": 0
      },
      "text/plain": [
       "  0%|          | 0/1 [00:00<?, ?it/s]"
      ]
     },
     "metadata": {},
     "output_type": "display_data"
    },
    {
     "data": {
      "application/vnd.jupyter.widget-view+json": {
       "model_id": "192ac01b34d54ef6954b30b1125d0235",
       "version_major": 2,
       "version_minor": 0
      },
      "text/plain": [
       "Scoring...:   0%|          | 0/10 [00:00<?, ?it/s]"
      ]
     },
     "metadata": {},
     "output_type": "display_data"
    },
    {
     "name": "stdout",
     "output_type": "stream",
     "text": [
      "train: 0.76878 | val: 0.74893\n"
     ]
    },
    {
     "data": {
      "application/vnd.jupyter.widget-view+json": {
       "model_id": "dad0ae08e0e24bd0af6b9cfcb52fd56f",
       "version_major": 2,
       "version_minor": 0
      },
      "text/plain": [
       "  0%|          | 0/1 [00:00<?, ?it/s]"
      ]
     },
     "metadata": {},
     "output_type": "display_data"
    },
    {
     "data": {
      "application/vnd.jupyter.widget-view+json": {
       "model_id": "d40f74bc75ec45c3a46698d3b8f70d16",
       "version_major": 2,
       "version_minor": 0
      },
      "text/plain": [
       "Scoring...:   0%|          | 0/10 [00:00<?, ?it/s]"
      ]
     },
     "metadata": {},
     "output_type": "display_data"
    },
    {
     "name": "stdout",
     "output_type": "stream",
     "text": [
      "train: 0.75316 | val: 0.73182\n"
     ]
    },
    {
     "data": {
      "application/vnd.jupyter.widget-view+json": {
       "model_id": "30f8847eb80340dca90adcfa1ee7dbeb",
       "version_major": 2,
       "version_minor": 0
      },
      "text/plain": [
       "  0%|          | 0/1 [00:00<?, ?it/s]"
      ]
     },
     "metadata": {},
     "output_type": "display_data"
    },
    {
     "data": {
      "application/vnd.jupyter.widget-view+json": {
       "model_id": "49708de3831d4bcdb20df4d510cf13ce",
       "version_major": 2,
       "version_minor": 0
      },
      "text/plain": [
       "Scoring...:   0%|          | 0/10 [00:00<?, ?it/s]"
      ]
     },
     "metadata": {},
     "output_type": "display_data"
    },
    {
     "name": "stdout",
     "output_type": "stream",
     "text": [
      "train: 0.73602 | val: 0.71780\n"
     ]
    },
    {
     "data": {
      "application/vnd.jupyter.widget-view+json": {
       "model_id": "64f02ab1edf24ca1b366beae2ef83a33",
       "version_major": 2,
       "version_minor": 0
      },
      "text/plain": [
       "  0%|          | 0/1 [00:00<?, ?it/s]"
      ]
     },
     "metadata": {},
     "output_type": "display_data"
    },
    {
     "data": {
      "application/vnd.jupyter.widget-view+json": {
       "model_id": "6924ee6bf2ac47419026ac7f5d5c8468",
       "version_major": 2,
       "version_minor": 0
      },
      "text/plain": [
       "Scoring...:   0%|          | 0/10 [00:00<?, ?it/s]"
      ]
     },
     "metadata": {},
     "output_type": "display_data"
    },
    {
     "name": "stdout",
     "output_type": "stream",
     "text": [
      "train: 0.72199 | val: 0.70312\n"
     ]
    },
    {
     "data": {
      "application/vnd.jupyter.widget-view+json": {
       "model_id": "2bed6e55f38544b5b75965d0f1ca24c6",
       "version_major": 2,
       "version_minor": 0
      },
      "text/plain": [
       "  0%|          | 0/1 [00:00<?, ?it/s]"
      ]
     },
     "metadata": {},
     "output_type": "display_data"
    },
    {
     "data": {
      "application/vnd.jupyter.widget-view+json": {
       "model_id": "3dd93da4876a45e683efcc65c627747d",
       "version_major": 2,
       "version_minor": 0
      },
      "text/plain": [
       "Scoring...:   0%|          | 0/10 [00:00<?, ?it/s]"
      ]
     },
     "metadata": {},
     "output_type": "display_data"
    },
    {
     "name": "stdout",
     "output_type": "stream",
     "text": [
      "train: 0.70727 | val: 0.68733\n"
     ]
    },
    {
     "data": {
      "application/vnd.jupyter.widget-view+json": {
       "model_id": "50c250381e724cab881195d64dd7d7b1",
       "version_major": 2,
       "version_minor": 0
      },
      "text/plain": [
       "  0%|          | 0/1 [00:00<?, ?it/s]"
      ]
     },
     "metadata": {},
     "output_type": "display_data"
    },
    {
     "data": {
      "application/vnd.jupyter.widget-view+json": {
       "model_id": "6396decdbd4847d5ab47087c0a19a71c",
       "version_major": 2,
       "version_minor": 0
      },
      "text/plain": [
       "Scoring...:   0%|          | 0/10 [00:00<?, ?it/s]"
      ]
     },
     "metadata": {},
     "output_type": "display_data"
    },
    {
     "name": "stdout",
     "output_type": "stream",
     "text": [
      "train: 0.69148 | val: 0.67509\n"
     ]
    },
    {
     "data": {
      "application/vnd.jupyter.widget-view+json": {
       "model_id": "3b7cf276bb444d27a30b75ac87876ddc",
       "version_major": 2,
       "version_minor": 0
      },
      "text/plain": [
       "  0%|          | 0/1 [00:00<?, ?it/s]"
      ]
     },
     "metadata": {},
     "output_type": "display_data"
    },
    {
     "data": {
      "application/vnd.jupyter.widget-view+json": {
       "model_id": "c181413166434fd7a8233ee4c28d8399",
       "version_major": 2,
       "version_minor": 0
      },
      "text/plain": [
       "Scoring...:   0%|          | 0/10 [00:00<?, ?it/s]"
      ]
     },
     "metadata": {},
     "output_type": "display_data"
    },
    {
     "name": "stdout",
     "output_type": "stream",
     "text": [
      "train: 0.67935 | val: 0.67136\n"
     ]
    },
    {
     "data": {
      "application/vnd.jupyter.widget-view+json": {
       "model_id": "3e65d9afcc224e03a1e1c99be69814e3",
       "version_major": 2,
       "version_minor": 0
      },
      "text/plain": [
       "  0%|          | 0/1 [00:00<?, ?it/s]"
      ]
     },
     "metadata": {},
     "output_type": "display_data"
    },
    {
     "data": {
      "application/vnd.jupyter.widget-view+json": {
       "model_id": "54756483031b45cc8f491064d6305db5",
       "version_major": 2,
       "version_minor": 0
      },
      "text/plain": [
       "Scoring...:   0%|          | 0/10 [00:00<?, ?it/s]"
      ]
     },
     "metadata": {},
     "output_type": "display_data"
    },
    {
     "name": "stdout",
     "output_type": "stream",
     "text": [
      "train: 0.67608 | val: 0.64693\n"
     ]
    },
    {
     "data": {
      "application/vnd.jupyter.widget-view+json": {
       "model_id": "f9a4e104fdcc4e91bc85ae10bfd1f30d",
       "version_major": 2,
       "version_minor": 0
      },
      "text/plain": [
       "  0%|          | 0/1 [00:00<?, ?it/s]"
      ]
     },
     "metadata": {},
     "output_type": "display_data"
    },
    {
     "data": {
      "application/vnd.jupyter.widget-view+json": {
       "model_id": "4d187a2acca64e7dbf73db440fa4b147",
       "version_major": 2,
       "version_minor": 0
      },
      "text/plain": [
       "Scoring...:   0%|          | 0/10 [00:00<?, ?it/s]"
      ]
     },
     "metadata": {},
     "output_type": "display_data"
    },
    {
     "name": "stdout",
     "output_type": "stream",
     "text": [
      "train: 0.65108 | val: 0.64109\n"
     ]
    },
    {
     "data": {
      "application/vnd.jupyter.widget-view+json": {
       "model_id": "30190995770f47bc8ed1606d1cd4a114",
       "version_major": 2,
       "version_minor": 0
      },
      "text/plain": [
       "  0%|          | 0/1 [00:00<?, ?it/s]"
      ]
     },
     "metadata": {},
     "output_type": "display_data"
    },
    {
     "data": {
      "application/vnd.jupyter.widget-view+json": {
       "model_id": "409c2fdf485f4b419b8588b23d51d99f",
       "version_major": 2,
       "version_minor": 0
      },
      "text/plain": [
       "Scoring...:   0%|          | 0/10 [00:00<?, ?it/s]"
      ]
     },
     "metadata": {},
     "output_type": "display_data"
    },
    {
     "name": "stdout",
     "output_type": "stream",
     "text": [
      "train: 0.64532 | val: 0.63913\n"
     ]
    },
    {
     "data": {
      "application/vnd.jupyter.widget-view+json": {
       "model_id": "657ef0fbb1c74392aa192d6adaeedb95",
       "version_major": 2,
       "version_minor": 0
      },
      "text/plain": [
       "  0%|          | 0/1 [00:00<?, ?it/s]"
      ]
     },
     "metadata": {},
     "output_type": "display_data"
    },
    {
     "data": {
      "application/vnd.jupyter.widget-view+json": {
       "model_id": "d67f337c434d4dd9abd7829a8063443f",
       "version_major": 2,
       "version_minor": 0
      },
      "text/plain": [
       "Scoring...:   0%|          | 0/10 [00:00<?, ?it/s]"
      ]
     },
     "metadata": {},
     "output_type": "display_data"
    },
    {
     "name": "stdout",
     "output_type": "stream",
     "text": [
      "train: 0.64318 | val: 0.61748\n"
     ]
    },
    {
     "data": {
      "application/vnd.jupyter.widget-view+json": {
       "model_id": "01863cec470d439390399fdcb4c65e4c",
       "version_major": 2,
       "version_minor": 0
      },
      "text/plain": [
       "  0%|          | 0/1 [00:00<?, ?it/s]"
      ]
     },
     "metadata": {},
     "output_type": "display_data"
    },
    {
     "data": {
      "application/vnd.jupyter.widget-view+json": {
       "model_id": "d35f31d91b9d46e0939ae423123ed93a",
       "version_major": 2,
       "version_minor": 0
      },
      "text/plain": [
       "Scoring...:   0%|          | 0/10 [00:00<?, ?it/s]"
      ]
     },
     "metadata": {},
     "output_type": "display_data"
    },
    {
     "name": "stdout",
     "output_type": "stream",
     "text": [
      "train: 0.62138 | val: 0.60501\n"
     ]
    },
    {
     "data": {
      "application/vnd.jupyter.widget-view+json": {
       "model_id": "284586270a98467481a8bd5994e19546",
       "version_major": 2,
       "version_minor": 0
      },
      "text/plain": [
       "  0%|          | 0/1 [00:00<?, ?it/s]"
      ]
     },
     "metadata": {},
     "output_type": "display_data"
    },
    {
     "data": {
      "application/vnd.jupyter.widget-view+json": {
       "model_id": "0e00eb2fa17442a1befb23ee95d19375",
       "version_major": 2,
       "version_minor": 0
      },
      "text/plain": [
       "Scoring...:   0%|          | 0/10 [00:00<?, ?it/s]"
      ]
     },
     "metadata": {},
     "output_type": "display_data"
    },
    {
     "name": "stdout",
     "output_type": "stream",
     "text": [
      "train: 0.60957 | val: 0.58693\n"
     ]
    },
    {
     "data": {
      "application/vnd.jupyter.widget-view+json": {
       "model_id": "6e0b5e4c857949f9ba324da4a8e952db",
       "version_major": 2,
       "version_minor": 0
      },
      "text/plain": [
       "  0%|          | 0/1 [00:00<?, ?it/s]"
      ]
     },
     "metadata": {},
     "output_type": "display_data"
    },
    {
     "data": {
      "application/vnd.jupyter.widget-view+json": {
       "model_id": "77fe6f362b554aea86aa64ecbe7581b3",
       "version_major": 2,
       "version_minor": 0
      },
      "text/plain": [
       "Scoring...:   0%|          | 0/10 [00:00<?, ?it/s]"
      ]
     },
     "metadata": {},
     "output_type": "display_data"
    },
    {
     "name": "stdout",
     "output_type": "stream",
     "text": [
      "train: 0.59085 | val: 0.57543\n"
     ]
    },
    {
     "data": {
      "application/vnd.jupyter.widget-view+json": {
       "model_id": "36f6bceb9b8a447abc2c00b0d5866af6",
       "version_major": 2,
       "version_minor": 0
      },
      "text/plain": [
       "  0%|          | 0/1 [00:00<?, ?it/s]"
      ]
     },
     "metadata": {},
     "output_type": "display_data"
    },
    {
     "data": {
      "application/vnd.jupyter.widget-view+json": {
       "model_id": "819bb2431ff7492eb14b6bf9ebc95aab",
       "version_major": 2,
       "version_minor": 0
      },
      "text/plain": [
       "Scoring...:   0%|          | 0/10 [00:00<?, ?it/s]"
      ]
     },
     "metadata": {},
     "output_type": "display_data"
    },
    {
     "name": "stdout",
     "output_type": "stream",
     "text": [
      "train: 0.57983 | val: 0.56110\n"
     ]
    },
    {
     "data": {
      "application/vnd.jupyter.widget-view+json": {
       "model_id": "9958b35a2a654f5ca0de2657e59bde7d",
       "version_major": 2,
       "version_minor": 0
      },
      "text/plain": [
       "  0%|          | 0/1 [00:00<?, ?it/s]"
      ]
     },
     "metadata": {},
     "output_type": "display_data"
    },
    {
     "data": {
      "application/vnd.jupyter.widget-view+json": {
       "model_id": "79450f4e011e440088eb40df211de85f",
       "version_major": 2,
       "version_minor": 0
      },
      "text/plain": [
       "Scoring...:   0%|          | 0/10 [00:00<?, ?it/s]"
      ]
     },
     "metadata": {},
     "output_type": "display_data"
    },
    {
     "name": "stdout",
     "output_type": "stream",
     "text": [
      "train: 0.56524 | val: 0.54962\n"
     ]
    },
    {
     "data": {
      "application/vnd.jupyter.widget-view+json": {
       "model_id": "38c6de986de946a2a3d00268cb2cd126",
       "version_major": 2,
       "version_minor": 0
      },
      "text/plain": [
       "  0%|          | 0/1 [00:00<?, ?it/s]"
      ]
     },
     "metadata": {},
     "output_type": "display_data"
    },
    {
     "data": {
      "application/vnd.jupyter.widget-view+json": {
       "model_id": "76c4c5d815f4459e882009ef6d1fb49d",
       "version_major": 2,
       "version_minor": 0
      },
      "text/plain": [
       "Scoring...:   0%|          | 0/10 [00:00<?, ?it/s]"
      ]
     },
     "metadata": {},
     "output_type": "display_data"
    },
    {
     "name": "stdout",
     "output_type": "stream",
     "text": [
      "train: 0.55390 | val: 0.53571\n"
     ]
    },
    {
     "data": {
      "application/vnd.jupyter.widget-view+json": {
       "model_id": "79fdaff6c6de4a79aff1a2a39a96851f",
       "version_major": 2,
       "version_minor": 0
      },
      "text/plain": [
       "  0%|          | 0/1 [00:00<?, ?it/s]"
      ]
     },
     "metadata": {},
     "output_type": "display_data"
    },
    {
     "data": {
      "application/vnd.jupyter.widget-view+json": {
       "model_id": "7cbb64663cf24fd88df617c36f1e4a8e",
       "version_major": 2,
       "version_minor": 0
      },
      "text/plain": [
       "Scoring...:   0%|          | 0/10 [00:00<?, ?it/s]"
      ]
     },
     "metadata": {},
     "output_type": "display_data"
    },
    {
     "name": "stdout",
     "output_type": "stream",
     "text": [
      "train: 0.53988 | val: 0.52369\n"
     ]
    },
    {
     "data": {
      "application/vnd.jupyter.widget-view+json": {
       "model_id": "1ef5dbd5c371482da0452ceea58284c5",
       "version_major": 2,
       "version_minor": 0
      },
      "text/plain": [
       "  0%|          | 0/1 [00:00<?, ?it/s]"
      ]
     },
     "metadata": {},
     "output_type": "display_data"
    },
    {
     "data": {
      "application/vnd.jupyter.widget-view+json": {
       "model_id": "a462c4df4f934616a44eb8ec60177d47",
       "version_major": 2,
       "version_minor": 0
      },
      "text/plain": [
       "Scoring...:   0%|          | 0/10 [00:00<?, ?it/s]"
      ]
     },
     "metadata": {},
     "output_type": "display_data"
    },
    {
     "name": "stdout",
     "output_type": "stream",
     "text": [
      "train: 0.52780 | val: 0.51214\n"
     ]
    },
    {
     "data": {
      "application/vnd.jupyter.widget-view+json": {
       "model_id": "6f13afa29ea04ba1b99f7937b762ef24",
       "version_major": 2,
       "version_minor": 0
      },
      "text/plain": [
       "  0%|          | 0/1 [00:00<?, ?it/s]"
      ]
     },
     "metadata": {},
     "output_type": "display_data"
    },
    {
     "data": {
      "application/vnd.jupyter.widget-view+json": {
       "model_id": "54d80dfeaf8e437aa08adce65f37b3b7",
       "version_major": 2,
       "version_minor": 0
      },
      "text/plain": [
       "Scoring...:   0%|          | 0/10 [00:00<?, ?it/s]"
      ]
     },
     "metadata": {},
     "output_type": "display_data"
    },
    {
     "name": "stdout",
     "output_type": "stream",
     "text": [
      "train: 0.51633 | val: 0.50020\n"
     ]
    },
    {
     "data": {
      "application/vnd.jupyter.widget-view+json": {
       "model_id": "ce391c8c65e64d2bb90f8fa71de0ee06",
       "version_major": 2,
       "version_minor": 0
      },
      "text/plain": [
       "  0%|          | 0/1 [00:00<?, ?it/s]"
      ]
     },
     "metadata": {},
     "output_type": "display_data"
    },
    {
     "data": {
      "application/vnd.jupyter.widget-view+json": {
       "model_id": "14f1832326ba4b98a01faab02796b860",
       "version_major": 2,
       "version_minor": 0
      },
      "text/plain": [
       "Scoring...:   0%|          | 0/10 [00:00<?, ?it/s]"
      ]
     },
     "metadata": {},
     "output_type": "display_data"
    },
    {
     "name": "stdout",
     "output_type": "stream",
     "text": [
      "train: 0.50420 | val: 0.48819\n"
     ]
    },
    {
     "data": {
      "application/vnd.jupyter.widget-view+json": {
       "model_id": "0cbb3ffaa54447488537177a09d1d13f",
       "version_major": 2,
       "version_minor": 0
      },
      "text/plain": [
       "  0%|          | 0/1 [00:00<?, ?it/s]"
      ]
     },
     "metadata": {},
     "output_type": "display_data"
    },
    {
     "data": {
      "application/vnd.jupyter.widget-view+json": {
       "model_id": "111f7b68635b4b6ab446bb57ffe8ef53",
       "version_major": 2,
       "version_minor": 0
      },
      "text/plain": [
       "Scoring...:   0%|          | 0/10 [00:00<?, ?it/s]"
      ]
     },
     "metadata": {},
     "output_type": "display_data"
    },
    {
     "name": "stdout",
     "output_type": "stream",
     "text": [
      "train: 0.49218 | val: 0.47692\n"
     ]
    },
    {
     "data": {
      "application/vnd.jupyter.widget-view+json": {
       "model_id": "70683ada45944f4baee858c7a29095dc",
       "version_major": 2,
       "version_minor": 0
      },
      "text/plain": [
       "  0%|          | 0/1 [00:00<?, ?it/s]"
      ]
     },
     "metadata": {},
     "output_type": "display_data"
    },
    {
     "data": {
      "application/vnd.jupyter.widget-view+json": {
       "model_id": "d0c61595775a463b82c075d5e4c949de",
       "version_major": 2,
       "version_minor": 0
      },
      "text/plain": [
       "Scoring...:   0%|          | 0/10 [00:00<?, ?it/s]"
      ]
     },
     "metadata": {},
     "output_type": "display_data"
    },
    {
     "name": "stdout",
     "output_type": "stream",
     "text": [
      "train: 0.48094 | val: 0.46686\n"
     ]
    },
    {
     "data": {
      "application/vnd.jupyter.widget-view+json": {
       "model_id": "11360ec1207e430db77577ae8dca2c2e",
       "version_major": 2,
       "version_minor": 0
      },
      "text/plain": [
       "  0%|          | 0/1 [00:00<?, ?it/s]"
      ]
     },
     "metadata": {},
     "output_type": "display_data"
    },
    {
     "data": {
      "application/vnd.jupyter.widget-view+json": {
       "model_id": "ed0cf3d4e02140ddb4d9600ceecd2a6f",
       "version_major": 2,
       "version_minor": 0
      },
      "text/plain": [
       "Scoring...:   0%|          | 0/10 [00:00<?, ?it/s]"
      ]
     },
     "metadata": {},
     "output_type": "display_data"
    },
    {
     "name": "stdout",
     "output_type": "stream",
     "text": [
      "train: 0.47084 | val: 0.45519\n"
     ]
    },
    {
     "data": {
      "application/vnd.jupyter.widget-view+json": {
       "model_id": "6bc88f79b786427b8361016a8b9741d9",
       "version_major": 2,
       "version_minor": 0
      },
      "text/plain": [
       "  0%|          | 0/1 [00:00<?, ?it/s]"
      ]
     },
     "metadata": {},
     "output_type": "display_data"
    },
    {
     "data": {
      "application/vnd.jupyter.widget-view+json": {
       "model_id": "9fd1a17037e1443c8ea7a7ca3cfaf5af",
       "version_major": 2,
       "version_minor": 0
      },
      "text/plain": [
       "Scoring...:   0%|          | 0/10 [00:00<?, ?it/s]"
      ]
     },
     "metadata": {},
     "output_type": "display_data"
    },
    {
     "name": "stdout",
     "output_type": "stream",
     "text": [
      "train: 0.45924 | val: 0.44513\n"
     ]
    },
    {
     "data": {
      "application/vnd.jupyter.widget-view+json": {
       "model_id": "09ef2e3304cd4cd391a829d3e6770a41",
       "version_major": 2,
       "version_minor": 0
      },
      "text/plain": [
       "  0%|          | 0/1 [00:00<?, ?it/s]"
      ]
     },
     "metadata": {},
     "output_type": "display_data"
    },
    {
     "data": {
      "application/vnd.jupyter.widget-view+json": {
       "model_id": "c3f7cda06e8340ce905809fa91e5a2ba",
       "version_major": 2,
       "version_minor": 0
      },
      "text/plain": [
       "Scoring...:   0%|          | 0/10 [00:00<?, ?it/s]"
      ]
     },
     "metadata": {},
     "output_type": "display_data"
    },
    {
     "name": "stdout",
     "output_type": "stream",
     "text": [
      "train: 0.44915 | val: 0.43384\n"
     ]
    },
    {
     "data": {
      "application/vnd.jupyter.widget-view+json": {
       "model_id": "3209bbc0e8094bf59466b6b57acbca5a",
       "version_major": 2,
       "version_minor": 0
      },
      "text/plain": [
       "  0%|          | 0/1 [00:00<?, ?it/s]"
      ]
     },
     "metadata": {},
     "output_type": "display_data"
    },
    {
     "data": {
      "application/vnd.jupyter.widget-view+json": {
       "model_id": "deff635395bd4354b9b35a14cebac2ea",
       "version_major": 2,
       "version_minor": 0
      },
      "text/plain": [
       "Scoring...:   0%|          | 0/10 [00:00<?, ?it/s]"
      ]
     },
     "metadata": {},
     "output_type": "display_data"
    },
    {
     "name": "stdout",
     "output_type": "stream",
     "text": [
      "train: 0.43785 | val: 0.42404\n"
     ]
    },
    {
     "data": {
      "application/vnd.jupyter.widget-view+json": {
       "model_id": "1363d4df456f45f99b79654645c68890",
       "version_major": 2,
       "version_minor": 0
      },
      "text/plain": [
       "  0%|          | 0/1 [00:00<?, ?it/s]"
      ]
     },
     "metadata": {},
     "output_type": "display_data"
    },
    {
     "data": {
      "application/vnd.jupyter.widget-view+json": {
       "model_id": "ba6d337dd1eb40afa6eb6b3da35f2201",
       "version_major": 2,
       "version_minor": 0
      },
      "text/plain": [
       "Scoring...:   0%|          | 0/10 [00:00<?, ?it/s]"
      ]
     },
     "metadata": {},
     "output_type": "display_data"
    },
    {
     "name": "stdout",
     "output_type": "stream",
     "text": [
      "train: 0.42816 | val: 0.41426\n"
     ]
    },
    {
     "data": {
      "application/vnd.jupyter.widget-view+json": {
       "model_id": "b79fc914cf8b43c2babe3830b26ca8c4",
       "version_major": 2,
       "version_minor": 0
      },
      "text/plain": [
       "  0%|          | 0/1 [00:00<?, ?it/s]"
      ]
     },
     "metadata": {},
     "output_type": "display_data"
    },
    {
     "data": {
      "application/vnd.jupyter.widget-view+json": {
       "model_id": "0458b14bcb08457494ffc91972c6035c",
       "version_major": 2,
       "version_minor": 0
      },
      "text/plain": [
       "Scoring...:   0%|          | 0/10 [00:00<?, ?it/s]"
      ]
     },
     "metadata": {},
     "output_type": "display_data"
    },
    {
     "name": "stdout",
     "output_type": "stream",
     "text": [
      "train: 0.41831 | val: 0.40330\n"
     ]
    },
    {
     "data": {
      "application/vnd.jupyter.widget-view+json": {
       "model_id": "641e611357cf4fa28c16fb6371c0d213",
       "version_major": 2,
       "version_minor": 0
      },
      "text/plain": [
       "  0%|          | 0/1 [00:00<?, ?it/s]"
      ]
     },
     "metadata": {},
     "output_type": "display_data"
    },
    {
     "data": {
      "application/vnd.jupyter.widget-view+json": {
       "model_id": "4f44c0005aa24aa89a127453804eb3ec",
       "version_major": 2,
       "version_minor": 0
      },
      "text/plain": [
       "Scoring...:   0%|          | 0/10 [00:00<?, ?it/s]"
      ]
     },
     "metadata": {},
     "output_type": "display_data"
    },
    {
     "name": "stdout",
     "output_type": "stream",
     "text": [
      "train: 0.40719 | val: 0.39396\n"
     ]
    },
    {
     "data": {
      "application/vnd.jupyter.widget-view+json": {
       "model_id": "f0985503916845d6871eee23076da577",
       "version_major": 2,
       "version_minor": 0
      },
      "text/plain": [
       "  0%|          | 0/1 [00:00<?, ?it/s]"
      ]
     },
     "metadata": {},
     "output_type": "display_data"
    },
    {
     "data": {
      "application/vnd.jupyter.widget-view+json": {
       "model_id": "7b57b6a3c3924965a2389395e58ba206",
       "version_major": 2,
       "version_minor": 0
      },
      "text/plain": [
       "Scoring...:   0%|          | 0/10 [00:00<?, ?it/s]"
      ]
     },
     "metadata": {},
     "output_type": "display_data"
    },
    {
     "name": "stdout",
     "output_type": "stream",
     "text": [
      "train: 0.39793 | val: 0.38452\n"
     ]
    },
    {
     "data": {
      "application/vnd.jupyter.widget-view+json": {
       "model_id": "426f23ac40314405a2c1b9d762dde53d",
       "version_major": 2,
       "version_minor": 0
      },
      "text/plain": [
       "  0%|          | 0/1 [00:00<?, ?it/s]"
      ]
     },
     "metadata": {},
     "output_type": "display_data"
    },
    {
     "data": {
      "application/vnd.jupyter.widget-view+json": {
       "model_id": "21244ae446614e168975441283f7fb79",
       "version_major": 2,
       "version_minor": 0
      },
      "text/plain": [
       "Scoring...:   0%|          | 0/10 [00:00<?, ?it/s]"
      ]
     },
     "metadata": {},
     "output_type": "display_data"
    },
    {
     "name": "stdout",
     "output_type": "stream",
     "text": [
      "train: 0.38841 | val: 0.37524\n"
     ]
    },
    {
     "data": {
      "application/vnd.jupyter.widget-view+json": {
       "model_id": "0219967e8aa7482bbc86a70e809643d7",
       "version_major": 2,
       "version_minor": 0
      },
      "text/plain": [
       "  0%|          | 0/1 [00:00<?, ?it/s]"
      ]
     },
     "metadata": {},
     "output_type": "display_data"
    },
    {
     "data": {
      "application/vnd.jupyter.widget-view+json": {
       "model_id": "9d7ecc2f5ebf4398bad890229232925a",
       "version_major": 2,
       "version_minor": 0
      },
      "text/plain": [
       "Scoring...:   0%|          | 0/10 [00:00<?, ?it/s]"
      ]
     },
     "metadata": {},
     "output_type": "display_data"
    },
    {
     "name": "stdout",
     "output_type": "stream",
     "text": [
      "train: 0.37917 | val: 0.36594\n"
     ]
    },
    {
     "data": {
      "application/vnd.jupyter.widget-view+json": {
       "model_id": "758be8ab1ed44861a9c508fa59d4bd76",
       "version_major": 2,
       "version_minor": 0
      },
      "text/plain": [
       "  0%|          | 0/1 [00:00<?, ?it/s]"
      ]
     },
     "metadata": {},
     "output_type": "display_data"
    },
    {
     "data": {
      "application/vnd.jupyter.widget-view+json": {
       "model_id": "b882b2202422418f8d465091f5e20f14",
       "version_major": 2,
       "version_minor": 0
      },
      "text/plain": [
       "Scoring...:   0%|          | 0/10 [00:00<?, ?it/s]"
      ]
     },
     "metadata": {},
     "output_type": "display_data"
    },
    {
     "name": "stdout",
     "output_type": "stream",
     "text": [
      "train: 0.36980 | val: 0.35672\n"
     ]
    },
    {
     "data": {
      "application/vnd.jupyter.widget-view+json": {
       "model_id": "472beec7b8584e9d96a238c28069758d",
       "version_major": 2,
       "version_minor": 0
      },
      "text/plain": [
       "  0%|          | 0/1 [00:00<?, ?it/s]"
      ]
     },
     "metadata": {},
     "output_type": "display_data"
    },
    {
     "data": {
      "application/vnd.jupyter.widget-view+json": {
       "model_id": "28a2b327ca1948339460baee97654940",
       "version_major": 2,
       "version_minor": 0
      },
      "text/plain": [
       "Scoring...:   0%|          | 0/10 [00:00<?, ?it/s]"
      ]
     },
     "metadata": {},
     "output_type": "display_data"
    },
    {
     "name": "stdout",
     "output_type": "stream",
     "text": [
      "train: 0.36054 | val: 0.34827\n"
     ]
    },
    {
     "data": {
      "application/vnd.jupyter.widget-view+json": {
       "model_id": "d8d1f95031184c9da49b0ea87adc66d0",
       "version_major": 2,
       "version_minor": 0
      },
      "text/plain": [
       "  0%|          | 0/1 [00:00<?, ?it/s]"
      ]
     },
     "metadata": {},
     "output_type": "display_data"
    },
    {
     "data": {
      "application/vnd.jupyter.widget-view+json": {
       "model_id": "085799818390431ab52985075fc7f217",
       "version_major": 2,
       "version_minor": 0
      },
      "text/plain": [
       "Scoring...:   0%|          | 0/10 [00:00<?, ?it/s]"
      ]
     },
     "metadata": {},
     "output_type": "display_data"
    },
    {
     "name": "stdout",
     "output_type": "stream",
     "text": [
      "train: 0.35203 | val: 0.33949\n"
     ]
    },
    {
     "data": {
      "application/vnd.jupyter.widget-view+json": {
       "model_id": "d23744531b634757b4dbf8751e97de73",
       "version_major": 2,
       "version_minor": 0
      },
      "text/plain": [
       "  0%|          | 0/1 [00:00<?, ?it/s]"
      ]
     },
     "metadata": {},
     "output_type": "display_data"
    },
    {
     "data": {
      "application/vnd.jupyter.widget-view+json": {
       "model_id": "12a7888295024b9dadce7f7a76fcaa23",
       "version_major": 2,
       "version_minor": 0
      },
      "text/plain": [
       "Scoring...:   0%|          | 0/10 [00:00<?, ?it/s]"
      ]
     },
     "metadata": {},
     "output_type": "display_data"
    },
    {
     "name": "stdout",
     "output_type": "stream",
     "text": [
      "train: 0.34323 | val: 0.33111\n"
     ]
    },
    {
     "data": {
      "application/vnd.jupyter.widget-view+json": {
       "model_id": "c4b61a97f5284cba8a2aeb5ebe3d8c36",
       "version_major": 2,
       "version_minor": 0
      },
      "text/plain": [
       "  0%|          | 0/1 [00:00<?, ?it/s]"
      ]
     },
     "metadata": {},
     "output_type": "display_data"
    },
    {
     "data": {
      "application/vnd.jupyter.widget-view+json": {
       "model_id": "f4c709d387954035898720d541ff95ac",
       "version_major": 2,
       "version_minor": 0
      },
      "text/plain": [
       "Scoring...:   0%|          | 0/10 [00:00<?, ?it/s]"
      ]
     },
     "metadata": {},
     "output_type": "display_data"
    },
    {
     "name": "stdout",
     "output_type": "stream",
     "text": [
      "train: 0.33479 | val: 0.32263\n"
     ]
    },
    {
     "data": {
      "application/vnd.jupyter.widget-view+json": {
       "model_id": "42e668efba6b468299c23e85c3ef8bf1",
       "version_major": 2,
       "version_minor": 0
      },
      "text/plain": [
       "  0%|          | 0/1 [00:00<?, ?it/s]"
      ]
     },
     "metadata": {},
     "output_type": "display_data"
    },
    {
     "data": {
      "application/vnd.jupyter.widget-view+json": {
       "model_id": "3c360d0f2cbc422c9552df6e9a25409c",
       "version_major": 2,
       "version_minor": 0
      },
      "text/plain": [
       "Scoring...:   0%|          | 0/10 [00:00<?, ?it/s]"
      ]
     },
     "metadata": {},
     "output_type": "display_data"
    },
    {
     "name": "stdout",
     "output_type": "stream",
     "text": [
      "train: 0.32625 | val: 0.31464\n"
     ]
    },
    {
     "data": {
      "application/vnd.jupyter.widget-view+json": {
       "model_id": "7d556980a38e4c03bd86c7c1455c6a5b",
       "version_major": 2,
       "version_minor": 0
      },
      "text/plain": [
       "  0%|          | 0/1 [00:00<?, ?it/s]"
      ]
     },
     "metadata": {},
     "output_type": "display_data"
    },
    {
     "data": {
      "application/vnd.jupyter.widget-view+json": {
       "model_id": "d8aa373143fa42c68de71fc432c44327",
       "version_major": 2,
       "version_minor": 0
      },
      "text/plain": [
       "Scoring...:   0%|          | 0/10 [00:00<?, ?it/s]"
      ]
     },
     "metadata": {},
     "output_type": "display_data"
    },
    {
     "name": "stdout",
     "output_type": "stream",
     "text": [
      "train: 0.31827 | val: 0.30673\n"
     ]
    },
    {
     "data": {
      "application/vnd.jupyter.widget-view+json": {
       "model_id": "6ee38405e8a64a25a75f4530e8297215",
       "version_major": 2,
       "version_minor": 0
      },
      "text/plain": [
       "  0%|          | 0/1 [00:00<?, ?it/s]"
      ]
     },
     "metadata": {},
     "output_type": "display_data"
    },
    {
     "data": {
      "application/vnd.jupyter.widget-view+json": {
       "model_id": "3cad6bec667e4c6080f259b538bd8789",
       "version_major": 2,
       "version_minor": 0
      },
      "text/plain": [
       "Scoring...:   0%|          | 0/10 [00:00<?, ?it/s]"
      ]
     },
     "metadata": {},
     "output_type": "display_data"
    },
    {
     "name": "stdout",
     "output_type": "stream",
     "text": [
      "train: 0.31031 | val: 0.29873\n"
     ]
    },
    {
     "data": {
      "image/png": "[encoded data removed]",
      "text/plain": [
       "<Figure size 640x480 with 1 Axes>"
      ]
     },
     "metadata": {},
     "output_type": "display_data"
    },
    {
     "data": {
      "application/vnd.jupyter.widget-view+json": {
       "model_id": "5c1b9778629246f9b33612d3281c9fea",
       "version_major": 2,
       "version_minor": 0
      },
      "text/plain": [
       "Scoring...:   0%|          | 0/10 [00:00<?, ?it/s]"
      ]
     },
     "metadata": {},
     "output_type": "display_data"
    },
    {
     "name": "stdout",
     "output_type": "stream",
     "text": [
      "Test 3.a passed\n"
     ]
    }
   ],
   "source": [
    "def overfit_one_batch_check():\n",
    "    # Для проверки работоспособности кода обучения удоно использовать тест модели на overfit \n",
    "    # Для этого запускается обучение на одном батче данных. \n",
    "    # Если код написан правильно, то модель обязана выучить все примеры из этого батча наизусть. \n",
    "    fe = FeatureExtractor(spec_aug_max_fmask=0)\n",
    "    train_dataset = FeatsPhoneDataset('timit/data/TEST/DR1/FAKS0', feature_extractor=fe, phone2id=PHONE2ID)\n",
    "    \n",
    "    train_dataloader = torch.utils.data.DataLoader(train_dataset, batch_size=32, collate_fn=train_dataset.collate_pad)\n",
    "    test_dataloader = torch.utils.data.DataLoader(train_dataset, batch_size=1, collate_fn=train_dataset.collate_pad)\n",
    "\n",
    "    trainer = Trainer(model=AModel(feats_dim=fe.feats_dim, \n",
    "                                   out_dim=max(PHONE2ID.values()) + 1,  \n",
    "                                   dim=256, \n",
    "                                   num_layers=6, \n",
    "                                   ff_dim=512, \n",
    "                                   dropout=0.0, \n",
    "                                   nhead=8), \n",
    "                      fe=fe, \n",
    "                      phone2id=PHONE2ID, device='cuda')\n",
    "   \n",
    "    # only one batch. The model must learn it by heart\n",
    "    losses, val_losses = trainer.fit(train_dataloader, 160, valid_dataloader=test_dataloader, plot_losses=False)\n",
    "\n",
    "    trainer.plot_losses(losses, val_losses)\n",
    "\n",
    "    val_loss = np.mean(trainer.score(test_dataloader))\n",
    "    \n",
    "    assert val_loss < 0.5, f\"{val_loss}. Model doesn't train well\" \n",
    "    print(f\"Test 3.a passed\")\n",
    "overfit_one_batch_check()"
   ]
  },
  {
   "cell_type": "code",
   "execution_count": 16,
   "metadata": {},
   "outputs": [
    {
     "data": {
      "image/png": "[encoded data removed]",
      "text/plain": [
       "<Figure size 640x480 with 1 Axes>"
      ]
     },
     "metadata": {},
     "output_type": "display_data"
    }
   ],
   "source": [
    "def experiment(num_layers=8, dim=256, dropout=0.2, ff_dim=512, max_len=780):\n",
    "    # Запуск полноценного обучения модели\n",
    "    # TODO: Тюнинг гиперпараметров\n",
    "    fe = FeatureExtractor()\n",
    "    test_dataset = FeatsPhoneDataset('timit/data/TEST/', feature_extractor=fe, phone2id=PHONE2ID)\n",
    "    train_dataset = FeatsPhoneDataset('timit/data/TRAIN/', feature_extractor=fe, phone2id=PHONE2ID)\n",
    "    train_dataloader = torch.utils.data.DataLoader(train_dataset, batch_size=8, \n",
    "                                               num_workers=4, collate_fn=train_dataset.collate_pad, shuffle=True)\n",
    "    test_dataloader = torch.utils.data.DataLoader(test_dataset, batch_size=1, \n",
    "                                               num_workers=4, collate_fn=test_dataset.collate_pad, shuffle=False)\n",
    "\n",
    "    trainer = Trainer(model=AModel(feats_dim=fe.feats_dim, \n",
    "                                 out_dim=max(PHONE2ID.values())+1, \n",
    "                                 dim=dim, \n",
    "                                 num_layers=num_layers, \n",
    "                                 ff_dim=ff_dim, \n",
    "                                 dropout=dropout, \n",
    "                                 nhead=8,\n",
    "                                 max_len=max_len),\n",
    "                     fe=fe,\n",
    "                     phone2id=PHONE2ID, device='cuda')\n",
    "\n",
    "    trainer.fit(train_dataloader, epochs=50, valid_dataloader=test_dataloader, plot_losses=True)\n",
    "    return trainer.to('cpu')\n",
    "\n",
    "results = experiment()"
   ]
  },
  {
   "cell_type": "code",
   "execution_count": 17,
   "id": "ca82fb7a-38f9-4618-9030-aabdd62a3339",
   "metadata": {},
   "outputs": [],
   "source": [
    "torch.save(results, 'baseline.trainer')"
   ]
  },
  {
   "cell_type": "markdown",
   "id": "29df28a9-24e8-405a-ab07-7acef7036a13",
   "metadata": {},
   "source": [
    "# Основное задание (12 баллов)\n",
    "Надо улучшить бейзлайн так, чтобы значение loss на валидации было менее 1.9 \n",
    "\n",
    "**Дополнительное задание** (4 балла): Улучшите loss до 1.4 "
   ]
  },
  {
   "cell_type": "code",
   "execution_count": 18,
   "id": "9a0aa4fd-fb40-43f3-915b-e8f2a447fad0",
   "metadata": {},
   "outputs": [
    {
     "name": "stdout",
     "output_type": "stream",
     "text": [
      "Found 1680 utterances in timit/data/TEST/.  1680 wavs,  1680 texts,  1680 word alinments,  1680 phone alignments\n"
     ]
    },
    {
     "data": {
      "application/vnd.jupyter.widget-view+json": {
       "model_id": "681e1647be6b4866a9382c5ef2e17cad",
       "version_major": 2,
       "version_minor": 0
      },
      "text/plain": [
       "Scoring...:   0%|          | 0/1680 [00:00<?, ?it/s]"
      ]
     },
     "metadata": {},
     "output_type": "display_data"
    },
    {
     "name": "stderr",
     "output_type": "stream",
     "text": [
      "/tmp/ipykernel_178447/1192423107.py:40: UserWarning: To copy construct from a tensor, it is recommended to use sourceTensor.clone().detach() or sourceTensor.clone().detach().requires_grad_(True), rather than torch.tensor(sourceTensor).\n",
      "  feats = [torch.tensor(item['feats']) for item in batch]\n",
      "/tmp/ipykernel_178447/1192423107.py:43: UserWarning: To copy construct from a tensor, it is recommended to use sourceTensor.clone().detach() or sourceTensor.clone().detach().requires_grad_(True), rather than torch.tensor(sourceTensor).\n",
      "  targets = torch.cat([torch.tensor(item['targets']) for item in batch])\n"
     ]
    },
    {
     "name": "stdout",
     "output_type": "stream",
     "text": [
      "Test loss is 1.3284249914543969\n",
      "Main task is done! (12 points)\n",
      "Additional task is done! (+4 points)\n"
     ]
    }
   ],
   "source": [
    "def test_trained_model(trainer):\n",
    "    test_dataset = FeatsPhoneDataset('timit/data/TEST/', feature_extractor=trainer.fe, phone2id=trainer.phone2id)\n",
    "    test_dataloader = torch.utils.data.DataLoader(test_dataset, batch_size=1, \n",
    "                                               num_workers=0, collate_fn=test_dataset.collate_pad, shuffle=False)\n",
    "    loss = np.mean(trainer.score(test_dataloader))\n",
    "    print(f\"Test loss is {loss}\")\n",
    "    assert loss < 1.9, \"Main task failed\"\n",
    "    print(f\"Main task is done! (12 points)\")\n",
    "    if loss <= 1.4:\n",
    "        print(f\"Additional task is done! (+4 points)\")\n",
    "test_trained_model(results.to('cuda'))"
   ]
  }
 ],
 "metadata": {
  "kernelspec": {
   "display_name": "Python 3 (ipykernel)",
   "language": "python",
   "name": "python3"
  },
  "language_info": {
   "codemirror_mode": {
    "name": "ipython",
    "version": 3
   },
   "file_extension": ".py",
   "mimetype": "text/x-python",
   "name": "python",
   "nbconvert_exporter": "python",
   "pygments_lexer": "ipython3",
   "version": "3.10.12"
  }
 },
 "nbformat": 4,
 "nbformat_minor": 5
}
